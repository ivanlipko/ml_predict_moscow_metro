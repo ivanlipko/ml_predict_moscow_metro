{
 "cells": [
  {
   "cell_type": "markdown",
   "metadata": {},
   "source": [
    "**Идея решения**\n",
    "\n",
    "1. Есть два подавляюще больших класса ,которые надо предсказывать. Поэтому отсекаем количество данных менье 15К\n",
    "\n",
    "Бустинг не зашёл"
   ]
  },
  {
   "cell_type": "markdown",
   "metadata": {},
   "source": [
    "Описание столбцов для train и test:\n",
    "● id -  уникальный идентификатор столбца;\n",
    "\n",
    "● ticket_id - уникальный идентификатор билета, считается, что у одного\n",
    "билета один владелец\n",
    "\n",
    "● ticket_type_nm - тип билета\n",
    "\n",
    "● entrance_id - уникальный id входа в станцию\n",
    "\n",
    "● entrance_nm -  название\n",
    "\n",
    "● station_id - уникальное id станции захода\n",
    "\n",
    "● station_nm - наименование станции захода\n",
    "\n",
    "● line_id - уникальный id ветки на, которой находится станция\n",
    "\n",
    "● line_nm - наименование ветки, на которой находится станция\n",
    "\n",
    "● pass_dttm - дата валидации\n",
    "\n",
    "● time_to_under (столбец для предсказания) - сколько времени прошло\n",
    "между первой и второй валидацией\n",
    "\n",
    "● label (столбец для предсказания) -  id второй станции, на которой\n",
    "произошла валидация\n"
   ]
  },
  {
   "cell_type": "markdown",
   "metadata": {
    "id": "fnE1_J-4dhSR"
   },
   "source": [
    "## Загрузим нужные библиотеки"
   ]
  },
  {
   "cell_type": "code",
   "execution_count": 1,
   "metadata": {
    "id": "uaKzqUxsdjDa"
   },
   "outputs": [],
   "source": [
    "import pandas as pd\n",
    "import numpy as np\n",
    "import seaborn as sns\n",
    "import matplotlib.pyplot as plt\n",
    "from sklearn.model_selection import train_test_split\n",
    "from sklearn.ensemble import RandomForestClassifier, RandomForestRegressor\n",
    "from sklearn.model_selection import cross_validate\n",
    "\n",
    "\n",
    "%matplotlib inline\n",
    "\n",
    "import lightgbm as lgb\n",
    "\n",
    "\n",
    "from sklearn.model_selection import learning_curve\n",
    "\n",
    "def plot_learning_curve(estimator, title, X, y, scoring=None, ylim=None, cv=None,\n",
    "                        n_jobs=None, train_sizes=np.linspace(.1, 1.0, 5)):\n",
    "    \"\"\"\n",
    "    Generate a simple plot of the test and training learning curve.\n",
    "\n",
    "    Parameters\n",
    "    ----------\n",
    "    estimator : object type that implements the \"fit\" and \"predict\" methods\n",
    "        An object of that type which is cloned for each validation.\n",
    "\n",
    "    title : string\n",
    "        Title for the chart.\n",
    "\n",
    "    X : array-like, shape (n_samples, n_features)\n",
    "        Training vector, where n_samples is the number of samples and\n",
    "        n_features is the number of features.\n",
    "\n",
    "    y : array-like, shape (n_samples) or (n_samples, n_features), optional\n",
    "        Target relative to X for classification or regression;\n",
    "        None for unsupervised learning.\n",
    "\n",
    "    ylim : tuple, shape (ymin, ymax), optional\n",
    "        Defines minimum and maximum yvalues plotted.\n",
    "\n",
    "    cv : int, cross-validation generator or an iterable, optional\n",
    "        Determines the cross-validation splitting strategy.\n",
    "        Possible inputs for cv are:\n",
    "          - None, to use the default 3-fold cross-validation,\n",
    "          - integer, to specify the number of folds.\n",
    "          - :term:`CV splitter`,\n",
    "          - An iterable yielding (train, test) splits as arrays of indices.\n",
    "\n",
    "        For integer/None inputs, if ``y`` is binary or multiclass,\n",
    "        :class:`StratifiedKFold` used. If the estimator is not a classifier\n",
    "        or if ``y`` is neither binary nor multiclass, :class:`KFold` is used.\n",
    "\n",
    "        Refer :ref:`User Guide <cross_validation>` for the various\n",
    "        cross-validators that can be used here.\n",
    "\n",
    "    n_jobs : int or None, optional (default=None)\n",
    "        Number of jobs to run in parallel.\n",
    "        ``None`` means 1 unless in a :obj:`joblib.parallel_backend` context.\n",
    "        ``-1`` means using all processors. See :term:`Glossary <n_jobs>`\n",
    "        for more details.\n",
    "\n",
    "    train_sizes : array-like, shape (n_ticks,), dtype float or int\n",
    "        Relative or absolute numbers of training examples that will be used to\n",
    "        generate the learning curve. If the dtype is float, it is regarded as a\n",
    "        fraction of the maximum size of the training set (that is determined\n",
    "        by the selected validation method), i.e. it has to be within (0, 1].\n",
    "        Otherwise it is interpreted as absolute sizes of the training sets.\n",
    "        Note that for classification the number of samples usually have to\n",
    "        be big enough to contain at least one sample from each class.\n",
    "        (default: np.linspace(0.1, 1.0, 5))\n",
    "    \"\"\"\n",
    "    plt.figure()\n",
    "    plt.title(title)\n",
    "    if ylim is not None:\n",
    "        plt.ylim(*ylim)\n",
    "    plt.xlabel(\"Training examples\")\n",
    "    plt.ylabel(\"Score\")\n",
    "    train_sizes, train_scores, test_scores = learning_curve(\n",
    "        estimator, X, y, cv=cv, n_jobs=n_jobs, train_sizes=train_sizes, scoring=scoring)\n",
    "    train_scores_mean = np.mean(train_scores, axis=1)\n",
    "    train_scores_std = np.std(train_scores, axis=1)\n",
    "    test_scores_mean = np.mean(test_scores, axis=1)\n",
    "    test_scores_std = np.std(test_scores, axis=1)\n",
    "    plt.grid()\n",
    "\n",
    "    plt.fill_between(train_sizes, train_scores_mean - train_scores_std,\n",
    "                     train_scores_mean + train_scores_std, alpha=0.1,\n",
    "                     color=\"r\")\n",
    "    plt.fill_between(train_sizes, test_scores_mean - test_scores_std,\n",
    "                     test_scores_mean + test_scores_std, alpha=0.1, color=\"g\")\n",
    "    plt.plot(train_sizes, train_scores_mean, 'o-', color=\"r\",\n",
    "             label=\"Training score\")\n",
    "    plt.plot(train_sizes, test_scores_mean, 'o-', color=\"g\",\n",
    "             label=\"Cross-validation score\")\n",
    "\n",
    "    plt.legend(loc=\"best\")\n",
    "    return plt\n",
    "\n",
    "\n",
    "# plot_learning_curve(clf, '--', X.values, y['label'].values, cv=3, n_jobs=-1, scoring='recall_macro')\n",
    "\n"
   ]
  },
  {
   "cell_type": "code",
   "execution_count": 2,
   "metadata": {},
   "outputs": [],
   "source": [
    "def modifydata(df, val = None):\n",
    "#     id not a feature. Test and train имеют разные Идшники, поэтому там ерунду будет прогнозить\n",
    "    id_col = df['id'].copy()\n",
    "    df = df.drop(\"id\", axis=1)\n",
    "\n",
    "    \n",
    "#     Сделаем категорию **\"ticket_type_nm\"** ранговой \n",
    "    df[\"ticket_type_nm\"] = pd.Categorical(df[\"ticket_type_nm\"])\n",
    "    df[\"ticket_type_nm\"].astype('category').cat.codes\n",
    "    df[\"ticket_type_nm\"] = df[\"ticket_type_nm\"].cat.codes\n",
    "    \n",
    "#     Видоизменим категорию \"pass_dttm\"\n",
    "    df[\"day\"] = df.pass_dttm.map(lambda x: int(x.split(\"-\")[2].split(\" \")[0]))\n",
    "    df[\"hours\"] = df.pass_dttm.map(lambda x: int(x.split(\"-\")[2].split(\" \")[1].split(\":\")[0]))\n",
    "\n",
    "#     Меняем типы, чтобы уменьшить объём занимаемой памяти:\n",
    "    df['hours'] = df['hours'].astype('int8')\n",
    "    df['day'] = df['day'].astype('int8')\n",
    "    df['line_id'] = df['line_id'].astype('int8')\n",
    "    df['ticket_type_nm'] = df['ticket_type_nm'].astype('int8')\n",
    "    df['entrance_id'] = df['entrance_id'].astype('int16')\n",
    "    df['entrance_id'] = df['entrance_id'].astype('int16')\n",
    "\n",
    "    df['time'] = pd.to_datetime(df['pass_dttm'])\n",
    "    df['time_isweekend'] = (df['time'].dt.dayofweek // 5 == 1).astype('int8')\n",
    "    df['time_dayofweek'] = df['time'].dt.dayofweek.astype('int8')\n",
    "\n",
    "#     df = df[df[\"time_to_under\"] < 900]   # для классификации надо чтобы были все данные. Для регрессии не важно\n",
    "\n",
    "    if 'label' in df.columns:\n",
    "# классы, которые полохо класифицируются\n",
    "        temp = df[\"label\"].value_counts() < val \n",
    "        bad_classes = temp.index[temp.values]\n",
    "\n",
    "        is_bad_classes = df['label'].isin(bad_classes)\n",
    "        df_bad_classes = df.drop( df[ ~is_bad_classes].index)\n",
    "        df_good_classes = df.drop( df[is_bad_classes].index)\n",
    "#         df_bad_classes = df.drop( df[ ~is_bad_classes].index)\n",
    "\n",
    "        return df, df_bad_classes, df_good_classes, id_col\n",
    "    \n",
    "    else:\n",
    "        return df, id_col\n",
    "    \n",
    "\n",
    "\n",
    "def getFeaturesAndOutput(df):\n",
    "    if 'time_to_under' in df.columns:\n",
    "        X = df.drop([\"ticket_id\", \"entrance_nm\", \"station_nm\", \"line_nm\", \"pass_dttm\", \"label\",\"time_to_under\", 'time'], axis = 1)\n",
    "        y = df[[\"time_to_under\", \"label\"]]\n",
    "        return X,y\n",
    "    else:\n",
    "        X = valid.drop([\"ticket_id\", \"entrance_nm\", \"station_nm\", \"line_nm\", \"pass_dttm\", 'time'], axis = 1)\n",
    "        return X"
   ]
  },
  {
   "cell_type": "code",
   "execution_count": 3,
   "metadata": {},
   "outputs": [],
   "source": [
    "def modifydata2(df, val = None):\n",
    "#     id not a feature. Test and train имеют разные Идшники, поэтому там ерунду будет прогнозить\n",
    "    id_col = df['id'].copy()\n",
    "    df = df.drop(\"id\", axis=1)\n",
    "\n",
    "    \n",
    "#     Сделаем категорию **\"ticket_type_nm\"** ранговой \n",
    "    df[\"ticket_type_nm\"] = pd.Categorical(df[\"ticket_type_nm\"])\n",
    "    df[\"ticket_type_nm\"].astype('category').cat.codes\n",
    "    df[\"ticket_type_nm\"] = df[\"ticket_type_nm\"].cat.codes\n",
    "    \n",
    "#     Видоизменим категорию \"pass_dttm\"\n",
    "    df[\"day\"] = df.pass_dttm.map(lambda x: int(x.split(\"-\")[2].split(\" \")[0]))\n",
    "    df[\"hours\"] = df.pass_dttm.map(lambda x: int(x.split(\"-\")[2].split(\" \")[1].split(\":\")[0]))\n",
    "\n",
    "#     Меняем типы, чтобы уменьшить объём занимаемой памяти:\n",
    "    df['hours'] = df['hours'].astype('int8')\n",
    "    df['day'] = df['day'].astype('int8')\n",
    "    df['line_id'] = df['line_id'].astype('int8')\n",
    "    df['ticket_type_nm'] = df['ticket_type_nm'].astype('int8')\n",
    "    df['entrance_id'] = df['entrance_id'].astype('int16')\n",
    "    df['entrance_id'] = df['entrance_id'].astype('int16')\n",
    "\n",
    "    df['time'] = pd.to_datetime(df['pass_dttm'])\n",
    "    df['time_isweekend'] = (df['time'].dt.dayofweek // 5 == 1).astype('int8')\n",
    "    df['time_dayofweek'] = df['time'].dt.dayofweek.astype('int8')\n",
    "\n",
    "#     df = df[df[\"time_to_under\"] < 900]   # для классификации надо чтобы были все данные. Для регрессии не важно\n",
    "\n",
    "    if 'label' in df.columns:\n",
    "        # классы, которые полохо класифицируются\n",
    "        temp = df[\"label\"].value_counts() < val \n",
    "        bad_classes = temp.index[temp.values]\n",
    "\n",
    "        is_bad_classes = df['label'].isin(bad_classes)\n",
    "        df_bad_classes = df.drop( df[ ~is_bad_classes].index)\n",
    "        df_good_classes = df.drop( df[is_bad_classes].index)\n",
    "\n",
    "        df_good_classes_fulldata = df.copy()\n",
    "        df_good_classes_fulldata['newlabel'] = df_good_classes_fulldata['label']\n",
    "        df_good_classes_fulldata.loc[is_bad_classes.values, 'newlabel'] = -1\n",
    "\n",
    "        return df, df_bad_classes, df_good_classes, id_col, df_good_classes_fulldata\n",
    "    \n",
    "    else:\n",
    "        return df, id_col   \n",
    "\n",
    "\n",
    "def get_random_classes(df, nskip, nclasses, nlen, seed):\n",
    "    # nskip, nclasses, nlen, seed = 2,10,100,13\n",
    "    np.random.seed(seed)\n",
    "    cs = np.cumsum(df[\"label\"].value_counts()[nskip:nclasses].values)\n",
    "    val = np.random.randint(1, cs[-1], size=nlen)\n",
    "\n",
    "    keys = df[\"label\"].value_counts()[nskip:nclasses].index\n",
    "\n",
    "    ans = []\n",
    "    for i in range(nlen):\n",
    "        for j in range(len(cs)-1):\n",
    "    #         print(val[i], cs[j], cs[j+1])\n",
    "            if (val[i] > cs[j]) & (val[i] < cs[j+1]):\n",
    "                ans.append(keys[j])\n",
    "    return ans\n",
    "\n",
    "# temp = get_random_classes(df, 2, 30, df.shape[0], 13)"
   ]
  },
  {
   "cell_type": "code",
   "execution_count": null,
   "metadata": {},
   "outputs": [],
   "source": []
  },
  {
   "cell_type": "code",
   "execution_count": null,
   "metadata": {},
   "outputs": [],
   "source": []
  },
  {
   "cell_type": "markdown",
   "metadata": {},
   "source": [
    "##  подгрузка данных"
   ]
  },
  {
   "cell_type": "code",
   "execution_count": 4,
   "metadata": {
    "id": "2scLoULoXkT0"
   },
   "outputs": [
    {
     "name": "stdout",
     "output_type": "stream",
     "text": [
      "(0, 16) (1091021, 16) (1091021, 16)\n"
     ]
    }
   ],
   "source": [
    "# df = pd.read_csv(\"./train_dataset_train.csv\", nrows = 100000)\n",
    "df = pd.read_csv(\"./train_dataset_train.csv\")\n",
    "valid = pd.read_csv(\"./test_dataset_test.csv\")\n",
    "\n",
    "df, df_bad_classes, df_good_classes, id_col = modifydata(df, None)\n",
    "valid, _ = modifydata(valid, None)\n",
    "\n",
    "print(df_bad_classes.shape, df_good_classes.shape, df.shape)"
   ]
  },
  {
   "cell_type": "markdown",
   "metadata": {
    "id": "WcxAsO_Md05t"
   },
   "source": [
    "## Рассмотрим датасет по ближе"
   ]
  },
  {
   "cell_type": "code",
   "execution_count": 89,
   "metadata": {
    "colab": {
     "base_uri": "https://localhost:8080/",
     "height": 260
    },
    "id": "I16XfuOpXwIy",
    "outputId": "f39e62c8-ddc7-4337-9c83-023543ef5da8"
   },
   "outputs": [
    {
     "data": {
      "text/html": [
       "<div>\n",
       "<style scoped>\n",
       "    .dataframe tbody tr th:only-of-type {\n",
       "        vertical-align: middle;\n",
       "    }\n",
       "\n",
       "    .dataframe tbody tr th {\n",
       "        vertical-align: top;\n",
       "    }\n",
       "\n",
       "    .dataframe thead th {\n",
       "        text-align: right;\n",
       "    }\n",
       "</style>\n",
       "<table border=\"1\" class=\"dataframe\">\n",
       "  <thead>\n",
       "    <tr style=\"text-align: right;\">\n",
       "      <th></th>\n",
       "      <th>ticket_id</th>\n",
       "      <th>ticket_type_nm</th>\n",
       "      <th>entrance_id</th>\n",
       "      <th>entrance_nm</th>\n",
       "      <th>station_id</th>\n",
       "      <th>station_nm</th>\n",
       "      <th>line_id</th>\n",
       "      <th>line_nm</th>\n",
       "      <th>pass_dttm</th>\n",
       "      <th>time_to_under</th>\n",
       "      <th>label</th>\n",
       "      <th>day</th>\n",
       "      <th>hours</th>\n",
       "      <th>time</th>\n",
       "      <th>time_isweekend</th>\n",
       "      <th>time_dayofweek</th>\n",
       "    </tr>\n",
       "  </thead>\n",
       "  <tbody>\n",
       "    <tr>\n",
       "      <th>0</th>\n",
       "      <td>40BD89EC85646EFB69E283F39C298E60</td>\n",
       "      <td>40</td>\n",
       "      <td>2402</td>\n",
       "      <td>Лефортово БКЛ</td>\n",
       "      <td>11007</td>\n",
       "      <td>Лефортово</td>\n",
       "      <td>11</td>\n",
       "      <td>Большая кольцевая</td>\n",
       "      <td>2022-09-12 05:00:13</td>\n",
       "      <td>216.316667</td>\n",
       "      <td>8001</td>\n",
       "      <td>12</td>\n",
       "      <td>5</td>\n",
       "      <td>2022-09-12 05:00:13</td>\n",
       "      <td>0</td>\n",
       "      <td>0</td>\n",
       "    </tr>\n",
       "    <tr>\n",
       "      <th>1</th>\n",
       "      <td>126727A96489CC976A8C08E5CEB00542</td>\n",
       "      <td>53</td>\n",
       "      <td>110</td>\n",
       "      <td>Войковская ( Южный )</td>\n",
       "      <td>2006</td>\n",
       "      <td>Войковская</td>\n",
       "      <td>2</td>\n",
       "      <td>Замоскворецкая</td>\n",
       "      <td>2022-09-12 05:00:54</td>\n",
       "      <td>648.183333</td>\n",
       "      <td>9011</td>\n",
       "      <td>12</td>\n",
       "      <td>5</td>\n",
       "      <td>2022-09-12 05:00:54</td>\n",
       "      <td>0</td>\n",
       "      <td>0</td>\n",
       "    </tr>\n",
       "    <tr>\n",
       "      <th>2</th>\n",
       "      <td>D28CE6A9E0E5B6D213470A97CFF32485</td>\n",
       "      <td>26</td>\n",
       "      <td>110</td>\n",
       "      <td>Войковская ( Южный )</td>\n",
       "      <td>2006</td>\n",
       "      <td>Войковская</td>\n",
       "      <td>2</td>\n",
       "      <td>Замоскворецкая</td>\n",
       "      <td>2022-09-12 05:00:55</td>\n",
       "      <td>865.333333</td>\n",
       "      <td>7022</td>\n",
       "      <td>12</td>\n",
       "      <td>5</td>\n",
       "      <td>2022-09-12 05:00:55</td>\n",
       "      <td>0</td>\n",
       "      <td>0</td>\n",
       "    </tr>\n",
       "  </tbody>\n",
       "</table>\n",
       "</div>"
      ],
      "text/plain": [
       "                          ticket_id  ticket_type_nm  entrance_id  \\\n",
       "0  40BD89EC85646EFB69E283F39C298E60              40         2402   \n",
       "1  126727A96489CC976A8C08E5CEB00542              53          110   \n",
       "2  D28CE6A9E0E5B6D213470A97CFF32485              26          110   \n",
       "\n",
       "            entrance_nm  station_id  station_nm  line_id            line_nm  \\\n",
       "0         Лефортово БКЛ       11007   Лефортово       11  Большая кольцевая   \n",
       "1  Войковская ( Южный )        2006  Войковская        2     Замоскворецкая   \n",
       "2  Войковская ( Южный )        2006  Войковская        2     Замоскворецкая   \n",
       "\n",
       "             pass_dttm  time_to_under  label  day  hours                time  \\\n",
       "0  2022-09-12 05:00:13     216.316667   8001   12      5 2022-09-12 05:00:13   \n",
       "1  2022-09-12 05:00:54     648.183333   9011   12      5 2022-09-12 05:00:54   \n",
       "2  2022-09-12 05:00:55     865.333333   7022   12      5 2022-09-12 05:00:55   \n",
       "\n",
       "   time_isweekend  time_dayofweek  \n",
       "0               0               0  \n",
       "1               0               0  \n",
       "2               0               0  "
      ]
     },
     "execution_count": 89,
     "metadata": {},
     "output_type": "execute_result"
    }
   ],
   "source": [
    "df.head(3)"
   ]
  },
  {
   "cell_type": "code",
   "execution_count": 6,
   "metadata": {
    "colab": {
     "base_uri": "https://localhost:8080/"
    },
    "id": "czcOBmDFduKQ",
    "outputId": "49609192-d4dc-485f-e171-b6cc9096baaa",
    "scrolled": false
   },
   "outputs": [
    {
     "name": "stdout",
     "output_type": "stream",
     "text": [
      "<class 'pandas.core.frame.DataFrame'>\n",
      "Int64Index: 1074830 entries, 0 to 1091020\n",
      "Data columns (total 17 columns):\n",
      " #   Column          Non-Null Count    Dtype         \n",
      "---  ------          --------------    -----         \n",
      " 0   id              1074830 non-null  int64         \n",
      " 1   ticket_id       1074830 non-null  object        \n",
      " 2   ticket_type_nm  1074830 non-null  int8          \n",
      " 3   entrance_id     1074830 non-null  int16         \n",
      " 4   entrance_nm     1074830 non-null  object        \n",
      " 5   station_id      1074830 non-null  int64         \n",
      " 6   station_nm      1074830 non-null  object        \n",
      " 7   line_id         1074830 non-null  int8          \n",
      " 8   line_nm         1074830 non-null  object        \n",
      " 9   pass_dttm       1074830 non-null  object        \n",
      " 10  time_to_under   1074830 non-null  float64       \n",
      " 11  label           1074830 non-null  int64         \n",
      " 12  day             1074830 non-null  int8          \n",
      " 13  hours           1074830 non-null  int8          \n",
      " 14  time            1074830 non-null  datetime64[ns]\n",
      " 15  time_isweekend  1074830 non-null  int8          \n",
      " 16  time_dayofweek  1074830 non-null  int8          \n",
      "dtypes: datetime64[ns](1), float64(1), int16(1), int64(3), int8(6), object(5)\n",
      "memory usage: 98.4+ MB\n"
     ]
    }
   ],
   "source": [
    "df.info()"
   ]
  },
  {
   "cell_type": "code",
   "execution_count": 7,
   "metadata": {},
   "outputs": [
    {
     "data": {
      "text/html": [
       "<div>\n",
       "<style scoped>\n",
       "    .dataframe tbody tr th:only-of-type {\n",
       "        vertical-align: middle;\n",
       "    }\n",
       "\n",
       "    .dataframe tbody tr th {\n",
       "        vertical-align: top;\n",
       "    }\n",
       "\n",
       "    .dataframe thead th {\n",
       "        text-align: right;\n",
       "    }\n",
       "</style>\n",
       "<table border=\"1\" class=\"dataframe\">\n",
       "  <thead>\n",
       "    <tr style=\"text-align: right;\">\n",
       "      <th></th>\n",
       "      <th>id</th>\n",
       "      <th>ticket_type_nm</th>\n",
       "      <th>entrance_id</th>\n",
       "      <th>station_id</th>\n",
       "      <th>line_id</th>\n",
       "      <th>time_to_under</th>\n",
       "      <th>label</th>\n",
       "      <th>day</th>\n",
       "      <th>hours</th>\n",
       "      <th>time_isweekend</th>\n",
       "      <th>time_dayofweek</th>\n",
       "    </tr>\n",
       "  </thead>\n",
       "  <tbody>\n",
       "    <tr>\n",
       "      <th>count</th>\n",
       "      <td>1.074830e+06</td>\n",
       "      <td>1.074830e+06</td>\n",
       "      <td>1.074830e+06</td>\n",
       "      <td>1.074830e+06</td>\n",
       "      <td>1.074830e+06</td>\n",
       "      <td>1.074830e+06</td>\n",
       "      <td>1.074830e+06</td>\n",
       "      <td>1.074830e+06</td>\n",
       "      <td>1.074830e+06</td>\n",
       "      <td>1.074830e+06</td>\n",
       "      <td>1.074830e+06</td>\n",
       "    </tr>\n",
       "    <tr>\n",
       "      <th>mean</th>\n",
       "      <td>5.459673e+05</td>\n",
       "      <td>2.580051e+01</td>\n",
       "      <td>8.596997e+02</td>\n",
       "      <td>8.602768e+03</td>\n",
       "      <td>8.591321e+00</td>\n",
       "      <td>5.033546e+02</td>\n",
       "      <td>7.722615e+03</td>\n",
       "      <td>1.479729e+01</td>\n",
       "      <td>9.361641e+00</td>\n",
       "      <td>2.350604e-01</td>\n",
       "      <td>2.795979e+00</td>\n",
       "    </tr>\n",
       "    <tr>\n",
       "      <th>std</th>\n",
       "      <td>3.150992e+05</td>\n",
       "      <td>1.951754e+01</td>\n",
       "      <td>9.009391e+02</td>\n",
       "      <td>1.247817e+04</td>\n",
       "      <td>1.247842e+01</td>\n",
       "      <td>2.268707e+02</td>\n",
       "      <td>1.167184e+04</td>\n",
       "      <td>1.942422e+00</td>\n",
       "      <td>3.360137e+00</td>\n",
       "      <td>4.240368e-01</td>\n",
       "      <td>1.941946e+00</td>\n",
       "    </tr>\n",
       "    <tr>\n",
       "      <th>min</th>\n",
       "      <td>1.000000e+00</td>\n",
       "      <td>0.000000e+00</td>\n",
       "      <td>2.000000e+01</td>\n",
       "      <td>1.002000e+03</td>\n",
       "      <td>1.000000e+00</td>\n",
       "      <td>3.001667e+01</td>\n",
       "      <td>1.002000e+03</td>\n",
       "      <td>1.200000e+01</td>\n",
       "      <td>0.000000e+00</td>\n",
       "      <td>0.000000e+00</td>\n",
       "      <td>0.000000e+00</td>\n",
       "    </tr>\n",
       "    <tr>\n",
       "      <th>25%</th>\n",
       "      <td>2.727602e+05</td>\n",
       "      <td>5.000000e+00</td>\n",
       "      <td>2.150000e+02</td>\n",
       "      <td>3.017000e+03</td>\n",
       "      <td>3.000000e+00</td>\n",
       "      <td>3.179500e+02</td>\n",
       "      <td>3.006000e+03</td>\n",
       "      <td>1.300000e+01</td>\n",
       "      <td>7.000000e+00</td>\n",
       "      <td>0.000000e+00</td>\n",
       "      <td>1.000000e+00</td>\n",
       "    </tr>\n",
       "    <tr>\n",
       "      <th>50%</th>\n",
       "      <td>5.464905e+05</td>\n",
       "      <td>1.900000e+01</td>\n",
       "      <td>3.390000e+02</td>\n",
       "      <td>7.009000e+03</td>\n",
       "      <td>7.000000e+00</td>\n",
       "      <td>5.645500e+02</td>\n",
       "      <td>6.013000e+03</td>\n",
       "      <td>1.500000e+01</td>\n",
       "      <td>8.000000e+00</td>\n",
       "      <td>0.000000e+00</td>\n",
       "      <td>3.000000e+00</td>\n",
       "    </tr>\n",
       "    <tr>\n",
       "      <th>75%</th>\n",
       "      <td>8.181888e+05</td>\n",
       "      <td>3.800000e+01</td>\n",
       "      <td>2.087000e+03</td>\n",
       "      <td>9.022000e+03</td>\n",
       "      <td>9.000000e+00</td>\n",
       "      <td>6.771667e+02</td>\n",
       "      <td>9.012000e+03</td>\n",
       "      <td>1.600000e+01</td>\n",
       "      <td>1.100000e+01</td>\n",
       "      <td>0.000000e+00</td>\n",
       "      <td>4.000000e+00</td>\n",
       "    </tr>\n",
       "    <tr>\n",
       "      <th>max</th>\n",
       "      <td>1.091021e+06</td>\n",
       "      <td>5.900000e+01</td>\n",
       "      <td>2.466000e+03</td>\n",
       "      <td>8.101600e+04</td>\n",
       "      <td>8.100000e+01</td>\n",
       "      <td>8.999833e+02</td>\n",
       "      <td>8.101600e+04</td>\n",
       "      <td>1.900000e+01</td>\n",
       "      <td>2.300000e+01</td>\n",
       "      <td>1.000000e+00</td>\n",
       "      <td>6.000000e+00</td>\n",
       "    </tr>\n",
       "  </tbody>\n",
       "</table>\n",
       "</div>"
      ],
      "text/plain": [
       "                 id  ticket_type_nm   entrance_id    station_id       line_id  \\\n",
       "count  1.074830e+06    1.074830e+06  1.074830e+06  1.074830e+06  1.074830e+06   \n",
       "mean   5.459673e+05    2.580051e+01  8.596997e+02  8.602768e+03  8.591321e+00   \n",
       "std    3.150992e+05    1.951754e+01  9.009391e+02  1.247817e+04  1.247842e+01   \n",
       "min    1.000000e+00    0.000000e+00  2.000000e+01  1.002000e+03  1.000000e+00   \n",
       "25%    2.727602e+05    5.000000e+00  2.150000e+02  3.017000e+03  3.000000e+00   \n",
       "50%    5.464905e+05    1.900000e+01  3.390000e+02  7.009000e+03  7.000000e+00   \n",
       "75%    8.181888e+05    3.800000e+01  2.087000e+03  9.022000e+03  9.000000e+00   \n",
       "max    1.091021e+06    5.900000e+01  2.466000e+03  8.101600e+04  8.100000e+01   \n",
       "\n",
       "       time_to_under         label           day         hours  \\\n",
       "count   1.074830e+06  1.074830e+06  1.074830e+06  1.074830e+06   \n",
       "mean    5.033546e+02  7.722615e+03  1.479729e+01  9.361641e+00   \n",
       "std     2.268707e+02  1.167184e+04  1.942422e+00  3.360137e+00   \n",
       "min     3.001667e+01  1.002000e+03  1.200000e+01  0.000000e+00   \n",
       "25%     3.179500e+02  3.006000e+03  1.300000e+01  7.000000e+00   \n",
       "50%     5.645500e+02  6.013000e+03  1.500000e+01  8.000000e+00   \n",
       "75%     6.771667e+02  9.012000e+03  1.600000e+01  1.100000e+01   \n",
       "max     8.999833e+02  8.101600e+04  1.900000e+01  2.300000e+01   \n",
       "\n",
       "       time_isweekend  time_dayofweek  \n",
       "count    1.074830e+06    1.074830e+06  \n",
       "mean     2.350604e-01    2.795979e+00  \n",
       "std      4.240368e-01    1.941946e+00  \n",
       "min      0.000000e+00    0.000000e+00  \n",
       "25%      0.000000e+00    1.000000e+00  \n",
       "50%      0.000000e+00    3.000000e+00  \n",
       "75%      0.000000e+00    4.000000e+00  \n",
       "max      1.000000e+00    6.000000e+00  "
      ]
     },
     "execution_count": 7,
     "metadata": {},
     "output_type": "execute_result"
    }
   ],
   "source": [
    "df.describe()"
   ]
  },
  {
   "cell_type": "code",
   "execution_count": 69,
   "metadata": {
    "colab": {
     "base_uri": "https://localhost:8080/",
     "height": 283
    },
    "id": "5YyJ2DkxNaZl",
    "outputId": "260535c7-e60d-441a-b29d-b6e71f2ea007"
   },
   "outputs": [
    {
     "data": {
      "text/plain": [
       "<AxesSubplot:>"
      ]
     },
     "execution_count": 69,
     "metadata": {},
     "output_type": "execute_result"
    },
    {
     "data": {
      "image/png": "[encoded data removed]",
      "text/plain": [
       "<Figure size 432x288 with 1 Axes>"
      ]
     },
     "metadata": {
      "needs_background": "light"
     },
     "output_type": "display_data"
    }
   ],
   "source": [
    "df[\"time_to_under\"].hist(bins = 100)"
   ]
  },
  {
   "cell_type": "markdown",
   "metadata": {
    "id": "QTOLeRlMerAm"
   },
   "source": [
    "### **\"ticket_type_nm\"** \n"
   ]
  },
  {
   "cell_type": "code",
   "execution_count": 13,
   "metadata": {
    "colab": {
     "base_uri": "https://localhost:8080/"
    },
    "id": "Ydb_kzQlOfCP",
    "outputId": "5bd0c97e-b38e-40ba-dba7-c0a27a6468e1",
    "scrolled": true
   },
   "outputs": [
    {
     "data": {
      "text/plain": [
       "38    258626\n",
       "5     173197\n",
       "57    125905\n",
       "3     114987\n",
       "19     57185\n",
       "10     48340\n",
       "16     46096\n",
       "6      44197\n",
       "51     39033\n",
       "25     29256\n",
       "11     24166\n",
       "14     20548\n",
       "53     16793\n",
       "55     15439\n",
       "17     12663\n",
       "40      8851\n",
       "52      6691\n",
       "54      3148\n",
       "4       3062\n",
       "26      2793\n",
       "48      2572\n",
       "35      2532\n",
       "23      2522\n",
       "58      2261\n",
       "20      2215\n",
       "24      1543\n",
       "9       1249\n",
       "15      1159\n",
       "49      1143\n",
       "7       1033\n",
       "44       865\n",
       "12       765\n",
       "43       533\n",
       "45       506\n",
       "2        497\n",
       "50       353\n",
       "30       335\n",
       "56       243\n",
       "59       229\n",
       "18       182\n",
       "37       159\n",
       "22       141\n",
       "0        122\n",
       "29       110\n",
       "42       108\n",
       "21        92\n",
       "31        61\n",
       "27        60\n",
       "34        56\n",
       "8         49\n",
       "39        44\n",
       "46        33\n",
       "13        29\n",
       "41        24\n",
       "47        10\n",
       "1          7\n",
       "36         6\n",
       "32         2\n",
       "33         2\n",
       "28         2\n",
       "Name: ticket_type_nm, dtype: int64"
      ]
     },
     "execution_count": 13,
     "metadata": {},
     "output_type": "execute_result"
    }
   ],
   "source": [
    "df[\"ticket_type_nm\"].value_counts()"
   ]
  },
  {
   "cell_type": "code",
   "execution_count": 25,
   "metadata": {
    "colab": {
     "base_uri": "https://localhost:8080/",
     "height": 516
    },
    "id": "F03Pcva-fEVi",
    "outputId": "23aef922-9ed4-4f10-d8e3-640c51b830b5"
   },
   "outputs": [
    {
     "data": {
      "text/plain": [
       "<AxesSubplot:xlabel='ticket_type_nm', ylabel='count'>"
      ]
     },
     "execution_count": 25,
     "metadata": {},
     "output_type": "execute_result"
    },
    {
     "data": {
      "image/png": "[encoded data removed]",
      "text/plain": [
       "<Figure size 1080x288 with 1 Axes>"
      ]
     },
     "metadata": {
      "needs_background": "light"
     },
     "output_type": "display_data"
    }
   ],
   "source": [
    "plt.figure(figsize=(15,4))\n",
    "sns.countplot(x = \"ticket_type_nm\" , data  = df)  "
   ]
  },
  {
   "cell_type": "markdown",
   "metadata": {
    "id": "9treu6dEfnd6"
   },
   "source": [
    "Кажется нет четкой зависимости между категорией билета и временем между заходи на станцию"
   ]
  },
  {
   "cell_type": "code",
   "execution_count": 15,
   "metadata": {
    "colab": {
     "base_uri": "https://localhost:8080/",
     "height": 459
    },
    "id": "OH-8nXJ5fJAX",
    "outputId": "55f5ec51-ba31-445b-8934-2cdb6bfc706e"
   },
   "outputs": [
    {
     "data": {
      "text/plain": [
       "<seaborn.axisgrid.JointGrid at 0x26b5c77a3c8>"
      ]
     },
     "execution_count": 15,
     "metadata": {},
     "output_type": "execute_result"
    },
    {
     "data": {
      "image/png": "[encoded data removed]",
      "text/plain": [
       "<Figure size 432x432 with 3 Axes>"
      ]
     },
     "metadata": {
      "needs_background": "light"
     },
     "output_type": "display_data"
    }
   ],
   "source": [
    "sns.jointplot(x = \"ticket_type_nm\", y = 'time_to_under', data = df, kind = 'reg')"
   ]
  },
  {
   "cell_type": "code",
   "execution_count": 16,
   "metadata": {},
   "outputs": [
    {
     "data": {
      "text/plain": [
       "<seaborn.axisgrid.JointGrid at 0x26b0001be48>"
      ]
     },
     "execution_count": 16,
     "metadata": {},
     "output_type": "execute_result"
    },
    {
     "data": {
      "image/png": "[encoded data removed]",
      "text/plain": [
       "<Figure size 432x432 with 3 Axes>"
      ]
     },
     "metadata": {
      "needs_background": "light"
     },
     "output_type": "display_data"
    }
   ],
   "source": [
    "sns.jointplot(x = \"ticket_type_nm\", y = 'label', data = df, kind = 'reg')"
   ]
  },
  {
   "cell_type": "code",
   "execution_count": 235,
   "metadata": {
    "colab": {
     "base_uri": "https://localhost:8080/",
     "height": 850
    },
    "id": "LQNuW50pgJYa",
    "outputId": "65403205-e8be-4e9a-d6d2-279c3c8c04f0"
   },
   "outputs": [
    {
     "data": {
      "image/png": "[encoded data removed]",
      "text/plain": [
       "<Figure size 576x576 with 2 Axes>"
      ]
     },
     "metadata": {
      "needs_background": "light"
     },
     "output_type": "display_data"
    }
   ],
   "source": [
    "plt.figure(figsize=(8,8))\n",
    "corr = df.corr()\n",
    "g = sns.heatmap(corr, square = True, annot=True)"
   ]
  },
  {
   "cell_type": "code",
   "execution_count": 236,
   "metadata": {},
   "outputs": [
    {
     "data": {
      "image/png": "[encoded data removed]",
      "text/plain": [
       "<Figure size 576x576 with 2 Axes>"
      ]
     },
     "metadata": {
      "needs_background": "light"
     },
     "output_type": "display_data"
    }
   ],
   "source": [
    "plt.figure(figsize=(8,8))\n",
    "corr = df_bad_classes.corr()\n",
    "g = sns.heatmap(corr, square = True, annot=True)"
   ]
  },
  {
   "cell_type": "code",
   "execution_count": null,
   "metadata": {},
   "outputs": [],
   "source": []
  },
  {
   "cell_type": "markdown",
   "metadata": {},
   "source": [
    "# Classification"
   ]
  },
  {
   "cell_type": "markdown",
   "metadata": {
    "id": "IY5yf35yNVuR"
   },
   "source": [
    "Посмотрим на распределение двух основных величин "
   ]
  },
  {
   "cell_type": "code",
   "execution_count": 8,
   "metadata": {
    "colab": {
     "base_uri": "https://localhost:8080/",
     "height": 283
    },
    "id": "ccsstA-IdxOJ",
    "outputId": "ebe811b8-ceda-4cb7-bc70-8cb00301abad",
    "scrolled": false
   },
   "outputs": [
    {
     "data": {
      "text/plain": [
       "<AxesSubplot:>"
      ]
     },
     "execution_count": 8,
     "metadata": {},
     "output_type": "execute_result"
    },
    {
     "data": {
      "image/png": "[encoded data removed]",
      "text/plain": [
       "<Figure size 432x288 with 1 Axes>"
      ]
     },
     "metadata": {
      "needs_background": "light"
     },
     "output_type": "display_data"
    }
   ],
   "source": [
    "df[\"label\"].hist(bins = 100)"
   ]
  },
  {
   "cell_type": "markdown",
   "metadata": {
    "id": "s9fKKhV8edY_"
   },
   "source": [
    "Найдем наиболее популярную станцию и посмотрим инфо по ней:"
   ]
  },
  {
   "cell_type": "code",
   "execution_count": 48,
   "metadata": {
    "colab": {
     "base_uri": "https://localhost:8080/"
    },
    "id": "Gq6HjkgCeQSy",
    "outputId": "74ee990e-7edc-4d66-ef1b-7474d7f3301b"
   },
   "outputs": [
    {
     "data": {
      "text/plain": [
       "3002    17272\n",
       "6008    15541\n",
       "1022    13758\n",
       "5010    13122\n",
       "7022    13080\n",
       "7015    12704\n",
       "1009    12353\n",
       "5009    11507\n",
       "6006    11220\n",
       "8001    10091\n",
       "6020     9820\n",
       "1018     9245\n",
       "2001     9225\n",
       "7020     9077\n",
       "6010     8931\n",
       "5001     8764\n",
       "5007     8580\n",
       "3010     8564\n",
       "2003     8414\n",
       "8007     8288\n",
       "Name: label, dtype: int64"
      ]
     },
     "execution_count": 48,
     "metadata": {},
     "output_type": "execute_result"
    }
   ],
   "source": [
    "df[\"label\"].value_counts()[:20]"
   ]
  },
  {
   "cell_type": "code",
   "execution_count": 297,
   "metadata": {
    "colab": {
     "base_uri": "https://localhost:8080/",
     "height": 357
    },
    "id": "HVyOBpgiNqPA",
    "outputId": "2dcd29b4-919e-4c77-c4a0-823cf068243b",
    "scrolled": true
   },
   "outputs": [
    {
     "name": "stdout",
     "output_type": "stream",
     "text": [
      "1022\n"
     ]
    },
    {
     "data": {
      "text/html": [
       "<div>\n",
       "<style scoped>\n",
       "    .dataframe tbody tr th:only-of-type {\n",
       "        vertical-align: middle;\n",
       "    }\n",
       "\n",
       "    .dataframe tbody tr th {\n",
       "        vertical-align: top;\n",
       "    }\n",
       "\n",
       "    .dataframe thead th {\n",
       "        text-align: right;\n",
       "    }\n",
       "</style>\n",
       "<table border=\"1\" class=\"dataframe\">\n",
       "  <thead>\n",
       "    <tr style=\"text-align: right;\">\n",
       "      <th></th>\n",
       "      <th>ticket_id</th>\n",
       "      <th>ticket_type_nm</th>\n",
       "      <th>entrance_id</th>\n",
       "      <th>entrance_nm</th>\n",
       "      <th>station_id</th>\n",
       "      <th>station_nm</th>\n",
       "      <th>line_id</th>\n",
       "      <th>line_nm</th>\n",
       "      <th>pass_dttm</th>\n",
       "      <th>time_to_under</th>\n",
       "      <th>label</th>\n",
       "      <th>day</th>\n",
       "      <th>hours</th>\n",
       "      <th>time</th>\n",
       "      <th>time_isweekend</th>\n",
       "      <th>time_dayofweek</th>\n",
       "    </tr>\n",
       "  </thead>\n",
       "  <tbody>\n",
       "    <tr>\n",
       "      <th>144</th>\n",
       "      <td>1F82115E616F773706774F4D9C12D51D</td>\n",
       "      <td>3</td>\n",
       "      <td>297</td>\n",
       "      <td>Выхино ( Второй )</td>\n",
       "      <td>7004</td>\n",
       "      <td>Выхино</td>\n",
       "      <td>7</td>\n",
       "      <td>Таганско-Краснопресненская</td>\n",
       "      <td>2022-09-12 05:25:29</td>\n",
       "      <td>720.733333</td>\n",
       "      <td>1022</td>\n",
       "      <td>12</td>\n",
       "      <td>5</td>\n",
       "      <td>2022-09-12 05:25:29</td>\n",
       "      <td>0</td>\n",
       "      <td>0</td>\n",
       "    </tr>\n",
       "    <tr>\n",
       "      <th>344</th>\n",
       "      <td>4352DEBD7FB7568E95205A8DF6DE9B87</td>\n",
       "      <td>57</td>\n",
       "      <td>21</td>\n",
       "      <td>Бульвар Рокоссовского ( Южный )</td>\n",
       "      <td>1002</td>\n",
       "      <td>Бульвар Рокоссовского</td>\n",
       "      <td>1</td>\n",
       "      <td>Сокольническая</td>\n",
       "      <td>2022-09-12 05:30:06</td>\n",
       "      <td>792.033333</td>\n",
       "      <td>1022</td>\n",
       "      <td>12</td>\n",
       "      <td>5</td>\n",
       "      <td>2022-09-12 05:30:06</td>\n",
       "      <td>0</td>\n",
       "      <td>0</td>\n",
       "    </tr>\n",
       "    <tr>\n",
       "      <th>375</th>\n",
       "      <td>B448669F088958AEDCD4073BE50F61AB</td>\n",
       "      <td>38</td>\n",
       "      <td>2263</td>\n",
       "      <td>Некрасовка (Первый)</td>\n",
       "      <td>15002</td>\n",
       "      <td>Некрасовка</td>\n",
       "      <td>15</td>\n",
       "      <td>Некрасовская</td>\n",
       "      <td>2022-09-12 05:30:12</td>\n",
       "      <td>913.583333</td>\n",
       "      <td>1022</td>\n",
       "      <td>12</td>\n",
       "      <td>5</td>\n",
       "      <td>2022-09-12 05:30:12</td>\n",
       "      <td>0</td>\n",
       "      <td>0</td>\n",
       "    </tr>\n",
       "    <tr>\n",
       "      <th>799</th>\n",
       "      <td>5E0B371FBF8EF3B68A623A331CC8693E</td>\n",
       "      <td>3</td>\n",
       "      <td>205</td>\n",
       "      <td>Павелецкая К</td>\n",
       "      <td>5009</td>\n",
       "      <td>Павелецкая</td>\n",
       "      <td>5</td>\n",
       "      <td>Кольцевая</td>\n",
       "      <td>2022-09-12 05:33:45</td>\n",
       "      <td>666.683333</td>\n",
       "      <td>1022</td>\n",
       "      <td>12</td>\n",
       "      <td>5</td>\n",
       "      <td>2022-09-12 05:33:45</td>\n",
       "      <td>0</td>\n",
       "      <td>0</td>\n",
       "    </tr>\n",
       "    <tr>\n",
       "      <th>1063</th>\n",
       "      <td>A75B9E82C5F1BFFA426D45C7BB2BFBAC</td>\n",
       "      <td>51</td>\n",
       "      <td>44</td>\n",
       "      <td>Охотный ряд ( Южный )</td>\n",
       "      <td>1009</td>\n",
       "      <td>Охотный ряд</td>\n",
       "      <td>1</td>\n",
       "      <td>Сокольническая</td>\n",
       "      <td>2022-09-12 05:36:56</td>\n",
       "      <td>912.983333</td>\n",
       "      <td>1022</td>\n",
       "      <td>12</td>\n",
       "      <td>5</td>\n",
       "      <td>2022-09-12 05:36:56</td>\n",
       "      <td>0</td>\n",
       "      <td>0</td>\n",
       "    </tr>\n",
       "  </tbody>\n",
       "</table>\n",
       "</div>"
      ],
      "text/plain": [
       "                             ticket_id  ticket_type_nm  entrance_id  \\\n",
       "144   1F82115E616F773706774F4D9C12D51D               3          297   \n",
       "344   4352DEBD7FB7568E95205A8DF6DE9B87              57           21   \n",
       "375   B448669F088958AEDCD4073BE50F61AB              38         2263   \n",
       "799   5E0B371FBF8EF3B68A623A331CC8693E               3          205   \n",
       "1063  A75B9E82C5F1BFFA426D45C7BB2BFBAC              51           44   \n",
       "\n",
       "                          entrance_nm  station_id             station_nm  \\\n",
       "144                 Выхино ( Второй )        7004                 Выхино   \n",
       "344   Бульвар Рокоссовского ( Южный )        1002  Бульвар Рокоссовского   \n",
       "375               Некрасовка (Первый)       15002             Некрасовка   \n",
       "799                      Павелецкая К        5009             Павелецкая   \n",
       "1063            Охотный ряд ( Южный )        1009            Охотный ряд   \n",
       "\n",
       "      line_id                     line_nm            pass_dttm  time_to_under  \\\n",
       "144         7  Таганско-Краснопресненская  2022-09-12 05:25:29     720.733333   \n",
       "344         1              Сокольническая  2022-09-12 05:30:06     792.033333   \n",
       "375        15                Некрасовская  2022-09-12 05:30:12     913.583333   \n",
       "799         5                   Кольцевая  2022-09-12 05:33:45     666.683333   \n",
       "1063        1              Сокольническая  2022-09-12 05:36:56     912.983333   \n",
       "\n",
       "      label  day  hours                time  time_isweekend  time_dayofweek  \n",
       "144    1022   12      5 2022-09-12 05:25:29               0               0  \n",
       "344    1022   12      5 2022-09-12 05:30:06               0               0  \n",
       "375    1022   12      5 2022-09-12 05:30:12               0               0  \n",
       "799    1022   12      5 2022-09-12 05:33:45               0               0  \n",
       "1063   1022   12      5 2022-09-12 05:36:56               0               0  "
      ]
     },
     "execution_count": 297,
     "metadata": {},
     "output_type": "execute_result"
    }
   ],
   "source": [
    "numstate = 2\n",
    "print(df[\"label\"].value_counts().index[numstate] )  # номер станции\n",
    "\n",
    "df[df[\"label\"] == int(df[\"label\"].value_counts().index[ numstate ])].head()"
   ]
  },
  {
   "cell_type": "markdown",
   "metadata": {},
   "source": [
    "Количество классов"
   ]
  },
  {
   "cell_type": "code",
   "execution_count": 53,
   "metadata": {},
   "outputs": [
    {
     "name": "stdout",
     "output_type": "stream",
     "text": [
      "266 / 10\n"
     ]
    },
    {
     "data": {
      "text/plain": [
       "Text(0.5, 0, 'Index')"
      ]
     },
     "execution_count": 53,
     "metadata": {},
     "output_type": "execute_result"
    },
    {
     "data": {
      "image/png": "[encoded data removed]",
      "text/plain": [
       "<Figure size 432x288 with 1 Axes>"
      ]
     },
     "metadata": {
      "needs_background": "light"
     },
     "output_type": "display_data"
    }
   ],
   "source": [
    "thrval = 10000\n",
    "print(np.sum(df[\"label\"].value_counts() < thrval), '/', np.sum(df[\"label\"].value_counts() > thrval))\n",
    "\n",
    "\n",
    "plt.plot(df[\"label\"].value_counts().values)\n",
    "plt.plot([0, len(df[\"label\"].value_counts())], [thrval, thrval])   # уровень, который отрезаем\n",
    "plt.ylabel('Count')\n",
    "plt.xlabel('Index')"
   ]
  },
  {
   "cell_type": "code",
   "execution_count": 20,
   "metadata": {},
   "outputs": [
    {
     "data": {
      "text/plain": [
       "8     232006\n",
       "7     208545\n",
       "9     141080\n",
       "6     116616\n",
       "10     77730\n",
       "11     54940\n",
       "12     42521\n",
       "13     38645\n",
       "14     32010\n",
       "15     28072\n",
       "5      24494\n",
       "16     24333\n",
       "17     22807\n",
       "18     18796\n",
       "19     10576\n",
       "0       8919\n",
       "20      4732\n",
       "21      1918\n",
       "1        840\n",
       "22       765\n",
       "2        316\n",
       "4        147\n",
       "3        132\n",
       "23        81\n",
       "Name: hours, dtype: int64"
      ]
     },
     "execution_count": 20,
     "metadata": {},
     "output_type": "execute_result"
    }
   ],
   "source": [
    "df['hours'].value_counts()"
   ]
  },
  {
   "cell_type": "code",
   "execution_count": 45,
   "metadata": {
    "scrolled": true
   },
   "outputs": [
    {
     "name": "stdout",
     "output_type": "stream",
     "text": [
      "\n",
      " ticket_type_nm :\n",
      " 38    262499\n",
      "5     177041\n",
      "57    127022\n",
      "3     117064\n",
      "19     58071\n",
      "10     48658\n",
      "16     46542\n",
      "6      45381\n",
      "51     39395\n",
      "25     29674\n",
      "11     24307\n",
      "14     20859\n",
      "53     16933\n",
      "55     15551\n",
      "17     12817\n",
      "40      9234\n",
      "52      6744\n",
      "54      3169\n",
      "4       3098\n",
      "26      2829\n",
      "48      2634\n",
      "35      2555\n",
      "23      2535\n",
      "58      2272\n",
      "20      2258\n",
      "24      1549\n",
      "9       1264\n",
      "15      1173\n",
      "49      1166\n",
      "7       1045\n",
      "44       869\n",
      "12       768\n",
      "43       541\n",
      "45       510\n",
      "2        504\n",
      "50       361\n",
      "30       335\n",
      "56       244\n",
      "59       233\n",
      "18       188\n",
      "37       159\n",
      "22       142\n",
      "0        123\n",
      "29       113\n",
      "42       113\n",
      "21        92\n",
      "31        61\n",
      "27        60\n",
      "34        56\n",
      "8         49\n",
      "39        44\n",
      "46        34\n",
      "13        30\n",
      "41        24\n",
      "47        10\n",
      "1          7\n",
      "36         6\n",
      "32         2\n",
      "33         2\n",
      "28         2\n",
      "Name: ticket_type_nm, dtype: int64\n",
      "\n",
      " entrance_id :\n",
      " 153     17810\n",
      "303     13530\n",
      "2263    12205\n",
      "2043    11963\n",
      "218     11949\n",
      "        ...  \n",
      "2116       16\n",
      "2111       10\n",
      "2115        9\n",
      "2114        8\n",
      "2420        4\n",
      "Name: entrance_id, Length: 426, dtype: int64\n",
      "\n",
      " station_id :\n",
      " 3022     22133\n",
      "7009     20526\n",
      "8003     18725\n",
      "15002    18136\n",
      "8004     16353\n",
      "         ...  \n",
      "13005       20\n",
      "13001       16\n",
      "13006       10\n",
      "13004        9\n",
      "13002        8\n",
      "Name: station_id, Length: 276, dtype: int64\n",
      "\n",
      " line_id :\n",
      " 7     156031\n",
      "6     125065\n",
      "2     124918\n",
      "9     124079\n",
      "3     112407\n",
      "10     95624\n",
      "1      81818\n",
      "8      61961\n",
      "14     43385\n",
      "11     41317\n",
      "5      31884\n",
      "15     31858\n",
      "81     28768\n",
      "12     16696\n",
      "4      15077\n",
      "13       133\n",
      "Name: line_id, dtype: int64\n",
      "\n",
      " time_to_under :\n",
      " 605.783333     73\n",
      "592.333333     72\n",
      "603.716667     71\n",
      "596.166667     70\n",
      "600.933333     69\n",
      "               ..\n",
      "1376.250000     1\n",
      "927.566667      1\n",
      "924.683333      1\n",
      "915.833333      1\n",
      "948.050000      1\n",
      "Name: time_to_under, Length: 60514, dtype: int64\n",
      "\n",
      " day :\n",
      " 13    169068\n",
      "12    168879\n",
      "14    168584\n",
      "15    166645\n",
      "16    160868\n",
      "17    136813\n",
      "18    119962\n",
      "19       202\n",
      "Name: day, dtype: int64\n",
      "\n",
      " hours :\n",
      " 8     232006\n",
      "7     208545\n",
      "9     141080\n",
      "6     116616\n",
      "10     77730\n",
      "11     54940\n",
      "12     42521\n",
      "13     38645\n",
      "14     32010\n",
      "15     28072\n",
      "5      24494\n",
      "16     24333\n",
      "17     22807\n",
      "18     18796\n",
      "19     10576\n",
      "0       8919\n",
      "20      4732\n",
      "21      1918\n",
      "1        840\n",
      "22       765\n",
      "2        316\n",
      "4        147\n",
      "3        132\n",
      "23        81\n",
      "Name: hours, dtype: int64\n",
      "\n",
      " time_isweekend :\n",
      " 0    834246\n",
      "1    256775\n",
      "Name: time_isweekend, dtype: int64\n",
      "\n",
      " time_dayofweek :\n",
      " 0    169081\n",
      "1    169068\n",
      "2    168584\n",
      "3    166645\n",
      "4    160868\n",
      "5    136813\n",
      "6    119962\n",
      "Name: time_dayofweek, dtype: int64\n"
     ]
    }
   ],
   "source": [
    "for c in ['ticket_type_nm', 'entrance_id', 'station_id', 'line_id', 'time_to_under', \n",
    "          'day', 'hours','time_isweekend', 'time_dayofweek']:\n",
    "    print('\\n', c, ':\\n', df[c].value_counts())"
   ]
  },
  {
   "cell_type": "code",
   "execution_count": 46,
   "metadata": {},
   "outputs": [
    {
     "data": {
      "text/plain": [
       "14018    1545\n",
       "81002    1532\n",
       "4009     1503\n",
       "11006    1487\n",
       "6008     1434\n",
       "         ... \n",
       "13005      20\n",
       "13001      16\n",
       "13006      10\n",
       "13004       9\n",
       "13002       8\n",
       "Name: station_id, Length: 100, dtype: int64"
      ]
     },
     "execution_count": 46,
     "metadata": {},
     "output_type": "execute_result"
    }
   ],
   "source": [
    "df['station_id'].value_counts()[-100:]"
   ]
  },
  {
   "cell_type": "markdown",
   "metadata": {},
   "source": [
    "### Группы станций"
   ]
  },
  {
   "cell_type": "markdown",
   "metadata": {},
   "source": [
    "Смотрим, чем отличаются статистики по станциям"
   ]
  },
  {
   "cell_type": "code",
   "execution_count": 40,
   "metadata": {
    "scrolled": true
   },
   "outputs": [],
   "source": [
    "gp = df.groupby(\"label\")\n",
    "\n",
    "# id count\n",
    "# 3002    17272\n",
    "# 6008    15541\n",
    "# 1022    13758\n",
    "# 5010    13122\n",
    "# 7022    13080\n",
    "# 7015    12704\n",
    "# 1009    12353\n",
    "# 5009    11507\n",
    "# 6006    11220\n",
    "# 8001    10091\n",
    "# 6020     9820\n",
    "# 1018     9245\n",
    "# 2001     9225\n",
    "# 7020     9077\n",
    "# 6010     8931\n",
    "# 5001     8764\n",
    "# 5007     8580\n",
    "# 3010     8564\n",
    "# 2003     8414\n",
    "# 8007     8288"
   ]
  },
  {
   "cell_type": "code",
   "execution_count": 51,
   "metadata": {},
   "outputs": [],
   "source": [
    "g3002 = gp.get_group(3002)\n",
    "g6008 = gp.get_group(6008)\n",
    "g1022 = gp.get_group(1022)\n",
    "g5010 = gp.get_group(5010)\n",
    "g7022 = gp.get_group(7022)"
   ]
  },
  {
   "cell_type": "code",
   "execution_count": 69,
   "metadata": {},
   "outputs": [
    {
     "data": {
      "text/plain": [
       "<AxesSubplot:>"
      ]
     },
     "execution_count": 69,
     "metadata": {},
     "output_type": "execute_result"
    },
    {
     "data": {
      "image/png": "[encoded data removed]",
      "text/plain": [
       "<Figure size 864x360 with 2 Axes>"
      ]
     },
     "metadata": {
      "needs_background": "light"
     },
     "output_type": "display_data"
    }
   ],
   "source": [
    "plt.figure(figsize=(12,5))\n",
    "plt.subplot(221)\n",
    "g3002['hours'].hist()\n",
    "g6008['hours'].hist()\n",
    "\n",
    "plt.subplot(222)\n",
    "g1022['hours'].hist()\n",
    "g5010['hours'].hist()\n",
    "g7022['hours'].hist()"
   ]
  },
  {
   "cell_type": "code",
   "execution_count": 79,
   "metadata": {
    "scrolled": false
   },
   "outputs": [
    {
     "data": {
      "image/png": "[encoded data removed]",
      "text/plain": [
       "<Figure size 864x360 with 2 Axes>"
      ]
     },
     "metadata": {
      "needs_background": "light"
     },
     "output_type": "display_data"
    },
    {
     "data": {
      "image/png": "[encoded data removed]",
      "text/plain": [
       "<Figure size 864x360 with 2 Axes>"
      ]
     },
     "metadata": {
      "needs_background": "light"
     },
     "output_type": "display_data"
    },
    {
     "data": {
      "image/png": "[encoded data removed]",
      "text/plain": [
       "<Figure size 864x360 with 2 Axes>"
      ]
     },
     "metadata": {
      "needs_background": "light"
     },
     "output_type": "display_data"
    },
    {
     "data": {
      "image/png": "[encoded data removed]",
      "text/plain": [
       "<Figure size 864x360 with 2 Axes>"
      ]
     },
     "metadata": {
      "needs_background": "light"
     },
     "output_type": "display_data"
    },
    {
     "data": {
      "image/png": "[encoded data removed]",
      "text/plain": [
       "<Figure size 864x360 with 2 Axes>"
      ]
     },
     "metadata": {
      "needs_background": "light"
     },
     "output_type": "display_data"
    },
    {
     "data": {
      "image/png": "[encoded data removed]",
      "text/plain": [
       "<Figure size 864x360 with 2 Axes>"
      ]
     },
     "metadata": {
      "needs_background": "light"
     },
     "output_type": "display_data"
    },
    {
     "data": {
      "image/png": "[encoded data removed]",
      "text/plain": [
       "<Figure size 864x360 with 2 Axes>"
      ]
     },
     "metadata": {
      "needs_background": "light"
     },
     "output_type": "display_data"
    },
    {
     "data": {
      "image/png": "[encoded data removed]",
      "text/plain": [
       "<Figure size 864x360 with 2 Axes>"
      ]
     },
     "metadata": {
      "needs_background": "light"
     },
     "output_type": "display_data"
    },
    {
     "data": {
      "image/png": "[encoded data removed]",
      "text/plain": [
       "<Figure size 864x360 with 2 Axes>"
      ]
     },
     "metadata": {
      "needs_background": "light"
     },
     "output_type": "display_data"
    }
   ],
   "source": [
    "for c in ['ticket_type_nm', 'entrance_id', 'station_id', 'line_id', 'time_to_under', \n",
    "          'day', 'hours','time_isweekend', 'time_dayofweek']:\n",
    "    plt.figure(figsize=(12,5))\n",
    "    plt.suptitle(c)\n",
    "    plt.subplot(221)\n",
    "    g3002[c].hist()\n",
    "    g6008[c].hist()\n",
    "\n",
    "    plt.subplot(222)\n",
    "    g1022[c].hist()\n",
    "    g5010[c].hist()\n",
    "    g7022[c].hist()\n"
   ]
  },
  {
   "cell_type": "code",
   "execution_count": 100,
   "metadata": {},
   "outputs": [
    {
     "data": {
      "image/png": "[encoded data removed]",
      "text/plain": [
       "<Figure size 504x504 with 1 Axes>"
      ]
     },
     "metadata": {
      "needs_background": "light"
     },
     "output_type": "display_data"
    }
   ],
   "source": [
    "# for c in ['ticket_type_nm', 'entrance_id', 'station_id', 'line_id', 'time_to_under', \n",
    "#           'day', 'hours','time_isweekend', 'time_dayofweek']:\n",
    "# plt.figure(figsize=(7,7))\n",
    "# for g in [g3002, g6008, g1022, g5010, g7022]:\n",
    "#     plt.scatter(g['ticket_type_nm'], g['entrance_id'])\n",
    "    \n",
    "plt.figure(figsize=(7,7))\n",
    "for g in [g3002, g6008, g1022, g5010, g7022]:\n",
    "    plt.scatter(g[g['time_isweekend']==1]['entrance_id'], g[g['time_isweekend']==1]['station_id'])\n",
    "    plt.scatter(g[g['time_isweekend']==0]['entrance_id'], g[g['time_isweekend']==0]['station_id'], marker='x')\n",
    "    \n",
    "# plt.figure(figsize=(7,7))\n",
    "# for g in [g3002, g6008, g1022, g5010, g7022]:\n",
    "#     plt.scatter(g['time_isweekend'], g['hours'])\n"
   ]
  },
  {
   "cell_type": "code",
   "execution_count": null,
   "metadata": {},
   "outputs": [],
   "source": []
  },
  {
   "cell_type": "code",
   "execution_count": 81,
   "metadata": {},
   "outputs": [
    {
     "data": {
      "text/plain": [
       "Index(['id', 'ticket_id', 'ticket_type_nm', 'entrance_id', 'entrance_nm',\n",
       "       'station_id', 'station_nm', 'line_id', 'line_nm', 'pass_dttm',\n",
       "       'time_to_under', 'label', 'day', 'hours', 'time', 'time_isweekend',\n",
       "       'time_dayofweek'],\n",
       "      dtype='object')"
      ]
     },
     "execution_count": 81,
     "metadata": {},
     "output_type": "execute_result"
    }
   ],
   "source": [
    "df_bad_classes.columns"
   ]
  },
  {
   "cell_type": "code",
   "execution_count": 105,
   "metadata": {},
   "outputs": [
    {
     "data": {
      "text/plain": [
       "<AxesSubplot:xlabel='station_id', ylabel='Count'>"
      ]
     },
     "execution_count": 105,
     "metadata": {},
     "output_type": "execute_result"
    },
    {
     "data": {
      "image/png": "[encoded data removed]",
      "text/plain": [
       "<Figure size 1080x216 with 1 Axes>"
      ]
     },
     "metadata": {
      "needs_background": "light"
     },
     "output_type": "display_data"
    },
    {
     "data": {
      "image/png": "[encoded data removed]",
      "text/plain": [
       "<Figure size 1080x216 with 1 Axes>"
      ]
     },
     "metadata": {
      "needs_background": "light"
     },
     "output_type": "display_data"
    }
   ],
   "source": [
    "plt.figure(figsize=(15,3))\n",
    "sns.histplot(df_bad_classes['station_id'])\n",
    "\n",
    "plt.figure(figsize=(15,3))\n",
    "sns.histplot(df['station_id'])"
   ]
  },
  {
   "cell_type": "code",
   "execution_count": 70,
   "metadata": {},
   "outputs": [
    {
     "data": {
      "text/plain": [
       "Index(['id', 'ticket_id', 'ticket_type_nm', 'entrance_id', 'entrance_nm',\n",
       "       'station_id', 'station_nm', 'line_id', 'line_nm', 'pass_dttm', 'day',\n",
       "       'hours', 'time', 'time_isweekend', 'time_dayofweek'],\n",
       "      dtype='object')"
      ]
     },
     "execution_count": 70,
     "metadata": {},
     "output_type": "execute_result"
    }
   ],
   "source": [
    "valid.columns"
   ]
  },
  {
   "cell_type": "markdown",
   "metadata": {},
   "source": [
    "## Сравнение выборок"
   ]
  },
  {
   "cell_type": "code",
   "execution_count": null,
   "metadata": {},
   "outputs": [],
   "source": [
    "df[\"id\"].hist(bins = 100)\n",
    "valid[\"id\"].hist(bins = 100)"
   ]
  },
  {
   "cell_type": "code",
   "execution_count": 72,
   "metadata": {},
   "outputs": [
    {
     "data": {
      "text/plain": [
       "<AxesSubplot:>"
      ]
     },
     "execution_count": 72,
     "metadata": {},
     "output_type": "execute_result"
    },
    {
     "data": {
      "image/png": "[encoded data removed]",
      "text/plain": [
       "<Figure size 432x288 with 1 Axes>"
      ]
     },
     "metadata": {
      "needs_background": "light"
     },
     "output_type": "display_data"
    }
   ],
   "source": [
    "df[\"line_id\"].hist(bins = 100)\n",
    "valid[\"line_id\"].hist(bins = 100)"
   ]
  },
  {
   "cell_type": "code",
   "execution_count": 73,
   "metadata": {},
   "outputs": [
    {
     "data": {
      "text/plain": [
       "<AxesSubplot:>"
      ]
     },
     "execution_count": 73,
     "metadata": {},
     "output_type": "execute_result"
    },
    {
     "data": {
      "image/png": "[encoded data removed]",
      "text/plain": [
       "<Figure size 432x288 with 1 Axes>"
      ]
     },
     "metadata": {
      "needs_background": "light"
     },
     "output_type": "display_data"
    }
   ],
   "source": [
    "df[\"day\"].hist(bins = 100)\n",
    "valid[\"day\"].hist(bins = 100)"
   ]
  },
  {
   "cell_type": "code",
   "execution_count": 74,
   "metadata": {},
   "outputs": [
    {
     "data": {
      "text/plain": [
       "<AxesSubplot:>"
      ]
     },
     "execution_count": 74,
     "metadata": {},
     "output_type": "execute_result"
    },
    {
     "data": {
      "image/png": "[encoded data removed]",
      "text/plain": [
       "<Figure size 432x288 with 1 Axes>"
      ]
     },
     "metadata": {
      "needs_background": "light"
     },
     "output_type": "display_data"
    }
   ],
   "source": [
    "df[\"hours\"].hist(bins = 100)\n",
    "valid[\"hours\"].hist(bins = 100)"
   ]
  },
  {
   "cell_type": "code",
   "execution_count": 16,
   "metadata": {
    "scrolled": true
   },
   "outputs": [
    {
     "data": {
      "image/png": "[encoded data removed]",
      "text/plain": [
       "<Figure size 720x216 with 1 Axes>"
      ]
     },
     "metadata": {
      "needs_background": "light"
     },
     "output_type": "display_data"
    },
    {
     "data": {
      "image/png": "[encoded data removed]",
      "text/plain": [
       "<Figure size 720x216 with 1 Axes>"
      ]
     },
     "metadata": {
      "needs_background": "light"
     },
     "output_type": "display_data"
    },
    {
     "data": {
      "image/png": "[encoded data removed]",
      "text/plain": [
       "<Figure size 720x216 with 1 Axes>"
      ]
     },
     "metadata": {
      "needs_background": "light"
     },
     "output_type": "display_data"
    },
    {
     "data": {
      "image/png": "[encoded data removed]",
      "text/plain": [
       "<Figure size 720x216 with 1 Axes>"
      ]
     },
     "metadata": {
      "needs_background": "light"
     },
     "output_type": "display_data"
    },
    {
     "data": {
      "image/png": "[encoded data removed]",
      "text/plain": [
       "<Figure size 720x216 with 1 Axes>"
      ]
     },
     "metadata": {
      "needs_background": "light"
     },
     "output_type": "display_data"
    },
    {
     "data": {
      "image/png": "[encoded data removed]",
      "text/plain": [
       "<Figure size 720x216 with 1 Axes>"
      ]
     },
     "metadata": {
      "needs_background": "light"
     },
     "output_type": "display_data"
    },
    {
     "data": {
      "image/png": "[encoded data removed]",
      "text/plain": [
       "<Figure size 720x216 with 1 Axes>"
      ]
     },
     "metadata": {
      "needs_background": "light"
     },
     "output_type": "display_data"
    },
    {
     "data": {
      "image/png": "[encoded data removed]",
      "text/plain": [
       "<Figure size 720x216 with 1 Axes>"
      ]
     },
     "metadata": {
      "needs_background": "light"
     },
     "output_type": "display_data"
    }
   ],
   "source": [
    "for c in ['ticket_type_nm', 'entrance_id', 'station_id', 'line_id',  \n",
    "          'day', 'hours','time_isweekend', 'time_dayofweek']:\n",
    "    plt.figure(figsize=(10,3))\n",
    "    plt.suptitle(c)\n",
    "    df[c].hist()\n",
    "    valid[c].hist()\n"
   ]
  },
  {
   "cell_type": "code",
   "execution_count": null,
   "metadata": {},
   "outputs": [],
   "source": []
  },
  {
   "cell_type": "markdown",
   "metadata": {},
   "source": [
    "## Моделирование классов"
   ]
  },
  {
   "cell_type": "markdown",
   "metadata": {},
   "source": [
    "Попытка смоделировать случайным образом распределение классов. Понятно, что это не будет решение."
   ]
  },
  {
   "cell_type": "code",
   "execution_count": 49,
   "metadata": {},
   "outputs": [],
   "source": [
    "temp__ = get_random_classes(df, 0, 30, valid.shape[0], 13)\n",
    "# et_random_classes(df, nskip, nclasses, nlen, seed):"
   ]
  },
  {
   "cell_type": "code",
   "execution_count": 50,
   "metadata": {
    "scrolled": true
   },
   "outputs": [
    {
     "name": "stdout",
     "output_type": "stream",
     "text": [
      "529367 561890 32523\n"
     ]
    }
   ],
   "source": [
    "print(len(temp__),  pred_reg.shape[0],  pred_reg.shape[0] - len(temp__))\n",
    "\n",
    "temp0 = [3002] * (pred_reg.shape[0] - len(temp__))\n",
    "print(len(temp0))\n",
    "\n",
    "temp = temp__.copy()\n",
    "\n",
    "temp.append(temp0)\n",
    "print(len(temp),  pred_reg.shape[0])"
   ]
  },
  {
   "cell_type": "code",
   "execution_count": null,
   "metadata": {},
   "outputs": [],
   "source": []
  },
  {
   "cell_type": "markdown",
   "metadata": {},
   "source": [
    "# Обучение и тесты"
   ]
  },
  {
   "cell_type": "markdown",
   "metadata": {
    "id": "WIFh_dnOhj1V"
   },
   "source": [
    "## Выделим выборки"
   ]
  },
  {
   "cell_type": "code",
   "execution_count": 66,
   "metadata": {},
   "outputs": [
    {
     "name": "stdout",
     "output_type": "stream",
     "text": [
      "(1058208, 16) (32813, 16) (1091021, 16)\n"
     ]
    },
    {
     "data": {
      "text/plain": [
       "Index(['ticket_type_nm', 'entrance_id', 'station_id', 'line_id', 'day',\n",
       "       'hours', 'time_isweekend', 'time_dayofweek'],\n",
       "      dtype='object')"
      ]
     },
     "execution_count": 66,
     "metadata": {},
     "output_type": "execute_result"
    }
   ],
   "source": [
    "df = pd.read_csv(\"./train_dataset_train.csv\")\n",
    "df, df_bad_classes, df_good_classes, df_id_col = modifydata(df, 15000)\n",
    "print(df_bad_classes.shape, df_good_classes.shape, df.shape)\n",
    "\n",
    "Xa, ya = getFeaturesAndOutput(df)\n",
    "X, y = getFeaturesAndOutput(df_good_classes)\n",
    "Xb, yb = getFeaturesAndOutput(df_bad_classes)\n",
    "\n",
    "\n",
    "X_train, X_test, y_train, y_test = train_test_split(X, y, test_size=0.3, random_state=42)\n",
    "X_train.columns"
   ]
  },
  {
   "cell_type": "markdown",
   "metadata": {},
   "source": [
    "новая выборка, где будет рандомить ответ"
   ]
  },
  {
   "cell_type": "code",
   "execution_count": 393,
   "metadata": {},
   "outputs": [
    {
     "name": "stdout",
     "output_type": "stream",
     "text": [
      "(1058208, 16) (32813, 16) (1091021, 16) (1091021, 17)\n",
      "Index(['ticket_type_nm', 'entrance_id', 'station_id', 'line_id', 'day',\n",
      "       'hours', 'time_isweekend', 'time_dayofweek'],\n",
      "      dtype='object')\n"
     ]
    }
   ],
   "source": [
    "# df = pd.read_csv(\"./train_dataset_train.csv\")\n",
    "# df, df_bad_classes, df_good_classes, df_id_col, df_good_classes_fulldata = modifydata2(df, 15000)\n",
    "# print(df_bad_classes.shape, df_good_classes.shape, df.shape, df_good_classes_fulldata.shape)\n",
    "\n",
    "# Xa, ya = getFeaturesAndOutput(df)\n",
    "# X, y = getFeaturesAndOutput(df_good_classes_fulldata)\n",
    "# Xb, yb = getFeaturesAndOutput(df_bad_classes)\n",
    "\n",
    "# y2 = pd.DataFrame()\n",
    "# y2['label'] = X.pop('newlabel')\n",
    "# y2['time_to_under'] = y['time_to_under']\n",
    "# y, y2 = y2, y\n",
    "\n",
    "# X_train, X_test, y_train, y_test = train_test_split(X, y, test_size=0.3, random_state=42)\n",
    "# print(X_train.columns)"
   ]
  },
  {
   "cell_type": "code",
   "execution_count": null,
   "metadata": {},
   "outputs": [],
   "source": []
  },
  {
   "cell_type": "code",
   "execution_count": null,
   "metadata": {},
   "outputs": [],
   "source": []
  },
  {
   "cell_type": "markdown",
   "metadata": {},
   "source": [
    "Один из вариантов отфильтровать данные:\n",
    "\n",
    "(не улучшило результат)"
   ]
  },
  {
   "cell_type": "code",
   "execution_count": 178,
   "metadata": {},
   "outputs": [
    {
     "name": "stdout",
     "output_type": "stream",
     "text": [
      "line_id 50000 0\n",
      "label 10000 960373\n",
      "hours 50000 994111\n",
      "ticket_type_nm 1000 994680\n",
      "entrance_id 1000 998193\n",
      "station_id 10000 1055711\n",
      "line_id 50000 1057124\n",
      "(1057124, 16) (33897, 16) (1091021, 16)\n",
      "Index(['ticket_type_nm', 'entrance_id', 'station_id', 'line_id', 'day',\n",
      "       'hours', 'time_isweekend', 'time_dayofweek'],\n",
      "      dtype='object')\n"
     ]
    }
   ],
   "source": [
    "keys = {'label': 10000,\n",
    "        'hours': 50000,\n",
    "        'ticket_type_nm': 1000,\n",
    "        'entrance_id': 1000,\n",
    "        'station_id': 10000,\n",
    "        'line_id': 50000\n",
    "       }\n",
    "\n",
    "# все элементы\n",
    "temp = df[\"hours\"].value_counts() < 0\n",
    "bad_classes = temp.index[temp.values]\n",
    "is_bad_classes = df['hours'].isin(bad_classes)\n",
    "print( sum(is_bad_classes))\n",
    "\n",
    "for k,v in keys.items():\n",
    "    temp = df[k].value_counts() < v \n",
    "    bad_classes = temp.index[temp.values]\n",
    "    is_bad_classes = df[k].isin(bad_classes) | is_bad_classes\n",
    "    print(k,v, sum(is_bad_classes))    \n",
    "\n",
    "    \n",
    "df_bad_classes = df.drop( df[ ~is_bad_classes].index)\n",
    "df_good_classes = df.drop( df[is_bad_classes].index)\n",
    "print(df_bad_classes.shape, df_good_classes.shape, df.shape)\n",
    "\n",
    "X, y = getFeaturesAndOutput(df_good_classes)\n",
    "\n",
    "X_train, X_test, y_train, y_test = train_test_split(X, y, test_size=0.3, random_state=42)\n",
    "print(X_train.columns)"
   ]
  },
  {
   "cell_type": "code",
   "execution_count": 179,
   "metadata": {
    "scrolled": true
   },
   "outputs": [
    {
     "data": {
      "image/png": "[encoded data removed]",
      "text/plain": [
       "<Figure size 720x216 with 1 Axes>"
      ]
     },
     "metadata": {
      "needs_background": "light"
     },
     "output_type": "display_data"
    },
    {
     "data": {
      "image/png": "[encoded data removed]",
      "text/plain": [
       "<Figure size 720x216 with 1 Axes>"
      ]
     },
     "metadata": {
      "needs_background": "light"
     },
     "output_type": "display_data"
    },
    {
     "data": {
      "image/png": "[encoded data removed]",
      "text/plain": [
       "<Figure size 720x216 with 1 Axes>"
      ]
     },
     "metadata": {
      "needs_background": "light"
     },
     "output_type": "display_data"
    },
    {
     "data": {
      "image/png": "[encoded data removed]",
      "text/plain": [
       "<Figure size 720x216 with 1 Axes>"
      ]
     },
     "metadata": {
      "needs_background": "light"
     },
     "output_type": "display_data"
    },
    {
     "data": {
      "image/png": "[encoded data removed]",
      "text/plain": [
       "<Figure size 720x216 with 1 Axes>"
      ]
     },
     "metadata": {
      "needs_background": "light"
     },
     "output_type": "display_data"
    },
    {
     "data": {
      "image/png": "[encoded data removed]",
      "text/plain": [
       "<Figure size 720x216 with 1 Axes>"
      ]
     },
     "metadata": {
      "needs_background": "light"
     },
     "output_type": "display_data"
    },
    {
     "data": {
      "image/png": "[encoded data removed]",
      "text/plain": [
       "<Figure size 720x216 with 1 Axes>"
      ]
     },
     "metadata": {
      "needs_background": "light"
     },
     "output_type": "display_data"
    },
    {
     "data": {
      "image/png": "[encoded data removed]",
      "text/plain": [
       "<Figure size 720x216 with 1 Axes>"
      ]
     },
     "metadata": {
      "needs_background": "light"
     },
     "output_type": "display_data"
    }
   ],
   "source": [
    "for c in ['ticket_type_nm', 'entrance_id', 'station_id', 'line_id',  \n",
    "          'day', 'hours','time_isweekend', 'time_dayofweek']:\n",
    "    plt.figure(figsize=(10,3))\n",
    "    plt.suptitle(c)\n",
    "    df_bad_classes[c].hist()\n",
    "    df_good_classes[c].hist()"
   ]
  },
  {
   "cell_type": "code",
   "execution_count": 213,
   "metadata": {},
   "outputs": [
    {
     "name": "stdout",
     "output_type": "stream",
     "text": [
      "1073749\n",
      "55501\n",
      "(1091021, 16)\n",
      "(1035520, 16)\n",
      "Index(['ticket_type_nm', 'entrance_id', 'station_id', 'line_id', 'day',\n",
      "       'hours', 'time_isweekend', 'time_dayofweek'],\n",
      "      dtype='object')\n"
     ]
    }
   ],
   "source": [
    "temp = df[\"label\"].value_counts() < 17000\n",
    "bad_classes = temp.index[temp.values]\n",
    "is_bad_classes = df['label'].isin(bad_classes)\n",
    "print(sum(is_bad_classes))\n",
    "\n",
    "temp = df[\"label\"].value_counts() > 13000\n",
    "bad_classes = temp.index[temp.values]\n",
    "is_bad_classes = df['label'].isin(bad_classes) & is_bad_classes\n",
    "print(sum(is_bad_classes))\n",
    "\n",
    "print(df.shape)\n",
    "df = df.drop( df[is_bad_classes].index)\n",
    "print(df.shape)\n",
    "\n",
    "X, y = getFeaturesAndOutput(df)\n",
    "\n",
    "X_train, X_test, y_train, y_test = train_test_split(X, y, test_size=0.3, random_state=42)\n",
    "print(X_train.columns)"
   ]
  },
  {
   "cell_type": "code",
   "execution_count": 136,
   "metadata": {},
   "outputs": [],
   "source": []
  },
  {
   "cell_type": "code",
   "execution_count": null,
   "metadata": {},
   "outputs": [],
   "source": [
    "X.head()"
   ]
  },
  {
   "cell_type": "code",
   "execution_count": 152,
   "metadata": {
    "colab": {
     "base_uri": "https://localhost:8080/",
     "height": 424
    },
    "id": "8DMXViK5SLpd",
    "outputId": "b6afedf5-05ec-4f40-fb16-aeb2b2571d2c",
    "scrolled": false
   },
   "outputs": [
    {
     "data": {
      "text/html": [
       "<div>\n",
       "<style scoped>\n",
       "    .dataframe tbody tr th:only-of-type {\n",
       "        vertical-align: middle;\n",
       "    }\n",
       "\n",
       "    .dataframe tbody tr th {\n",
       "        vertical-align: top;\n",
       "    }\n",
       "\n",
       "    .dataframe thead th {\n",
       "        text-align: right;\n",
       "    }\n",
       "</style>\n",
       "<table border=\"1\" class=\"dataframe\">\n",
       "  <thead>\n",
       "    <tr style=\"text-align: right;\">\n",
       "      <th></th>\n",
       "      <th>time_to_under</th>\n",
       "      <th>label</th>\n",
       "    </tr>\n",
       "  </thead>\n",
       "  <tbody>\n",
       "    <tr>\n",
       "      <th>686651</th>\n",
       "      <td>761.516667</td>\n",
       "      <td>6008</td>\n",
       "    </tr>\n",
       "    <tr>\n",
       "      <th>1028431</th>\n",
       "      <td>69.050000</td>\n",
       "      <td>6008</td>\n",
       "    </tr>\n",
       "    <tr>\n",
       "      <th>688416</th>\n",
       "      <td>248.833333</td>\n",
       "      <td>3002</td>\n",
       "    </tr>\n",
       "    <tr>\n",
       "      <th>76262</th>\n",
       "      <td>607.416667</td>\n",
       "      <td>3002</td>\n",
       "    </tr>\n",
       "    <tr>\n",
       "      <th>578240</th>\n",
       "      <td>610.816667</td>\n",
       "      <td>3002</td>\n",
       "    </tr>\n",
       "    <tr>\n",
       "      <th>...</th>\n",
       "      <td>...</td>\n",
       "      <td>...</td>\n",
       "    </tr>\n",
       "    <tr>\n",
       "      <th>552278</th>\n",
       "      <td>601.766667</td>\n",
       "      <td>3002</td>\n",
       "    </tr>\n",
       "    <tr>\n",
       "      <th>213498</th>\n",
       "      <td>675.400000</td>\n",
       "      <td>3002</td>\n",
       "    </tr>\n",
       "    <tr>\n",
       "      <th>373378</th>\n",
       "      <td>597.266667</td>\n",
       "      <td>6008</td>\n",
       "    </tr>\n",
       "    <tr>\n",
       "      <th>38839</th>\n",
       "      <td>594.300000</td>\n",
       "      <td>3002</td>\n",
       "    </tr>\n",
       "    <tr>\n",
       "      <th>505749</th>\n",
       "      <td>81.033333</td>\n",
       "      <td>6008</td>\n",
       "    </tr>\n",
       "  </tbody>\n",
       "</table>\n",
       "<p>22969 rows × 2 columns</p>\n",
       "</div>"
      ],
      "text/plain": [
       "         time_to_under  label\n",
       "686651      761.516667   6008\n",
       "1028431      69.050000   6008\n",
       "688416      248.833333   3002\n",
       "76262       607.416667   3002\n",
       "578240      610.816667   3002\n",
       "...                ...    ...\n",
       "552278      601.766667   3002\n",
       "213498      675.400000   3002\n",
       "373378      597.266667   6008\n",
       "38839       594.300000   3002\n",
       "505749       81.033333   6008\n",
       "\n",
       "[22969 rows x 2 columns]"
      ]
     },
     "execution_count": 152,
     "metadata": {},
     "output_type": "execute_result"
    }
   ],
   "source": [
    "y_train"
   ]
  },
  {
   "cell_type": "markdown",
   "metadata": {
    "id": "60NotS9ehbO5"
   },
   "source": [
    "## Обучение модели"
   ]
  },
  {
   "cell_type": "markdown",
   "metadata": {
    "id": "uZW02LaeSVpa"
   },
   "source": [
    "### Для станции "
   ]
  },
  {
   "cell_type": "code",
   "execution_count": 14,
   "metadata": {
    "id": "jc-KKFlWf6_N"
   },
   "outputs": [],
   "source": [
    "# %%time\n",
    "\n",
    "# datalen = y_train.shape[0]\n",
    "# chunksize = 10000\n",
    "\n",
    "# clf = RandomForestClassifier(random_state=0, max_depth=15, n_jobs=1, warm_start=True)\n",
    "# clf.fit(X_train[:chunksize], y_train[\"label\"][:chunksize])\n",
    "\n",
    "# i = 0\n",
    "# while i < datalen:\n",
    "#     clf.fit(X_train[i:i+chunksize], y_train[\"label\"][i:i+chunksize])\n",
    "#     i = i + chunksize\n"
   ]
  },
  {
   "cell_type": "code",
   "execution_count": 9,
   "metadata": {},
   "outputs": [
    {
     "name": "stdout",
     "output_type": "stream",
     "text": [
      "Wall time: 738 ms\n"
     ]
    },
    {
     "data": {
      "text/plain": [
       "RandomForestClassifier(max_depth=10, n_estimators=200, n_jobs=4, random_state=0)"
      ]
     },
     "execution_count": 9,
     "metadata": {},
     "output_type": "execute_result"
    }
   ],
   "source": [
    "%%time\n",
    "\n",
    "clf = RandomForestClassifier(random_state=0, max_depth=10, n_estimators=200, n_jobs=4)\n",
    "clf.fit(X_train, y_train[\"label\"])\n",
    "\n",
    "# festo ~4min  n_jobs=2"
   ]
  },
  {
   "cell_type": "code",
   "execution_count": 248,
   "metadata": {},
   "outputs": [
    {
     "data": {
      "text/plain": [
       "RandomForestClassifier(max_depth=10, n_estimators=200, n_jobs=-1,\n",
       "                       random_state=0)"
      ]
     },
     "execution_count": 248,
     "metadata": {},
     "output_type": "execute_result"
    }
   ],
   "source": [
    "# классификатор специально для плохих классов\n",
    "clf_bad = RandomForestClassifier(random_state=0, max_depth=10, n_estimators=200, n_jobs=-1)\n",
    "clf_bad.fit(Xb, yb[\"label\"])\n"
   ]
  },
  {
   "cell_type": "code",
   "execution_count": 20,
   "metadata": {},
   "outputs": [],
   "source": [
    "# import pickle\n",
    "\n",
    "# with open('./clf.data', 'wb') as f:\n",
    "#     pickle.dump(clf, f)"
   ]
  },
  {
   "cell_type": "markdown",
   "metadata": {},
   "source": [
    "## Среднее"
   ]
  },
  {
   "cell_type": "code",
   "execution_count": 92,
   "metadata": {
    "scrolled": true
   },
   "outputs": [
    {
     "name": "stdout",
     "output_type": "stream",
     "text": [
      "10\n",
      "Classification:\n",
      "i= 0\n",
      "Train\t 0.8749724233358741 0.010747035227357914\n",
      "Test\t 0.5173280633244782 0.014700114910733775\n",
      "--------------\n",
      "i= 1\n",
      "Train\t 0.8750304467719098 0.010747670781230175\n",
      "Test\t 0.5154325400961209 0.018694343278111158\n",
      "--------------\n",
      "i= 2\n",
      "Train\t 0.8750560098716745 0.010611439186588509\n",
      "Test\t 0.5107557750887247 0.020724952073598837\n",
      "--------------\n",
      "i= 3\n",
      "Train\t 0.8745317931198096 0.011031184772232713\n",
      "Test\t 0.518172367080509 0.015153194813525478\n",
      "--------------\n",
      "i= 4\n",
      "Train\t 0.8759552012097617 0.011361707976427583\n",
      "Test\t 0.5113355835838999 0.018214915726676793\n",
      "--------------\n",
      "i= 5\n",
      "Train\t 0.8754228919478737 0.011619021824199468\n",
      "Test\t 0.514219618937055 0.016498301598143576\n",
      "--------------\n",
      "i= 6\n",
      "Train\t 0.8753584223276091 0.01014845580821592\n",
      "Test\t 0.5195383990204179 0.015456450334129637\n",
      "--------------\n",
      "i= 7\n",
      "Train\t 0.8749450308383636 0.010827194614879172\n",
      "Test\t 0.5219074942729504 0.01652809770636295\n",
      "--------------\n",
      "i= 8\n",
      "Train\t 0.8757702804933523 0.010372046750010952\n",
      "Test\t 0.5116040719445519 0.017857694786601135\n",
      "--------------\n",
      "i= 9\n",
      "Train\t 0.8742340638296359 0.011825541669352615\n",
      "Test\t 0.516286056358585 0.01603022143932322\n",
      "--------------\n"
     ]
    }
   ],
   "source": [
    "rs = [150, 13, 18, 19, 86352, 264234, 96340, 131313, 18603, 82735]\n",
    "print(len(rs))\n",
    "preds = []\n",
    "print('Classification:')\n",
    "\n",
    "for i in range(len(rs)):\n",
    "    print('i =',i)\n",
    "    clf = RandomForestClassifier(random_state=i, max_depth=15, n_estimators=200, n_jobs=-1)\n",
    "    X_train, X_val, y_train, y_val = train_test_split(X, y['label'], train_size=0.8, random_state=i)\n",
    "\n",
    "# запуск обучения\n",
    "    clf.fit(X_train, y_train)\n",
    "    scores = cross_validate(clf, X.values, y['label'].values, scoring='recall_macro', cv=3, n_jobs=-1, return_train_score=True)\n",
    "    print('Train\\t', scores['train_score'].mean(), scores['train_score'].std())\n",
    "    print('Test\\t', scores['test_score'].mean(), scores['test_score'].std())\n",
    "    print('--------------')\n",
    "    \n",
    "    pred = clf.predict_proba(X_test)\n",
    "    preds.append(pred)\n",
    "    \n",
    "#  Усредняем прогнозы\n",
    "pred = np.mean(preds, axis=0)\n",
    "\n",
    "pred_clf = np.argmax(pred, axis=1)   # maxed argument\n",
    "pred_clf = clf.classes_[pred_clf]   # maxed class\n"
   ]
  },
  {
   "cell_type": "code",
   "execution_count": 93,
   "metadata": {},
   "outputs": [],
   "source": []
  },
  {
   "cell_type": "code",
   "execution_count": 91,
   "metadata": {},
   "outputs": [
    {
     "data": {
      "text/plain": [
       "array([6008, 6008, 6008, ..., 3002, 6008, 6008], dtype=int64)"
      ]
     },
     "execution_count": 91,
     "metadata": {},
     "output_type": "execute_result"
    }
   ],
   "source": []
  },
  {
   "cell_type": "markdown",
   "metadata": {},
   "source": [
    "## lightgbm"
   ]
  },
  {
   "cell_type": "code",
   "execution_count": 67,
   "metadata": {},
   "outputs": [],
   "source": [
    "from sklearn import preprocessing\n",
    "le = preprocessing.LabelEncoder()\n",
    "\n",
    "le.fit(y['label'])\n",
    "ylabel = le.transform(y['label'])\n",
    "\n",
    "# print(le.fit(y['label']),\n",
    "# le.classes_,\n",
    "# le.transform(y['label']),\n",
    "# le.inverse_transform([0, 0, 1, 2]))\n"
   ]
  },
  {
   "cell_type": "code",
   "execution_count": 68,
   "metadata": {},
   "outputs": [
    {
     "data": {
      "text/plain": [
       "array([0, 1], dtype=int64)"
      ]
     },
     "execution_count": 68,
     "metadata": {},
     "output_type": "execute_result"
    }
   ],
   "source": [
    "np.unique(ylabel)"
   ]
  },
  {
   "cell_type": "code",
   "execution_count": 76,
   "metadata": {
    "scrolled": false
   },
   "outputs": [
    {
     "name": "stdout",
     "output_type": "stream",
     "text": [
      "Wall time: 1.54 s\n"
     ]
    },
    {
     "data": {
      "text/plain": [
       "<AxesSubplot:title={'center':'Feature importance'}, xlabel='Feature importance', ylabel='Features'>"
      ]
     },
     "execution_count": 76,
     "metadata": {},
     "output_type": "execute_result"
    },
    {
     "data": {
      "image/png": "[encoded data removed]",
      "text/plain": [
       "<Figure size 504x720 with 1 Axes>"
      ]
     },
     "metadata": {
      "needs_background": "light"
     },
     "output_type": "display_data"
    }
   ],
   "source": [
    "%%time\n",
    "\n",
    "import lightgbm as lgb\n",
    "\n",
    "# clf = lgb.LGBMClassifier(n_estimators=1500, num_leaves=10, learning_rate=0.05, colsample_bytree=0.75, verbose=1000,\n",
    "#                          subsample=0.75, random_state=13, metric='multi_logloss', objective='multiclass', n_jobs=-1)\n",
    "\n",
    "clf = lgb.LGBMClassifier(n_estimators=1500, num_leaves=15, verbose=1000,\n",
    "                         random_state=13, metric='f1', objective='binary', n_jobs=-1)\n",
    "clf.fit(X, ylabel, eval_metric='recall')\n",
    "# multi_error\n",
    "\n",
    "lgb.plot_importance(clf, figsize=(7,10))"
   ]
  },
  {
   "cell_type": "code",
   "execution_count": 138,
   "metadata": {},
   "outputs": [
    {
     "data": {
      "text/plain": [
       "defaultdict(dict, {})"
      ]
     },
     "execution_count": 138,
     "metadata": {},
     "output_type": "execute_result"
    }
   ],
   "source": [
    "clf.best_score_"
   ]
  },
  {
   "cell_type": "code",
   "execution_count": null,
   "metadata": {},
   "outputs": [],
   "source": []
  },
  {
   "cell_type": "code",
   "execution_count": null,
   "metadata": {},
   "outputs": [],
   "source": []
  },
  {
   "cell_type": "markdown",
   "metadata": {
    "id": "bWkUCLOfSYGU"
   },
   "source": [
    "### Для времени"
   ]
  },
  {
   "cell_type": "code",
   "execution_count": 10,
   "metadata": {
    "colab": {
     "base_uri": "https://localhost:8080/"
    },
    "id": "bSwqI6szSsm0",
    "outputId": "941b2e16-2eae-4f32-d9a6-e59da6efdb50"
   },
   "outputs": [
    {
     "name": "stdout",
     "output_type": "stream",
     "text": [
      "Wall time: 1.01 s\n"
     ]
    },
    {
     "data": {
      "text/plain": [
       "RandomForestRegressor(max_depth=15, n_estimators=200, n_jobs=-1, random_state=0)"
      ]
     },
     "execution_count": 10,
     "metadata": {},
     "output_type": "execute_result"
    }
   ],
   "source": [
    "%%time\n",
    "reg = RandomForestRegressor(random_state=0, max_depth=15, n_estimators=200, n_jobs=-1)\n",
    "\n",
    "reg.fit(X_train, y_train[\"time_to_under\"])\n",
    "\n",
    "# фесто 45с n_jobs=-1"
   ]
  },
  {
   "cell_type": "code",
   "execution_count": 21,
   "metadata": {},
   "outputs": [],
   "source": [
    "# import pickle\n",
    "\n",
    "# with open('./reg.data', 'wb') as f:\n",
    "#     pickle.dump(reg, f)"
   ]
  },
  {
   "cell_type": "code",
   "execution_count": null,
   "metadata": {},
   "outputs": [],
   "source": []
  },
  {
   "cell_type": "markdown",
   "metadata": {},
   "source": [
    "## Линейная"
   ]
  },
  {
   "cell_type": "code",
   "execution_count": 20,
   "metadata": {
    "scrolled": true
   },
   "outputs": [
    {
     "name": "stdout",
     "output_type": "stream",
     "text": [
      "CPU times: user 353 ms, sys: 23.3 ms, total: 376 ms\n",
      "Wall time: 94.3 ms\n"
     ]
    },
    {
     "data": {
      "text/plain": [
       "LinearRegression(copy_X=True, fit_intercept=True, n_jobs=-1, normalize=False)"
      ]
     },
     "execution_count": 20,
     "metadata": {},
     "output_type": "execute_result"
    }
   ],
   "source": [
    "# %%time \n",
    "\n",
    "# from sklearn.linear_model import LinearRegression\n",
    "\n",
    "# reg = LinearRegression(n_jobs=-1)\n",
    "# reg.fit(X_train, y_train[\"time_to_under\"])"
   ]
  },
  {
   "cell_type": "markdown",
   "metadata": {},
   "source": [
    "## lightgbm"
   ]
  },
  {
   "cell_type": "code",
   "execution_count": 70,
   "metadata": {
    "scrolled": true
   },
   "outputs": [
    {
     "name": "stdout",
     "output_type": "stream",
     "text": [
      "Wall time: 1.12 s\n"
     ]
    },
    {
     "data": {
      "text/plain": [
       "defaultdict(dict, {})"
      ]
     },
     "execution_count": 70,
     "metadata": {},
     "output_type": "execute_result"
    }
   ],
   "source": [
    "%%time\n",
    "\n",
    "# reg = lgb.LGBMRegressor(n_estimators=1500, num_leaves=10, learning_rate=0.05, colsample_bytree=0.75, verbose=100,\n",
    "#                          subsample=0.75, random_state=13, metric='r2', objective='regression', n_jobs=-1)\n",
    "\n",
    "reg = lgb.LGBMRegressor(n_estimators=1500, num_leaves=10, verbose=1,\n",
    "                        random_state=13, metric='r2', objective='regression', n_jobs=-1)\n",
    "\n",
    "reg.fit(X, y['time_to_under'], eval_metric='r2')\n",
    "\n",
    "reg.best_score_"
   ]
  },
  {
   "cell_type": "code",
   "execution_count": 140,
   "metadata": {},
   "outputs": [],
   "source": []
  },
  {
   "cell_type": "markdown",
   "metadata": {},
   "source": [
    "## Среднее по прогнозу"
   ]
  },
  {
   "cell_type": "code",
   "execution_count": null,
   "metadata": {},
   "outputs": [],
   "source": [
    "rs = [150, 13, 18, 19, 86352, 264234, 96340, 131313, 18603, 82735]\n",
    "print(len(rs))\n",
    "preds = []\n",
    "\n",
    "for i in range(len(rs)):\n",
    "    print(i)\n",
    "#     est = lgb.LGBMClassifier(n_estimators=150, random_state=i, num_leaves=50, max_depth=20, n_jobs=-1)\n",
    "#     est.fit(train[full_list_of_features], train['higher_education'])\n",
    "#     score = cross_val_score(est, train[full_list_of_features], train['higher_education'], scoring='roc_auc', cv=5, n_jobs=-1)\n",
    "\n",
    "    X_train, X_val, y_train, y_val = train_test_split(train[full_list_of_features], train['higher_education'], \n",
    "                                                       train_size=0.8, \n",
    "                                                       random_state=i)\n",
    "\n",
    "# запуск обучения\n",
    "    est.fit(X_train, y_train,\n",
    "                        eval_set=(X_val, y_val),\n",
    "                        verbose=500, plot=False, early_stopping_rounds=600)\n",
    "    print(est.get_best_score())\n",
    "    print('--------------')\n",
    "    \n",
    "    pred = est.predict_proba(test[full_list_of_features])\n",
    "    preds.append(pred)\n",
    "    \n",
    "#  Усредняем прогнозы\n",
    "print(np.mean(preds, axis=0).shape)\n",
    "pred = np.mean(preds, axis=0)"
   ]
  },
  {
   "cell_type": "code",
   "execution_count": null,
   "metadata": {},
   "outputs": [],
   "source": []
  },
  {
   "cell_type": "code",
   "execution_count": null,
   "metadata": {},
   "outputs": [],
   "source": []
  },
  {
   "cell_type": "markdown",
   "metadata": {
    "id": "6Y60HHS5jKeN"
   },
   "source": [
    "## Оценка точности"
   ]
  },
  {
   "cell_type": "code",
   "execution_count": 71,
   "metadata": {
    "colab": {
     "base_uri": "https://localhost:8080/"
    },
    "id": "AgEZTGYujQMW",
    "outputId": "e326b73a-a2db-4722-e07c-97089b971978"
   },
   "outputs": [
    {
     "name": "stdout",
     "output_type": "stream",
     "text": [
      "0.8072741377933442 0.612112555597087 0.7096933466952156\n"
     ]
    }
   ],
   "source": [
    "from sklearn.metrics import recall_score, r2_score\n",
    "\n",
    "pred_class = clf.predict(X_test)\n",
    "pred_reg = reg.predict(X_test)\n",
    "\n",
    "\n",
    "#  for LGBM inverse transform of classes\n",
    "if type(clf) == lgb.sklearn.LGBMClassifier:\n",
    "    pred_class = le.inverse_transform(pred_class)\n",
    "    \n",
    "\n",
    "rs = recall_score(y_test[\"label\"], pred_class , average='macro')\n",
    "r2 = r2_score(y_test[\"time_to_under\"], pred_reg)\n",
    "score = 0.5 * rs +  0.5 * r2\n",
    "\n",
    "print(rs, r2, score)"
   ]
  },
  {
   "cell_type": "code",
   "execution_count": null,
   "metadata": {},
   "outputs": [],
   "source": [
    "# 0.4897555334746157   -- baseline\n",
    "# 0.2678758686368177   -- baseline, обучение на всех данных.  На паблике 0.092150\n",
    "\n",
    "# Recall, R2, score\n",
    "# 2*0.0028946815886393275 0.4765418328846045 0.2397182572366219   -- logit, linreg  public  -0.177917\n",
    "# 0.051367635290150336 0.5337106363746371 0.2925391358323937 -- RandomForestClassifier, RandomForestRegressor, полный набор\n",
    "# 0.0038071101519124456 0.5337099924062669 0.2687585512790897 -- RandomForestClassifier, RandomForestRegressor, df[\"time_to_under\"] < 900\n",
    "\n",
    "\n",
    "# 0.1003784996172645 0.5477282066729828 0.3240533531451237 -- RandomForestClassifier, bad_classes\n",
    "# 0.7298980069136254 0.5175243103995155 0.6237111586565705   # stationsize < 15000\n",
    "# 0.12490370842962603 0.5237048533791078 0.3243042809043669  # stationsize < 7000\n",
    "# 0.240904745579802 0.5105320359587164 0.3757183907692592    # stationsize < 10000  \n",
    "# 0.7268148266459791 0.5187556104925162 0.6227852185692476   # stationsize < 15000  no id \n",
    "#     for ALL: 0.00546378514749871 0.4575358691068202 0.23149982712715947\n",
    "\n",
    "# LGBM, # stationsize < 7000\n",
    "# 0.1710043969339049 0.5347006858367624 0.3528525413853337\n",
    "# Public Score = 0.042972\n",
    "\n",
    "# LGBM, stationsize < 10000\n",
    "# 0.06935987873302325 0.5263155078550112 0.29783769329401727\n",
    "# Public Score = 0.001329\n",
    "\n",
    "# LGBM, stationsize < 15000\n",
    "# 0.8072741377933442 0.612112555597087 0.7096933466952156\n",
    "# Public Score = 0.001329\n"
   ]
  },
  {
   "cell_type": "code",
   "execution_count": 72,
   "metadata": {},
   "outputs": [
    {
     "name": "stdout",
     "output_type": "stream",
     "text": [
      "0.005859754923904208 0.48805489846310646 0.24695732669350534\n",
      "Wall time: 10.1 s\n"
     ]
    }
   ],
   "source": [
    "%%time\n",
    "# метри на всех данных, включая обучение\n",
    "from sklearn.metrics import recall_score, r2_score\n",
    "\n",
    "pred_class = clf.predict(Xa)\n",
    "pred_reg = reg.predict(Xa)\n",
    "\n",
    "#  for LGBM inverse transform of classes\n",
    "if type(clf) == lgb.sklearn.LGBMClassifier:\n",
    "    pred_class = le.inverse_transform(pred_class)\n",
    "    \n",
    "\n",
    "rs = recall_score(ya[\"label\"], pred_class , average='macro')\n",
    "r2 = r2_score(ya[\"time_to_under\"], pred_reg)\n",
    "score = 0.5 * rs +  0.5 * r2\n",
    "\n",
    "print(rs, r2, score)"
   ]
  },
  {
   "cell_type": "code",
   "execution_count": 77,
   "metadata": {},
   "outputs": [
    {
     "name": "stdout",
     "output_type": "stream",
     "text": [
      "Classification:\n",
      "Train\t 0.8478287041983072 0.004871837862916295\n",
      "Test\t 0.49947605530714956 0.09540900794705379\n",
      "Regression:\n",
      "Train\t 0.6213304116864278 0.0075651389258668015\n",
      "Test\t 0.4822871210382475 0.0667711249642018\n",
      "0.49088158817269856\n",
      "Wall time: 10.1 s\n"
     ]
    }
   ],
   "source": [
    "%%time\n",
    "# метрики на обучающей выборке\n",
    "\n",
    "scores = cross_validate(clf, X.values, y['label'].values, scoring='recall_macro', cv=5, n_jobs=-1, return_train_score=True)\n",
    "print('Classification:')\n",
    "print('Train\\t', scores['train_score'].mean(), scores['train_score'].std())\n",
    "print('Test\\t', scores['test_score'].mean(), scores['test_score'].std())\n",
    "\n",
    "\n",
    "scores1 = cross_validate(reg, X.values, y['time_to_under'].values, scoring='r2', cv=5, n_jobs=-1, return_train_score=True)\n",
    "print('Regression:')\n",
    "print('Train\\t', scores1['train_score'].mean(), scores1['train_score'].std())\n",
    "print('Test\\t', scores1['test_score'].mean(), scores1['test_score'].std())\n",
    "\n",
    "print(0.5*scores1['test_score'].mean() + 0.5*scores['test_score'].mean())"
   ]
  },
  {
   "cell_type": "code",
   "execution_count": null,
   "metadata": {},
   "outputs": [],
   "source": [
    "## CV metrics\n",
    "# < 900\n",
    "# Class           Train 0.13561506174050203 0.003919650939196688,  Test 0.05748999133734326 0.02317111428466088\n",
    "# Regress         Train 0.6235695720322265 0.01699774672075998,    Test 0.45812485786452795 0.028581941528906817\n",
    "\n",
    "# stationsize < 1000\n",
    "# Classification: Train 0.06411120481666817 0.0024074551124603186, Test 0.027039440606936464 0.011243727223666317\n",
    "# Regression:     Train 0.579278188403807 0.01587261373976514,     Test 0.46565763045506064 0.035428402233769515\n",
    "# Public Score = 0.141005\n",
    "\n",
    "# stationsize < 15000\n",
    "# Classification: Train\t 0.7766608130174626 0.0071032513880352225  Test\t 0.5059780312150269 0.06739058625640744\n",
    "# Regression:     Train\t 0.7705591530210607 0.008838076905600432   Test\t 0.4577849308723593 0.03791206577049757\n",
    "# 0.4818814810436931  Wall time: 6.27 s\n",
    "# Public Score = 0.173457\n",
    "\n",
    "# stationsize < 7000\n",
    "# Classification: Train\t 0.13900015725605608 0.0037958818071982866 Test\t 0.05605391160258757 0.0306836823057727\n",
    "# Regression:     Train\t 0.60357617541174 0.015187794866878612     Test\t 0.45970415872525844 0.03722895441220533\n",
    "# 0.257879035163923 Wall time: 2min 14s\n",
    "# Public Score = 0.133424\n",
    "\n",
    "# stationsize < 10000,  no ID\n",
    "# Classification: Train\t 0.2787722778628954 0.004338544045341835 Test\t 0.15528023132256066 0.041954169158995115\n",
    "# Regression:     Train\t 0.6416177727962342 0.014415805234755505 Test\t 0.4782292343470019 0.03415935935014842\n",
    "# 0.3167547328347813 Wall time: 23.2 s\n",
    "# Public Score = 0.244189\n",
    "\n",
    "# stationsize < 15000,  no ID\n",
    "# Classification: Train\t 0.7720645710811282 0.005873207117476362 Test\t 0.5623202763660694 0.09237584979308287\n",
    "# Regression:     Train\t 0.7622781640795253 0.007740854170605912 Test\t 0.4915200822784128 0.050455129262114755\n",
    "# 0.5269201793222411\n",
    "# Public Score = 0.264127\n",
    "\n",
    "# фильтрация мелких ,no id, stationsize < 15000,\n",
    "# Classification: Train\t 0.7719039254587703 0.006477676816194996 Test\t 0.5638129312667978 0.09450788579681955\n",
    "# Regression:     Train\t 0.7646547568538787 0.007538764947371263 Test\t 0.47698701614447636 0.04871780454952521\n",
    "# 0.5203999737056371\n",
    "\n",
    "# фильтрация мелких ,no id, stationsize < 10000\n",
    "# Classification: Train\t 0.27941318295671713 0.0045865872402338845 Test\t 0.15562130936292462 0.04268192163476864\n",
    "# Regression:     Train\t 0.6397308303975837 0.014399857483422976   Test\t 0.47370939807611034 0.03220779788909969\n",
    "# 0.3146653537195175\n",
    "\n",
    "# фильтрация мелких, сильно для стацнии < 50000, no id, stationsize < 10000\n",
    "# Classification: Train\t 0.33213655888382176 0.007067528909779927  Test\t 0.19803723357701755 0.04791679899776778\n",
    "# Regression:     Train\t 0.49269350782515353 0.015896222111523712  Test\t 0.1938500070764645 0.028002819079490496\n",
    "# 0.195943620326741\n",
    "\n",
    "# no id, stationsize < 10000\n",
    "# Classification: Train\t 0.34367501764037556 0.005250117309535671  Test\t 0.34321400717351574 0.029812380436278697\n",
    "# Regression:     Train\t 0.5649646048741646 0.014121051506749503   Test\t 0.4813427666807506 0.027425559897654557\n",
    "# 0.41227838692713314\n",
    "\n",
    "\n",
    "# LGBM\n",
    "# stationsize < 10000\n",
    "# Classification: Train\t 0.33192901427429555 0.005872930829746373 Test\t 0.11362338163112295 0.05386222823723618\n",
    "# Regression:     Train\t 0.5397642642266066 0.012073370061145386  Test\t 0.4547109149300333 0.045197869452318525\n",
    "# 0.2841671482805781 Wall time: 6min 8s\n",
    "# Public Score = 0.001329\n",
    "\n",
    "# stationsize < 15000, no id, настройки не урезал\n",
    "# Classification:   Train\t 0.8230786648944118 0.005978248075112078  Test\t 0.5003057647367186 0.09223682436914307\n",
    "# Regression:       Train\t 0.6213304116864278 0.0075651389258668015 Test\t 0.4822871210382475 0.0667711249642018\n",
    "# 0.4912964428874831"
   ]
  },
  {
   "cell_type": "markdown",
   "metadata": {},
   "source": [
    "### classification_report"
   ]
  },
  {
   "cell_type": "code",
   "execution_count": 23,
   "metadata": {
    "scrolled": true
   },
   "outputs": [
    {
     "ename": "ValueError",
     "evalue": "Found input variables with inconsistent numbers of samples: [9844, 561890]",
     "output_type": "error",
     "traceback": [
      "\u001b[1;31m---------------------------------------------------------------------------\u001b[0m",
      "\u001b[1;31mValueError\u001b[0m                                Traceback (most recent call last)",
      "\u001b[1;32m<ipython-input-23-c4b62a53e15b>\u001b[0m in \u001b[0;36m<module>\u001b[1;34m\u001b[0m\n\u001b[0;32m      1\u001b[0m \u001b[1;32mfrom\u001b[0m \u001b[0msklearn\u001b[0m\u001b[1;33m.\u001b[0m\u001b[0mmetrics\u001b[0m \u001b[1;32mimport\u001b[0m \u001b[0mclassification_report\u001b[0m\u001b[1;33m\u001b[0m\u001b[1;33m\u001b[0m\u001b[0m\n\u001b[0;32m      2\u001b[0m \u001b[1;33m\u001b[0m\u001b[0m\n\u001b[1;32m----> 3\u001b[1;33m \u001b[0mprint\u001b[0m\u001b[1;33m(\u001b[0m\u001b[0mclassification_report\u001b[0m\u001b[1;33m(\u001b[0m\u001b[0my_test\u001b[0m\u001b[1;33m[\u001b[0m\u001b[1;34m\"label\"\u001b[0m\u001b[1;33m]\u001b[0m\u001b[1;33m,\u001b[0m \u001b[0mpred_class\u001b[0m\u001b[1;33m)\u001b[0m\u001b[1;33m)\u001b[0m\u001b[1;33m\u001b[0m\u001b[1;33m\u001b[0m\u001b[0m\n\u001b[0m",
      "\u001b[1;32mC:\\ProgramData\\Anaconda3\\lib\\site-packages\\sklearn\\utils\\validation.py\u001b[0m in \u001b[0;36minner_f\u001b[1;34m(*args, **kwargs)\u001b[0m\n\u001b[0;32m     70\u001b[0m                           FutureWarning)\n\u001b[0;32m     71\u001b[0m         \u001b[0mkwargs\u001b[0m\u001b[1;33m.\u001b[0m\u001b[0mupdate\u001b[0m\u001b[1;33m(\u001b[0m\u001b[1;33m{\u001b[0m\u001b[0mk\u001b[0m\u001b[1;33m:\u001b[0m \u001b[0marg\u001b[0m \u001b[1;32mfor\u001b[0m \u001b[0mk\u001b[0m\u001b[1;33m,\u001b[0m \u001b[0marg\u001b[0m \u001b[1;32min\u001b[0m \u001b[0mzip\u001b[0m\u001b[1;33m(\u001b[0m\u001b[0msig\u001b[0m\u001b[1;33m.\u001b[0m\u001b[0mparameters\u001b[0m\u001b[1;33m,\u001b[0m \u001b[0margs\u001b[0m\u001b[1;33m)\u001b[0m\u001b[1;33m}\u001b[0m\u001b[1;33m)\u001b[0m\u001b[1;33m\u001b[0m\u001b[1;33m\u001b[0m\u001b[0m\n\u001b[1;32m---> 72\u001b[1;33m         \u001b[1;32mreturn\u001b[0m \u001b[0mf\u001b[0m\u001b[1;33m(\u001b[0m\u001b[1;33m**\u001b[0m\u001b[0mkwargs\u001b[0m\u001b[1;33m)\u001b[0m\u001b[1;33m\u001b[0m\u001b[1;33m\u001b[0m\u001b[0m\n\u001b[0m\u001b[0;32m     73\u001b[0m     \u001b[1;32mreturn\u001b[0m \u001b[0minner_f\u001b[0m\u001b[1;33m\u001b[0m\u001b[1;33m\u001b[0m\u001b[0m\n\u001b[0;32m     74\u001b[0m \u001b[1;33m\u001b[0m\u001b[0m\n",
      "\u001b[1;32mC:\\ProgramData\\Anaconda3\\lib\\site-packages\\sklearn\\metrics\\_classification.py\u001b[0m in \u001b[0;36mclassification_report\u001b[1;34m(y_true, y_pred, labels, target_names, sample_weight, digits, output_dict, zero_division)\u001b[0m\n\u001b[0;32m   1927\u001b[0m     \"\"\"\n\u001b[0;32m   1928\u001b[0m \u001b[1;33m\u001b[0m\u001b[0m\n\u001b[1;32m-> 1929\u001b[1;33m     \u001b[0my_type\u001b[0m\u001b[1;33m,\u001b[0m \u001b[0my_true\u001b[0m\u001b[1;33m,\u001b[0m \u001b[0my_pred\u001b[0m \u001b[1;33m=\u001b[0m \u001b[0m_check_targets\u001b[0m\u001b[1;33m(\u001b[0m\u001b[0my_true\u001b[0m\u001b[1;33m,\u001b[0m \u001b[0my_pred\u001b[0m\u001b[1;33m)\u001b[0m\u001b[1;33m\u001b[0m\u001b[1;33m\u001b[0m\u001b[0m\n\u001b[0m\u001b[0;32m   1930\u001b[0m \u001b[1;33m\u001b[0m\u001b[0m\n\u001b[0;32m   1931\u001b[0m     \u001b[0mlabels_given\u001b[0m \u001b[1;33m=\u001b[0m \u001b[1;32mTrue\u001b[0m\u001b[1;33m\u001b[0m\u001b[1;33m\u001b[0m\u001b[0m\n",
      "\u001b[1;32mC:\\ProgramData\\Anaconda3\\lib\\site-packages\\sklearn\\metrics\\_classification.py\u001b[0m in \u001b[0;36m_check_targets\u001b[1;34m(y_true, y_pred)\u001b[0m\n\u001b[0;32m     79\u001b[0m     \u001b[0my_pred\u001b[0m \u001b[1;33m:\u001b[0m \u001b[0marray\u001b[0m \u001b[1;32mor\u001b[0m \u001b[0mindicator\u001b[0m \u001b[0mmatrix\u001b[0m\u001b[1;33m\u001b[0m\u001b[1;33m\u001b[0m\u001b[0m\n\u001b[0;32m     80\u001b[0m     \"\"\"\n\u001b[1;32m---> 81\u001b[1;33m     \u001b[0mcheck_consistent_length\u001b[0m\u001b[1;33m(\u001b[0m\u001b[0my_true\u001b[0m\u001b[1;33m,\u001b[0m \u001b[0my_pred\u001b[0m\u001b[1;33m)\u001b[0m\u001b[1;33m\u001b[0m\u001b[1;33m\u001b[0m\u001b[0m\n\u001b[0m\u001b[0;32m     82\u001b[0m     \u001b[0mtype_true\u001b[0m \u001b[1;33m=\u001b[0m \u001b[0mtype_of_target\u001b[0m\u001b[1;33m(\u001b[0m\u001b[0my_true\u001b[0m\u001b[1;33m)\u001b[0m\u001b[1;33m\u001b[0m\u001b[1;33m\u001b[0m\u001b[0m\n\u001b[0;32m     83\u001b[0m     \u001b[0mtype_pred\u001b[0m \u001b[1;33m=\u001b[0m \u001b[0mtype_of_target\u001b[0m\u001b[1;33m(\u001b[0m\u001b[0my_pred\u001b[0m\u001b[1;33m)\u001b[0m\u001b[1;33m\u001b[0m\u001b[1;33m\u001b[0m\u001b[0m\n",
      "\u001b[1;32mC:\\ProgramData\\Anaconda3\\lib\\site-packages\\sklearn\\utils\\validation.py\u001b[0m in \u001b[0;36mcheck_consistent_length\u001b[1;34m(*arrays)\u001b[0m\n\u001b[0;32m    254\u001b[0m     \u001b[1;32mif\u001b[0m \u001b[0mlen\u001b[0m\u001b[1;33m(\u001b[0m\u001b[0muniques\u001b[0m\u001b[1;33m)\u001b[0m \u001b[1;33m>\u001b[0m \u001b[1;36m1\u001b[0m\u001b[1;33m:\u001b[0m\u001b[1;33m\u001b[0m\u001b[1;33m\u001b[0m\u001b[0m\n\u001b[0;32m    255\u001b[0m         raise ValueError(\"Found input variables with inconsistent numbers of\"\n\u001b[1;32m--> 256\u001b[1;33m                          \" samples: %r\" % [int(l) for l in lengths])\n\u001b[0m\u001b[0;32m    257\u001b[0m \u001b[1;33m\u001b[0m\u001b[0m\n\u001b[0;32m    258\u001b[0m \u001b[1;33m\u001b[0m\u001b[0m\n",
      "\u001b[1;31mValueError\u001b[0m: Found input variables with inconsistent numbers of samples: [9844, 561890]"
     ]
    }
   ],
   "source": [
    "from sklearn.metrics import classification_report\n",
    "\n",
    "print(classification_report(y_test[\"label\"], pred_class))"
   ]
  },
  {
   "cell_type": "code",
   "execution_count": 102,
   "metadata": {},
   "outputs": [
    {
     "name": "stdout",
     "output_type": "stream",
     "text": [
      "0 / 10\n"
     ]
    }
   ],
   "source": [
    "# классы, которые плохо прогнозируются\n",
    "\n",
    "from sklearn.metrics import multilabel_confusion_matrix\n",
    "mcm = multilabel_confusion_matrix(y_test[\"label\"], pred_class)\n",
    "\n",
    "bad_classes_classes = sorted(y_test[\"label\"].unique())   #  список классов\n",
    "\n",
    "bad_classes = []\n",
    "for i in range(len(mcm)):\n",
    "    if mcm[i][1,1] <= 1:\n",
    "        bad_classes.append(bad_classes_classes[i])\n",
    "#     print(mcm[i][1,1])\n",
    "\n",
    "print(len(bad_classes),'/',len(bad_classes_classes))"
   ]
  },
  {
   "cell_type": "markdown",
   "metadata": {},
   "source": [
    "## ищем коилчество посещений ,которое не подходит"
   ]
  },
  {
   "cell_type": "code",
   "execution_count": 19,
   "metadata": {
    "scrolled": true
   },
   "outputs": [
    {
     "name": "stdout",
     "output_type": "stream",
     "text": [
      "\n",
      " 15000\n",
      "(1058208, 16) (32813, 16) (1091021, 16)\n",
      "Classification:\n",
      "Train\t 0.6615339137852585 0.005059847554502546\n",
      "Test\t 0.6418465304724335 0.04607952994852787\n",
      "Regression:\n",
      "Train\t 0.5044078919422119 0.009683937287038615\n",
      "Test\t 0.45737820045422045 0.04217346652860588\n",
      "0.5496123654633269\n",
      "\n",
      " 14000\n",
      "(1058208, 16) (32813, 16) (1091021, 16)\n",
      "Classification:\n",
      "Train\t 0.6615339137852585 0.005059847554502546\n",
      "Test\t 0.6418465304724335 0.04607952994852787\n",
      "Regression:\n",
      "Train\t 0.5044078919422119 0.009683937287038615\n",
      "Test\t 0.45737820045422045 0.04217346652860588\n",
      "0.5496123654633269\n",
      "\n",
      " 13000\n",
      "(1018248, 16) (72773, 16) (1091021, 16)\n",
      "Classification:\n",
      "Train\t 0.32554166348475844 0.008079247500376521\n",
      "Test\t 0.3014140490092281 0.04008235990749095\n",
      "Regression:\n",
      "Train\t 0.48383831179196407 0.00856947465655451\n",
      "Test\t 0.44998028521064093 0.028156622795336157\n",
      "0.3756971671099345\n",
      "\n",
      " 12000\n",
      "(993191, 16) (97830, 16) (1091021, 16)\n",
      "Classification:\n",
      "Train\t 0.23330974442286592 0.007064539987908854\n",
      "Test\t 0.21680676983896716 0.01384055451070391\n",
      "Regression:\n",
      "Train\t 0.4901125902498576 0.01171920223606686\n",
      "Test\t 0.44829944189825754 0.04104354332953048\n",
      "0.33255310586861236\n",
      "\n",
      " 11000\n",
      "(970464, 16) (120557, 16) (1091021, 16)\n",
      "Classification:\n",
      "Train\t 0.17524563058438786 0.012795229247460464\n",
      "Test\t 0.1558233474038599 0.010754841675354544\n",
      "Regression:\n",
      "Train\t 0.4958263538996725 0.010874689568140049\n",
      "Test\t 0.45218790071585796 0.038373848275693144\n",
      "0.3040056240598589\n",
      "\n",
      " 10000\n",
      "(960373, 16) (130648, 16) (1091021, 16)\n",
      "Classification:\n",
      "Train\t 0.15149479639260185 0.00678863972578895\n",
      "Test\t 0.14087409765858402 0.010487167799370303\n",
      "Regression:\n",
      "Train\t 0.4900584216060501 0.011276683043837802\n",
      "Test\t 0.44730659384901905 0.036758516730275345\n",
      "0.29409034575380155\n",
      "\n",
      " 4000\n",
      "(310287, 16) (780734, 16) (1091021, 16)\n",
      "Classification:\n",
      "Train\t 0.014441820197984909 0.0006274113332004786\n",
      "Test\t 0.013665386103552401 0.0013739828775972884\n",
      "Regression:\n",
      "Train\t 0.5037287713576956 0.014881166841794417\n",
      "Test\t 0.4619641176893963 0.037516233767657926\n",
      "0.23781475189647436\n",
      "\n",
      " 3000\n",
      "(211983, 16) (879038, 16) (1091021, 16)\n",
      "Classification:\n",
      "Train\t 0.01146690497550403 0.0005476014833193096\n",
      "Test\t 0.010576107931016546 0.000714834973163484\n",
      "Regression:\n",
      "Train\t 0.5046380259008233 0.014960467127469805\n",
      "Test\t 0.46226423920402304 0.03675432765110594\n",
      "0.2364201735675198\n",
      "\n",
      " 2500\n",
      "(148150, 16) (942871, 16) (1091021, 16)\n",
      "Classification:\n",
      "Train\t 0.009980790342853426 0.0003894328802308224\n",
      "Test\t 0.009240193197209985 0.000705004555545623\n",
      "Regression:\n",
      "Train\t 0.5060678729172765 0.015002298985494007\n",
      "Test\t 0.4638053614749575 0.03676455495622186\n",
      "0.23652277733608373\n",
      "\n",
      " 2000\n",
      "(100456, 16) (990565, 16) (1091021, 16)\n",
      "Classification:\n",
      "Train\t 0.012435757870913926 0.000491637065392234\n",
      "Test\t 0.012148332798263837 0.0002498584931336199\n",
      "Regression:\n",
      "Train\t 0.506255789076831 0.01399185957588352\n",
      "Test\t 0.4636842303071701 0.03561443480887934\n",
      "0.23791628155271696\n",
      "\n",
      " 1000\n",
      "(23906, 16) (1067115, 16) (1091021, 16)\n",
      "Classification:\n",
      "Train\t 0.009769813196550927 0.000393739035074657\n",
      "Test\t 0.009577642967512148 0.00021327027349058418\n",
      "Regression:\n",
      "Train\t 0.5072702018236496 0.014663810809322306\n",
      "Test\t 0.46409215305521256 0.03501504516577783\n",
      "0.23683489801136234\n",
      "Wall time: 1min 53s\n"
     ]
    }
   ],
   "source": [
    "%%time\n",
    "#  На самом деле результаты для метрики здесь нельзя соизмерять друг с другом, потому что они получены \n",
    "# для разного количества данных и количества классов\n",
    "\n",
    "thrs = [15000, 13000, 12000, 11000, 10000, 4000, 3000, 2500, 2000, 1000];\n",
    "\n",
    "for t in thrs:\n",
    "    print('\\n', t)\n",
    "    df = pd.read_csv(\"./train_dataset_train.csv\")\n",
    "    df, df_bad_classes, df_good_classes, _ = modifydata(df, t)\n",
    "    print(df_bad_classes.shape, df_good_classes.shape, df.shape)\n",
    "\n",
    "    X, y = getFeaturesAndOutput(df_good_classes)\n",
    "\n",
    "    scores = cross_validate(RandomForestClassifier(random_state=0, max_depth=2, n_estimators=3, n_jobs=2),\n",
    "                            X.values, y['label'].values, scoring='recall_macro', cv=5, n_jobs=-1, return_train_score=True)\n",
    "    print('Classification:')\n",
    "    print('Train\\t', scores['train_score'].mean(), scores['train_score'].std())\n",
    "    print('Test\\t', scores['test_score'].mean(), scores['test_score'].std())\n",
    "\n",
    "\n",
    "    scores1 = cross_validate(RandomForestRegressor(random_state=0, max_depth=5, n_estimators=3, n_jobs=-1), \n",
    "                            X.values, y['time_to_under'].values, scoring='r2', cv=5, n_jobs=-1, return_train_score=True)\n",
    "    print('Regression:')\n",
    "    print('Train\\t', scores1['train_score'].mean(), scores1['train_score'].std())\n",
    "    print('Test\\t', scores1['test_score'].mean(), scores1['test_score'].std())\n",
    "    \n",
    "    print(0.5*scores1['test_score'].mean() + 0.5*scores['test_score'].mean())\n"
   ]
  },
  {
   "cell_type": "code",
   "execution_count": null,
   "metadata": {},
   "outputs": [],
   "source": [
    "# RandomForestClassifier(random_state=0, max_depth=2, n_estimators=3, n_jobs=2)\n",
    "# RandomForestRegressor(random_state=0, max_depth=5, n_estimators=3, n_jobs=-1)\n",
    "\n",
    "# 15000\n",
    "# (1058208, 17) (32813, 17) (1091021, 17)\n",
    "# Classification:\n",
    "# Train\t 0.6630141494841523 0.005015396747037869\n",
    "# Test\t 0.6284705632749639 0.06470628077807934\n",
    "# Regression:\n",
    "# Train\t 0.5050368702295558 0.010017920606690248\n",
    "# Test\t 0.45508652839366565 0.04191400851943784\n",
    "# 0.5417785458343147\n",
    "# 10000\n",
    "# (960373, 17) (130648, 17) (1091021, 17)\n",
    "# Classification:\n",
    "# Train\t 0.16350063117005967 0.00873790225084011\n",
    "# Test\t 0.15287697952221507 0.012895761612797646\n",
    "# Regression:\n",
    "# Train\t 0.49051613971859326 0.01152793082141878\n",
    "# Test\t 0.44214214910984617 0.0339202204417001\n",
    "# 0.2975095643160306\n",
    "# 4000\n",
    "# (310287, 17) (780734, 17) (1091021, 17)\n",
    "# Classification:\n",
    "# Train\t 0.016543048942274534 0.0008070977513912614\n",
    "# Test\t 0.0155692845252488 0.0017321273921953304\n",
    "# Regression:\n",
    "# Train\t 0.5041447398778537 0.015033215318697743\n",
    "# Test\t 0.46208966065398344 0.03749244325951907\n",
    "# 0.23882947258961612\n",
    "# 3000\n",
    "# (211983, 17) (879038, 17) (1091021, 17)\n",
    "# Classification:\n",
    "# Train\t 0.013003748601015594 0.00041964568072929657\n",
    "# Test\t 0.012212832403053436 0.001284301657597231\n",
    "# Regression:\n",
    "# Train\t 0.5051190421655127 0.015117351987881977\n",
    "# Test\t 0.46240187468554217 0.036515393198589194\n",
    "# 0.2373073535442978\n",
    "# 2500\n",
    "# (148150, 17) (942871, 17) (1091021, 17)\n",
    "# Classification:\n",
    "# Train\t 0.014340606526052336 0.0005575487381591637\n",
    "# Test\t 0.012661205056841124 0.0023962034225589956\n",
    "# Regression:\n",
    "# Train\t 0.5066962168557723 0.015257533653746441\n",
    "# Test\t 0.4640421932173437 0.03670719783895243\n",
    "# 0.23835169913709242\n",
    "# 2000\n",
    "# (100456, 17) (990565, 17) (1091021, 17)\n",
    "# Classification:\n",
    "# Train\t 0.016005714269079478 0.0007617559321862121\n",
    "# Test\t 0.015318456021413285 0.002668709208224399\n",
    "# Regression:\n",
    "# Train\t 0.5068023807651202 0.014190961973010398\n",
    "# Test\t 0.4640020232059955 0.0356420105391075\n",
    "# 0.2396602396137044\n",
    "# 1000\n",
    "# (23906, 17) (1067115, 17) (1091021, 17)\n",
    "# Classification:\n",
    "# Train\t 0.012703545948319666 0.0005490095579516091\n",
    "# Test\t 0.011083844797861201 0.001307461956030289\n",
    "# Regression:\n",
    "# Train\t 0.5076831617682902 0.014940686562873997\n",
    "# Test\t 0.4644092289732017 0.03448728003784514\n",
    "# 0.23774653688553143\n",
    "# Wall time: 1min 26s"
   ]
  },
  {
   "cell_type": "markdown",
   "metadata": {},
   "source": [
    "##  что выводит на классах, на которых не учился"
   ]
  },
  {
   "cell_type": "code",
   "execution_count": 304,
   "metadata": {},
   "outputs": [
    {
     "data": {
      "text/plain": [
       "array([6008, 3002], dtype=int64)"
      ]
     },
     "execution_count": 304,
     "metadata": {},
     "output_type": "execute_result"
    }
   ],
   "source": [
    "y['label'].unique()"
   ]
  },
  {
   "cell_type": "code",
   "execution_count": 305,
   "metadata": {},
   "outputs": [
    {
     "data": {
      "text/plain": [
       "array([ 8001,  9011,  7022,  2022,  2017, 11012, 15001,  7014,  5007,\n",
       "        6018,  5009,  5008,  3015,  7023,  8003, 11013, 11020,  9022,\n",
       "        1012,  5005,  6001,  8005,  1020,  9012,  3016,  9009, 11003,\n",
       "       10018, 12006,  2016,  3014,  8007,  6022,  4002,  2008,  1007,\n",
       "        8006,  3011, 11007,  3018,  5003,  1016, 10003,  5011,  7021,\n",
       "        9020,  9021,  8008,  2023,  5001,  3017,  4004,  7003,  6006,\n",
       "        6023,  7020,  4003,  1005,  7019,  6016,  2024,  1026, 10007,\n",
       "       10022,  4001, 10023,  3001,  2010, 15005, 11006, 12004,  2007,\n",
       "        6014,  7002,  7008,  2013,  5010,  2018,  2014,  7015,  9007,\n",
       "        6020, 14003,  9010, 14016, 11019,  9004,  9019,  7017,  6009,\n",
       "       12003,  2015,  8002,  3005,  1006,  5006, 10001,  5002,  1022,\n",
       "        1014, 10012,  7013,  9001,  3006, 12002,  1003,  3010,  4012,\n",
       "        1008, 10009,  2003,  1023,  6013, 11004,  2006,  1015,  9002,\n",
       "        7005,  6002,  9024,  7009,  6011, 14021, 14018,  4010,  3009,\n",
       "       14002,  5004,  2004,  6010,  6015, 10011,  7011,  1011,  1009,\n",
       "       14017,  2001,  3008, 14020, 14005, 10010,  2012,  9018, 10019,\n",
       "        1018,  9023, 81006,  3020,  2005,  3022, 11008,  7004, 10016,\n",
       "       10021,  3023,  1004,  7007,  9008, 81003, 11010,  9016, 14011,\n",
       "       10014,  4008,  1019,  9014, 81016,  9025,  4013,  1025, 14010,\n",
       "       10002,  9003,  7018,  3004, 14029, 81002, 15007, 14006,  6004,\n",
       "       11021,  9005, 11014,  8004,  7012, 10013, 12005,  7010, 10017,\n",
       "       14007, 81012, 14019,  3012, 14015, 10020, 14009, 11018,  6007,\n",
       "        1024,  2002,  6005,  2011, 14012, 15002,  1002,  3019,  5012,\n",
       "       11009,  9006, 14014, 14031, 14023, 10005, 11001, 14024, 14026,\n",
       "        6019,  7016, 81010,  6017, 81001,  2009, 10006,  4011, 81015,\n",
       "        7001,  3003, 81011,  9017, 14013, 11017, 14025, 14022, 14030,\n",
       "        1021, 15006, 15008, 14027, 10015, 81013,  9015,  2021, 81004,\n",
       "        4006,  1017, 14008,  4007, 81014,  6003, 10008, 11005, 10004,\n",
       "        6024,  1013, 11015, 14028,  3007, 15003,  4009, 15004, 11011,\n",
       "       11002,  3013, 11016, 14001,  6012, 14004, 12001, 13005, 13001,\n",
       "       13004, 13003, 13002, 13006], dtype=int64)"
      ]
     },
     "execution_count": 305,
     "metadata": {},
     "output_type": "execute_result"
    }
   ],
   "source": [
    "yb['label'].unique()"
   ]
  },
  {
   "cell_type": "code",
   "execution_count": 323,
   "metadata": {
    "scrolled": true
   },
   "outputs": [
    {
     "data": {
      "text/plain": [
       "array([[0.60321218, 0.39678782],\n",
       "       [0.56301594, 0.43698406],\n",
       "       [0.43624281, 0.56375719],\n",
       "       [0.27743307, 0.72256693],\n",
       "       [0.23171045, 0.76828955],\n",
       "       [0.56408939, 0.43591061],\n",
       "       [0.5994122 , 0.4005878 ],\n",
       "       [0.6257579 , 0.3742421 ],\n",
       "       [0.3055914 , 0.6944086 ],\n",
       "       [0.31694442, 0.68305558]])"
      ]
     },
     "execution_count": 323,
     "metadata": {},
     "output_type": "execute_result"
    }
   ],
   "source": [
    "clf.predict_proba(X[:10])\n"
   ]
  },
  {
   "cell_type": "code",
   "execution_count": 324,
   "metadata": {
    "scrolled": true
   },
   "outputs": [
    {
     "data": {
      "text/plain": [
       "array([[0.56064996, 0.43935004],\n",
       "       [0.60462478, 0.39537522],\n",
       "       [0.65865437, 0.34134563],\n",
       "       [0.62849979, 0.37150021],\n",
       "       [0.65740405, 0.34259595],\n",
       "       [0.64785623, 0.35214377],\n",
       "       [0.1493394 , 0.8506606 ],\n",
       "       [0.35078276, 0.64921724],\n",
       "       [0.61944707, 0.38055293],\n",
       "       [0.64357045, 0.35642955]])"
      ]
     },
     "execution_count": 324,
     "metadata": {},
     "output_type": "execute_result"
    }
   ],
   "source": [
    "clf.predict_proba(Xb[:10])"
   ]
  },
  {
   "cell_type": "markdown",
   "metadata": {},
   "source": [
    "суть -- надо вводить 3й класс ,фиктивный, который не относится к двум большим"
   ]
  },
  {
   "cell_type": "code",
   "execution_count": null,
   "metadata": {},
   "outputs": [],
   "source": []
  },
  {
   "cell_type": "markdown",
   "metadata": {},
   "source": [
    "# Submit"
   ]
  },
  {
   "cell_type": "code",
   "execution_count": 20,
   "metadata": {
    "scrolled": true
   },
   "outputs": [
    {
     "data": {
      "text/plain": [
       "RandomForestRegressor(max_depth=15, n_estimators=200, n_jobs=-1, random_state=0)"
      ]
     },
     "execution_count": 20,
     "metadata": {},
     "output_type": "execute_result"
    }
   ],
   "source": [
    "# дообучение на всех отобранных (т.е. только good) тренировочных данных, включая тест\n",
    "\n",
    "# clf.fit([X_train, X_test], [y_train[\"label\"], y_test['label']])\n",
    "# reg.fit([X_train, X_test], [y_train[\"time_to_under\"], y_test['time_to_under']])\n",
    "\n",
    "clf.fit(X, y['label'])\n",
    "reg.fit(X, y['time_to_under'])"
   ]
  },
  {
   "cell_type": "code",
   "execution_count": 12,
   "metadata": {
    "scrolled": true
   },
   "outputs": [],
   "source": [
    "valid = pd.read_csv(\"./test_dataset_test.csv\")\n",
    "valid, valid_idcol = modifydata(valid, 0)   # for test 0 is no matter\n",
    "\n",
    "X = getFeaturesAndOutput(valid)\n",
    "\n",
    "pred_class = clf.predict(X)\n",
    "pred_reg = reg.predict(X)\n",
    "\n",
    "#  for LGBM inverse transform of classes\n",
    "if type(clf) == lgb.sklearn.LGBMClassifier:\n",
    "    pred_class = le.inverse_transform(pred_class)"
   ]
  },
  {
   "cell_type": "code",
   "execution_count": 116,
   "metadata": {},
   "outputs": [
    {
     "data": {
      "text/html": [
       "<div>\n",
       "<style scoped>\n",
       "    .dataframe tbody tr th:only-of-type {\n",
       "        vertical-align: middle;\n",
       "    }\n",
       "\n",
       "    .dataframe tbody tr th {\n",
       "        vertical-align: top;\n",
       "    }\n",
       "\n",
       "    .dataframe thead th {\n",
       "        text-align: right;\n",
       "    }\n",
       "</style>\n",
       "<table border=\"1\" class=\"dataframe\">\n",
       "  <thead>\n",
       "    <tr style=\"text-align: right;\">\n",
       "      <th></th>\n",
       "      <th>id</th>\n",
       "      <th>time_to_under</th>\n",
       "      <th>label</th>\n",
       "    </tr>\n",
       "  </thead>\n",
       "  <tbody>\n",
       "    <tr>\n",
       "      <th>0</th>\n",
       "      <td>1091022</td>\n",
       "      <td>787.038331</td>\n",
       "      <td>3002</td>\n",
       "    </tr>\n",
       "    <tr>\n",
       "      <th>1</th>\n",
       "      <td>1091023</td>\n",
       "      <td>653.769792</td>\n",
       "      <td>3002</td>\n",
       "    </tr>\n",
       "    <tr>\n",
       "      <th>2</th>\n",
       "      <td>1091024</td>\n",
       "      <td>528.901100</td>\n",
       "      <td>6008</td>\n",
       "    </tr>\n",
       "    <tr>\n",
       "      <th>3</th>\n",
       "      <td>1091025</td>\n",
       "      <td>840.944255</td>\n",
       "      <td>3002</td>\n",
       "    </tr>\n",
       "    <tr>\n",
       "      <th>4</th>\n",
       "      <td>1091026</td>\n",
       "      <td>787.038331</td>\n",
       "      <td>3002</td>\n",
       "    </tr>\n",
       "  </tbody>\n",
       "</table>\n",
       "</div>"
      ],
      "text/plain": [
       "        id  time_to_under  label\n",
       "0  1091022     787.038331   3002\n",
       "1  1091023     653.769792   3002\n",
       "2  1091024     528.901100   6008\n",
       "3  1091025     840.944255   3002\n",
       "4  1091026     787.038331   3002"
      ]
     },
     "execution_count": 116,
     "metadata": {},
     "output_type": "execute_result"
    }
   ],
   "source": [
    "# submit_df = pd.DataFrame([valid.id, pred_reg, pred_class], columns=['id', 'time_to_under', 'label'])\n",
    "submit_df = pd.DataFrame(columns=['id', 'time_to_under', 'label'], index=None)\n",
    "# submit_df.set_index('id', inplace=True)\n",
    "\n",
    "submit_df['id'] = valid_idcol\n",
    "submit_df['time_to_under'] = pred_reg\n",
    "submit_df['label'] = pred_class\n",
    "\n",
    "submit_df.to_csv('submit.csv', index=False)\n",
    "\n",
    "submit_df.head()\n",
    "\n"
   ]
  },
  {
   "cell_type": "code",
   "execution_count": null,
   "metadata": {},
   "outputs": [],
   "source": []
  },
  {
   "cell_type": "markdown",
   "metadata": {},
   "source": [
    "## среднее"
   ]
  },
  {
   "cell_type": "code",
   "execution_count": 118,
   "metadata": {},
   "outputs": [
    {
     "name": "stdout",
     "output_type": "stream",
     "text": [
      "(1044450, 16) (46571, 16) (1091021, 16)\n"
     ]
    }
   ],
   "source": [
    "df = pd.read_csv(\"./train_dataset_train.csv\")\n",
    "# df, df_bad_classes, df_good_classes, df_id_col = modifydata(df, 15000)\n",
    "df, df_bad_classes, df_good_classes, df_id_col = modifydata(df, 13500)\n",
    "print(df_bad_classes.shape, df_good_classes.shape, df.shape)\n",
    "\n",
    "valid = pd.read_csv(\"./test_dataset_test.csv\")\n",
    "valid, valid_idcol = modifydata(valid, 0)   # for test 0 is no matter\n",
    "X = getFeaturesAndOutput(valid)\n",
    "\n",
    "# Xa, ya = getFeaturesAndOutput(df)\n",
    "XX, yy = getFeaturesAndOutput(df_good_classes)\n",
    "# Xb, yb = getFeaturesAndOutput(df_bad_classes)"
   ]
  },
  {
   "cell_type": "code",
   "execution_count": 119,
   "metadata": {
    "scrolled": true
   },
   "outputs": [
    {
     "name": "stdout",
     "output_type": "stream",
     "text": [
      "Wall time: 0 ns\n",
      "10\n",
      "Classification:\n",
      "i = 0\n",
      "Train\t 0.7710415365521138 0.007005900821573081\n",
      "Test\t 0.3944154290162822 0.04508333015078256\n",
      "--------------\n",
      "i = 1\n",
      "Train\t 0.7704146458334257 0.009595938969837327\n",
      "Test\t 0.4014842876177247 0.048572576383084445\n",
      "--------------\n",
      "i = 2\n",
      "Train\t 0.7699061668253852 0.008571027934568827\n",
      "Test\t 0.3919147645106043 0.04386322493882258\n",
      "--------------\n",
      "i = 3\n",
      "Train\t 0.770107622457309 0.009353139221106466\n",
      "Test\t 0.3971123808643439 0.045768330765118305\n",
      "--------------\n",
      "i = 4\n",
      "Train\t 0.7707277651756931 0.008799159987043895\n",
      "Test\t 0.3980064260602496 0.04652467049095687\n",
      "--------------\n",
      "i = 5\n",
      "Train\t 0.7699023958134927 0.008596531133543263\n",
      "Test\t 0.39835035178794787 0.04773559815960473\n",
      "--------------\n",
      "i = 6\n",
      "Train\t 0.7693832751748809 0.009743306188999394\n",
      "Test\t 0.39690869036265947 0.048374657512791165\n",
      "--------------\n",
      "i = 7\n",
      "Train\t 0.7697438819388299 0.007906358919790184\n",
      "Test\t 0.39433184251372944 0.04820161668414499\n",
      "--------------\n",
      "i = 8\n",
      "Train\t 0.7691132099831356 0.009954988228117998\n",
      "Test\t 0.39304329237556473 0.043692343545644684\n",
      "--------------\n",
      "i = 9\n",
      "Train\t 0.7695966096674823 0.008906287004787222\n",
      "Test\t 0.3956411550955494 0.04627775400040985\n",
      "--------------\n",
      "\n",
      "Regression:\n",
      "i = 0\n"
     ]
    },
    {
     "ename": "ValueError",
     "evalue": "Classification metrics can't handle a mix of multiclass and continuous targets",
     "output_type": "error",
     "traceback": [
      "\u001b[1;31m---------------------------------------------------------------------------\u001b[0m",
      "\u001b[1;31m_RemoteTraceback\u001b[0m                          Traceback (most recent call last)",
      "\u001b[1;31m_RemoteTraceback\u001b[0m: \n\"\"\"\nTraceback (most recent call last):\n  File \"C:\\ProgramData\\Anaconda3\\lib\\site-packages\\joblib\\externals\\loky\\process_executor.py\", line 431, in _process_worker\n    r = call_item()\n  File \"C:\\ProgramData\\Anaconda3\\lib\\site-packages\\joblib\\externals\\loky\\process_executor.py\", line 285, in __call__\n    return self.fn(*self.args, **self.kwargs)\n  File \"C:\\ProgramData\\Anaconda3\\lib\\site-packages\\joblib\\_parallel_backends.py\", line 595, in __call__\n    return self.func(*args, **kwargs)\n  File \"C:\\ProgramData\\Anaconda3\\lib\\site-packages\\joblib\\parallel.py\", line 263, in __call__\n    for func, args, kwargs in self.items]\n  File \"C:\\ProgramData\\Anaconda3\\lib\\site-packages\\joblib\\parallel.py\", line 263, in <listcomp>\n    for func, args, kwargs in self.items]\n  File \"C:\\ProgramData\\Anaconda3\\lib\\site-packages\\sklearn\\model_selection\\_validation.py\", line 560, in _fit_and_score\n    test_scores = _score(estimator, X_test, y_test, scorer)\n  File \"C:\\ProgramData\\Anaconda3\\lib\\site-packages\\sklearn\\model_selection\\_validation.py\", line 607, in _score\n    scores = scorer(estimator, X_test, y_test)\n  File \"C:\\ProgramData\\Anaconda3\\lib\\site-packages\\sklearn\\metrics\\_scorer.py\", line 88, in __call__\n    *args, **kwargs)\n  File \"C:\\ProgramData\\Anaconda3\\lib\\site-packages\\sklearn\\metrics\\_scorer.py\", line 213, in _score\n    **self._kwargs)\n  File \"C:\\ProgramData\\Anaconda3\\lib\\site-packages\\sklearn\\utils\\validation.py\", line 72, in inner_f\n    return f(**kwargs)\n  File \"C:\\ProgramData\\Anaconda3\\lib\\site-packages\\sklearn\\metrics\\_classification.py\", line 1741, in recall_score\n    zero_division=zero_division)\n  File \"C:\\ProgramData\\Anaconda3\\lib\\site-packages\\sklearn\\utils\\validation.py\", line 72, in inner_f\n    return f(**kwargs)\n  File \"C:\\ProgramData\\Anaconda3\\lib\\site-packages\\sklearn\\metrics\\_classification.py\", line 1434, in precision_recall_fscore_support\n    pos_label)\n  File \"C:\\ProgramData\\Anaconda3\\lib\\site-packages\\sklearn\\metrics\\_classification.py\", line 1250, in _check_set_wise_labels\n    y_type, y_true, y_pred = _check_targets(y_true, y_pred)\n  File \"C:\\ProgramData\\Anaconda3\\lib\\site-packages\\sklearn\\metrics\\_classification.py\", line 91, in _check_targets\n    \"and {1} targets\".format(type_true, type_pred))\nValueError: Classification metrics can't handle a mix of multiclass and continuous targets\n\"\"\"",
      "\nThe above exception was the direct cause of the following exception:\n",
      "\u001b[1;31mValueError\u001b[0m                                Traceback (most recent call last)",
      "\u001b[1;32m<ipython-input-119-b33a14cba298>\u001b[0m in \u001b[0;36m<module>\u001b[1;34m\u001b[0m\n\u001b[0;32m     35\u001b[0m     \u001b[0mX_train\u001b[0m\u001b[1;33m,\u001b[0m \u001b[0mX_val\u001b[0m\u001b[1;33m,\u001b[0m \u001b[0my_train\u001b[0m\u001b[1;33m,\u001b[0m \u001b[0my_val\u001b[0m \u001b[1;33m=\u001b[0m \u001b[0mtrain_test_split\u001b[0m\u001b[1;33m(\u001b[0m\u001b[0mXX\u001b[0m\u001b[1;33m,\u001b[0m \u001b[0myy\u001b[0m\u001b[1;33m[\u001b[0m\u001b[1;34m'time_to_under'\u001b[0m\u001b[1;33m]\u001b[0m\u001b[1;33m,\u001b[0m \u001b[0mtrain_size\u001b[0m\u001b[1;33m=\u001b[0m\u001b[1;36m0.8\u001b[0m\u001b[1;33m,\u001b[0m \u001b[0mrandom_state\u001b[0m\u001b[1;33m=\u001b[0m\u001b[0mi\u001b[0m\u001b[1;33m)\u001b[0m\u001b[1;33m\u001b[0m\u001b[1;33m\u001b[0m\u001b[0m\n\u001b[0;32m     36\u001b[0m     \u001b[0mreg\u001b[0m\u001b[1;33m.\u001b[0m\u001b[0mfit\u001b[0m\u001b[1;33m(\u001b[0m\u001b[0mX_train\u001b[0m\u001b[1;33m,\u001b[0m \u001b[0my_train\u001b[0m\u001b[1;33m)\u001b[0m\u001b[1;33m\u001b[0m\u001b[1;33m\u001b[0m\u001b[0m\n\u001b[1;32m---> 37\u001b[1;33m     \u001b[0mscores\u001b[0m \u001b[1;33m=\u001b[0m \u001b[0mcross_validate\u001b[0m\u001b[1;33m(\u001b[0m\u001b[0mreg\u001b[0m\u001b[1;33m,\u001b[0m \u001b[0mXX\u001b[0m\u001b[1;33m.\u001b[0m\u001b[0mvalues\u001b[0m\u001b[1;33m,\u001b[0m \u001b[0myy\u001b[0m\u001b[1;33m[\u001b[0m\u001b[1;34m'label'\u001b[0m\u001b[1;33m]\u001b[0m\u001b[1;33m.\u001b[0m\u001b[0mvalues\u001b[0m\u001b[1;33m,\u001b[0m \u001b[0mscoring\u001b[0m\u001b[1;33m=\u001b[0m\u001b[1;34m'recall_macro'\u001b[0m\u001b[1;33m,\u001b[0m \u001b[0mcv\u001b[0m\u001b[1;33m=\u001b[0m\u001b[1;36m3\u001b[0m\u001b[1;33m,\u001b[0m \u001b[0mn_jobs\u001b[0m\u001b[1;33m=\u001b[0m\u001b[1;33m-\u001b[0m\u001b[1;36m1\u001b[0m\u001b[1;33m,\u001b[0m \u001b[0mreturn_train_score\u001b[0m\u001b[1;33m=\u001b[0m\u001b[1;32mTrue\u001b[0m\u001b[1;33m)\u001b[0m\u001b[1;33m\u001b[0m\u001b[1;33m\u001b[0m\u001b[0m\n\u001b[0m\u001b[0;32m     38\u001b[0m     \u001b[0mprint\u001b[0m\u001b[1;33m(\u001b[0m\u001b[1;34m'Train\\t'\u001b[0m\u001b[1;33m,\u001b[0m \u001b[0mscores\u001b[0m\u001b[1;33m[\u001b[0m\u001b[1;34m'train_score'\u001b[0m\u001b[1;33m]\u001b[0m\u001b[1;33m.\u001b[0m\u001b[0mmean\u001b[0m\u001b[1;33m(\u001b[0m\u001b[1;33m)\u001b[0m\u001b[1;33m,\u001b[0m \u001b[0mscores\u001b[0m\u001b[1;33m[\u001b[0m\u001b[1;34m'train_score'\u001b[0m\u001b[1;33m]\u001b[0m\u001b[1;33m.\u001b[0m\u001b[0mstd\u001b[0m\u001b[1;33m(\u001b[0m\u001b[1;33m)\u001b[0m\u001b[1;33m)\u001b[0m\u001b[1;33m\u001b[0m\u001b[1;33m\u001b[0m\u001b[0m\n\u001b[0;32m     39\u001b[0m     \u001b[0mprint\u001b[0m\u001b[1;33m(\u001b[0m\u001b[1;34m'Test\\t'\u001b[0m\u001b[1;33m,\u001b[0m \u001b[0mscores\u001b[0m\u001b[1;33m[\u001b[0m\u001b[1;34m'test_score'\u001b[0m\u001b[1;33m]\u001b[0m\u001b[1;33m.\u001b[0m\u001b[0mmean\u001b[0m\u001b[1;33m(\u001b[0m\u001b[1;33m)\u001b[0m\u001b[1;33m,\u001b[0m \u001b[0mscores\u001b[0m\u001b[1;33m[\u001b[0m\u001b[1;34m'test_score'\u001b[0m\u001b[1;33m]\u001b[0m\u001b[1;33m.\u001b[0m\u001b[0mstd\u001b[0m\u001b[1;33m(\u001b[0m\u001b[1;33m)\u001b[0m\u001b[1;33m)\u001b[0m\u001b[1;33m\u001b[0m\u001b[1;33m\u001b[0m\u001b[0m\n",
      "\u001b[1;32mC:\\ProgramData\\Anaconda3\\lib\\site-packages\\sklearn\\utils\\validation.py\u001b[0m in \u001b[0;36minner_f\u001b[1;34m(*args, **kwargs)\u001b[0m\n\u001b[0;32m     70\u001b[0m                           FutureWarning)\n\u001b[0;32m     71\u001b[0m         \u001b[0mkwargs\u001b[0m\u001b[1;33m.\u001b[0m\u001b[0mupdate\u001b[0m\u001b[1;33m(\u001b[0m\u001b[1;33m{\u001b[0m\u001b[0mk\u001b[0m\u001b[1;33m:\u001b[0m \u001b[0marg\u001b[0m \u001b[1;32mfor\u001b[0m \u001b[0mk\u001b[0m\u001b[1;33m,\u001b[0m \u001b[0marg\u001b[0m \u001b[1;32min\u001b[0m \u001b[0mzip\u001b[0m\u001b[1;33m(\u001b[0m\u001b[0msig\u001b[0m\u001b[1;33m.\u001b[0m\u001b[0mparameters\u001b[0m\u001b[1;33m,\u001b[0m \u001b[0margs\u001b[0m\u001b[1;33m)\u001b[0m\u001b[1;33m}\u001b[0m\u001b[1;33m)\u001b[0m\u001b[1;33m\u001b[0m\u001b[1;33m\u001b[0m\u001b[0m\n\u001b[1;32m---> 72\u001b[1;33m         \u001b[1;32mreturn\u001b[0m \u001b[0mf\u001b[0m\u001b[1;33m(\u001b[0m\u001b[1;33m**\u001b[0m\u001b[0mkwargs\u001b[0m\u001b[1;33m)\u001b[0m\u001b[1;33m\u001b[0m\u001b[1;33m\u001b[0m\u001b[0m\n\u001b[0m\u001b[0;32m     73\u001b[0m     \u001b[1;32mreturn\u001b[0m \u001b[0minner_f\u001b[0m\u001b[1;33m\u001b[0m\u001b[1;33m\u001b[0m\u001b[0m\n\u001b[0;32m     74\u001b[0m \u001b[1;33m\u001b[0m\u001b[0m\n",
      "\u001b[1;32mC:\\ProgramData\\Anaconda3\\lib\\site-packages\\sklearn\\model_selection\\_validation.py\u001b[0m in \u001b[0;36mcross_validate\u001b[1;34m(estimator, X, y, groups, scoring, cv, n_jobs, verbose, fit_params, pre_dispatch, return_train_score, return_estimator, error_score)\u001b[0m\n\u001b[0;32m    246\u001b[0m             \u001b[0mreturn_times\u001b[0m\u001b[1;33m=\u001b[0m\u001b[1;32mTrue\u001b[0m\u001b[1;33m,\u001b[0m \u001b[0mreturn_estimator\u001b[0m\u001b[1;33m=\u001b[0m\u001b[0mreturn_estimator\u001b[0m\u001b[1;33m,\u001b[0m\u001b[1;33m\u001b[0m\u001b[1;33m\u001b[0m\u001b[0m\n\u001b[0;32m    247\u001b[0m             error_score=error_score)\n\u001b[1;32m--> 248\u001b[1;33m         for train, test in cv.split(X, y, groups))\n\u001b[0m\u001b[0;32m    249\u001b[0m \u001b[1;33m\u001b[0m\u001b[0m\n\u001b[0;32m    250\u001b[0m     \u001b[0mzipped_scores\u001b[0m \u001b[1;33m=\u001b[0m \u001b[0mlist\u001b[0m\u001b[1;33m(\u001b[0m\u001b[0mzip\u001b[0m\u001b[1;33m(\u001b[0m\u001b[1;33m*\u001b[0m\u001b[0mscores\u001b[0m\u001b[1;33m)\u001b[0m\u001b[1;33m)\u001b[0m\u001b[1;33m\u001b[0m\u001b[1;33m\u001b[0m\u001b[0m\n",
      "\u001b[1;32mC:\\ProgramData\\Anaconda3\\lib\\site-packages\\joblib\\parallel.py\u001b[0m in \u001b[0;36m__call__\u001b[1;34m(self, iterable)\u001b[0m\n\u001b[0;32m   1059\u001b[0m \u001b[1;33m\u001b[0m\u001b[0m\n\u001b[0;32m   1060\u001b[0m             \u001b[1;32mwith\u001b[0m \u001b[0mself\u001b[0m\u001b[1;33m.\u001b[0m\u001b[0m_backend\u001b[0m\u001b[1;33m.\u001b[0m\u001b[0mretrieval_context\u001b[0m\u001b[1;33m(\u001b[0m\u001b[1;33m)\u001b[0m\u001b[1;33m:\u001b[0m\u001b[1;33m\u001b[0m\u001b[1;33m\u001b[0m\u001b[0m\n\u001b[1;32m-> 1061\u001b[1;33m                 \u001b[0mself\u001b[0m\u001b[1;33m.\u001b[0m\u001b[0mretrieve\u001b[0m\u001b[1;33m(\u001b[0m\u001b[1;33m)\u001b[0m\u001b[1;33m\u001b[0m\u001b[1;33m\u001b[0m\u001b[0m\n\u001b[0m\u001b[0;32m   1062\u001b[0m             \u001b[1;31m# Make sure that we get a last message telling us we are done\u001b[0m\u001b[1;33m\u001b[0m\u001b[1;33m\u001b[0m\u001b[1;33m\u001b[0m\u001b[0m\n\u001b[0;32m   1063\u001b[0m             \u001b[0melapsed_time\u001b[0m \u001b[1;33m=\u001b[0m \u001b[0mtime\u001b[0m\u001b[1;33m.\u001b[0m\u001b[0mtime\u001b[0m\u001b[1;33m(\u001b[0m\u001b[1;33m)\u001b[0m \u001b[1;33m-\u001b[0m \u001b[0mself\u001b[0m\u001b[1;33m.\u001b[0m\u001b[0m_start_time\u001b[0m\u001b[1;33m\u001b[0m\u001b[1;33m\u001b[0m\u001b[0m\n",
      "\u001b[1;32mC:\\ProgramData\\Anaconda3\\lib\\site-packages\\joblib\\parallel.py\u001b[0m in \u001b[0;36mretrieve\u001b[1;34m(self)\u001b[0m\n\u001b[0;32m    938\u001b[0m             \u001b[1;32mtry\u001b[0m\u001b[1;33m:\u001b[0m\u001b[1;33m\u001b[0m\u001b[1;33m\u001b[0m\u001b[0m\n\u001b[0;32m    939\u001b[0m                 \u001b[1;32mif\u001b[0m \u001b[0mgetattr\u001b[0m\u001b[1;33m(\u001b[0m\u001b[0mself\u001b[0m\u001b[1;33m.\u001b[0m\u001b[0m_backend\u001b[0m\u001b[1;33m,\u001b[0m \u001b[1;34m'supports_timeout'\u001b[0m\u001b[1;33m,\u001b[0m \u001b[1;32mFalse\u001b[0m\u001b[1;33m)\u001b[0m\u001b[1;33m:\u001b[0m\u001b[1;33m\u001b[0m\u001b[1;33m\u001b[0m\u001b[0m\n\u001b[1;32m--> 940\u001b[1;33m                     \u001b[0mself\u001b[0m\u001b[1;33m.\u001b[0m\u001b[0m_output\u001b[0m\u001b[1;33m.\u001b[0m\u001b[0mextend\u001b[0m\u001b[1;33m(\u001b[0m\u001b[0mjob\u001b[0m\u001b[1;33m.\u001b[0m\u001b[0mget\u001b[0m\u001b[1;33m(\u001b[0m\u001b[0mtimeout\u001b[0m\u001b[1;33m=\u001b[0m\u001b[0mself\u001b[0m\u001b[1;33m.\u001b[0m\u001b[0mtimeout\u001b[0m\u001b[1;33m)\u001b[0m\u001b[1;33m)\u001b[0m\u001b[1;33m\u001b[0m\u001b[1;33m\u001b[0m\u001b[0m\n\u001b[0m\u001b[0;32m    941\u001b[0m                 \u001b[1;32melse\u001b[0m\u001b[1;33m:\u001b[0m\u001b[1;33m\u001b[0m\u001b[1;33m\u001b[0m\u001b[0m\n\u001b[0;32m    942\u001b[0m                     \u001b[0mself\u001b[0m\u001b[1;33m.\u001b[0m\u001b[0m_output\u001b[0m\u001b[1;33m.\u001b[0m\u001b[0mextend\u001b[0m\u001b[1;33m(\u001b[0m\u001b[0mjob\u001b[0m\u001b[1;33m.\u001b[0m\u001b[0mget\u001b[0m\u001b[1;33m(\u001b[0m\u001b[1;33m)\u001b[0m\u001b[1;33m)\u001b[0m\u001b[1;33m\u001b[0m\u001b[1;33m\u001b[0m\u001b[0m\n",
      "\u001b[1;32mC:\\ProgramData\\Anaconda3\\lib\\site-packages\\joblib\\_parallel_backends.py\u001b[0m in \u001b[0;36mwrap_future_result\u001b[1;34m(future, timeout)\u001b[0m\n\u001b[0;32m    540\u001b[0m         AsyncResults.get from multiprocessing.\"\"\"\n\u001b[0;32m    541\u001b[0m         \u001b[1;32mtry\u001b[0m\u001b[1;33m:\u001b[0m\u001b[1;33m\u001b[0m\u001b[1;33m\u001b[0m\u001b[0m\n\u001b[1;32m--> 542\u001b[1;33m             \u001b[1;32mreturn\u001b[0m \u001b[0mfuture\u001b[0m\u001b[1;33m.\u001b[0m\u001b[0mresult\u001b[0m\u001b[1;33m(\u001b[0m\u001b[0mtimeout\u001b[0m\u001b[1;33m=\u001b[0m\u001b[0mtimeout\u001b[0m\u001b[1;33m)\u001b[0m\u001b[1;33m\u001b[0m\u001b[1;33m\u001b[0m\u001b[0m\n\u001b[0m\u001b[0;32m    543\u001b[0m         \u001b[1;32mexcept\u001b[0m \u001b[0mCfTimeoutError\u001b[0m \u001b[1;32mas\u001b[0m \u001b[0me\u001b[0m\u001b[1;33m:\u001b[0m\u001b[1;33m\u001b[0m\u001b[1;33m\u001b[0m\u001b[0m\n\u001b[0;32m    544\u001b[0m             \u001b[1;32mraise\u001b[0m \u001b[0mTimeoutError\u001b[0m \u001b[1;32mfrom\u001b[0m \u001b[0me\u001b[0m\u001b[1;33m\u001b[0m\u001b[1;33m\u001b[0m\u001b[0m\n",
      "\u001b[1;32mC:\\ProgramData\\Anaconda3\\lib\\concurrent\\futures\\_base.py\u001b[0m in \u001b[0;36mresult\u001b[1;34m(self, timeout)\u001b[0m\n\u001b[0;32m    430\u001b[0m                 \u001b[1;32mraise\u001b[0m \u001b[0mCancelledError\u001b[0m\u001b[1;33m(\u001b[0m\u001b[1;33m)\u001b[0m\u001b[1;33m\u001b[0m\u001b[1;33m\u001b[0m\u001b[0m\n\u001b[0;32m    431\u001b[0m             \u001b[1;32melif\u001b[0m \u001b[0mself\u001b[0m\u001b[1;33m.\u001b[0m\u001b[0m_state\u001b[0m \u001b[1;33m==\u001b[0m \u001b[0mFINISHED\u001b[0m\u001b[1;33m:\u001b[0m\u001b[1;33m\u001b[0m\u001b[1;33m\u001b[0m\u001b[0m\n\u001b[1;32m--> 432\u001b[1;33m                 \u001b[1;32mreturn\u001b[0m \u001b[0mself\u001b[0m\u001b[1;33m.\u001b[0m\u001b[0m__get_result\u001b[0m\u001b[1;33m(\u001b[0m\u001b[1;33m)\u001b[0m\u001b[1;33m\u001b[0m\u001b[1;33m\u001b[0m\u001b[0m\n\u001b[0m\u001b[0;32m    433\u001b[0m             \u001b[1;32melse\u001b[0m\u001b[1;33m:\u001b[0m\u001b[1;33m\u001b[0m\u001b[1;33m\u001b[0m\u001b[0m\n\u001b[0;32m    434\u001b[0m                 \u001b[1;32mraise\u001b[0m \u001b[0mTimeoutError\u001b[0m\u001b[1;33m(\u001b[0m\u001b[1;33m)\u001b[0m\u001b[1;33m\u001b[0m\u001b[1;33m\u001b[0m\u001b[0m\n",
      "\u001b[1;32mC:\\ProgramData\\Anaconda3\\lib\\concurrent\\futures\\_base.py\u001b[0m in \u001b[0;36m__get_result\u001b[1;34m(self)\u001b[0m\n\u001b[0;32m    382\u001b[0m     \u001b[1;32mdef\u001b[0m \u001b[0m__get_result\u001b[0m\u001b[1;33m(\u001b[0m\u001b[0mself\u001b[0m\u001b[1;33m)\u001b[0m\u001b[1;33m:\u001b[0m\u001b[1;33m\u001b[0m\u001b[1;33m\u001b[0m\u001b[0m\n\u001b[0;32m    383\u001b[0m         \u001b[1;32mif\u001b[0m \u001b[0mself\u001b[0m\u001b[1;33m.\u001b[0m\u001b[0m_exception\u001b[0m\u001b[1;33m:\u001b[0m\u001b[1;33m\u001b[0m\u001b[1;33m\u001b[0m\u001b[0m\n\u001b[1;32m--> 384\u001b[1;33m             \u001b[1;32mraise\u001b[0m \u001b[0mself\u001b[0m\u001b[1;33m.\u001b[0m\u001b[0m_exception\u001b[0m\u001b[1;33m\u001b[0m\u001b[1;33m\u001b[0m\u001b[0m\n\u001b[0m\u001b[0;32m    385\u001b[0m         \u001b[1;32melse\u001b[0m\u001b[1;33m:\u001b[0m\u001b[1;33m\u001b[0m\u001b[1;33m\u001b[0m\u001b[0m\n\u001b[0;32m    386\u001b[0m             \u001b[1;32mreturn\u001b[0m \u001b[0mself\u001b[0m\u001b[1;33m.\u001b[0m\u001b[0m_result\u001b[0m\u001b[1;33m\u001b[0m\u001b[1;33m\u001b[0m\u001b[0m\n",
      "\u001b[1;31mValueError\u001b[0m: Classification metrics can't handle a mix of multiclass and continuous targets"
     ]
    }
   ],
   "source": [
    "%time\n",
    "\n",
    "rs = [150, 13, 18, 19, 86352, 264234, 96340, 131313, 18603, 82735]\n",
    "# rs = [150, 13, 18, 19]\n",
    "print(len(rs))\n",
    "preds = []\n",
    "\n",
    "print('Classification:')\n",
    "\n",
    "for i in range(len(rs)):\n",
    "    print('i =',i)\n",
    "    clf = RandomForestClassifier(random_state=i, max_depth=15, n_estimators=200, n_jobs=-1)\n",
    "    X_train, X_val, y_train, y_val = train_test_split(XX, yy['label'], train_size=0.8, random_state=i)\n",
    "    clf.fit(X_train, y_train)\n",
    "    scores = cross_validate(clf, XX.values, yy['label'].values, scoring='recall_macro', cv=3, n_jobs=-1, return_train_score=True)\n",
    "    print('Train\\t', scores['train_score'].mean(), scores['train_score'].std())\n",
    "    print('Test\\t', scores['test_score'].mean(), scores['test_score'].std())\n",
    "    print('--------------')\n",
    "    \n",
    "    pred = clf.predict_proba(X)\n",
    "    preds.append(pred)\n",
    "    \n",
    "#  Усредняем прогнозы\n",
    "pred = np.max(preds, axis=0)\n",
    "\n",
    "pred_class = np.argmax(pred, axis=1)   # maxed argument\n",
    "pred_class = clf.classes_[pred_class]   # maxed class\n",
    "\n",
    "\n",
    "\n"
   ]
  },
  {
   "cell_type": "code",
   "execution_count": null,
   "metadata": {},
   "outputs": [
    {
     "name": "stdout",
     "output_type": "stream",
     "text": [
      "\n",
      "Regression:\n",
      "i = 0\n",
      "Train\t 0.5833257996459591 0.002053568221205675\n",
      "Test\t 0.3056017708711945 0.04032234284111202\n",
      "--------------\n",
      "i = 1\n"
     ]
    }
   ],
   "source": [
    "\n",
    "preds = []\n",
    "print('\\nRegression:')\n",
    "for i in range(len(rs)):\n",
    "    print('i =',i)\n",
    "    reg = RandomForestRegressor(random_state=i, max_depth=15, n_estimators=200, n_jobs=-1)\n",
    "    X_train, X_val, y_train, y_val = train_test_split(XX, yy['time_to_under'], train_size=0.8, random_state=i)\n",
    "    reg.fit(X_train, y_train)\n",
    "    scores = cross_validate(reg, XX.values, yy['label'].values, scoring='r2', cv=3, n_jobs=-1, return_train_score=True)\n",
    "    print('Train\\t', scores['train_score'].mean(), scores['train_score'].std())\n",
    "    print('Test\\t', scores['test_score'].mean(), scores['test_score'].std())\n",
    "    print('--------------')\n",
    "    \n",
    "    pred = reg.predict(X)\n",
    "    preds.append(pred)\n",
    "    \n",
    "pred_reg = np.mean(preds, axis=0)  #  Усредняем прогнозы"
   ]
  },
  {
   "cell_type": "code",
   "execution_count": null,
   "metadata": {},
   "outputs": [],
   "source": []
  }
 ],
 "metadata": {
  "colab": {
   "provenance": []
  },
  "kernelspec": {
   "display_name": "Python 3",
   "language": "python",
   "name": "python3"
  },
  "language_info": {
   "codemirror_mode": {
    "name": "ipython",
    "version": 3
   },
   "file_extension": ".py",
   "mimetype": "text/x-python",
   "name": "python",
   "nbconvert_exporter": "python",
   "pygments_lexer": "ipython3",
   "version": "3.7.3"
  },
  "toc": {
   "base_numbering": 1,
   "nav_menu": {},
   "number_sections": true,
   "sideBar": true,
   "skip_h1_title": false,
   "title_cell": "Table of Contents",
   "title_sidebar": "Contents",
   "toc_cell": false,
   "toc_position": {
    "height": "calc(100% - 180px)",
    "left": "10px",
    "top": "150px",
    "width": "270px"
   },
   "toc_section_display": true,
   "toc_window_display": true
  },
  "varInspector": {
   "cols": {
    "lenName": 16,
    "lenType": 16,
    "lenVar": 40
   },
   "kernels_config": {
    "python": {
     "delete_cmd_postfix": "",
     "delete_cmd_prefix": "del ",
     "library": "var_list.py",
     "varRefreshCmd": "print(var_dic_list())"
    },
    "r": {
     "delete_cmd_postfix": ") ",
     "delete_cmd_prefix": "rm(",
     "library": "var_list.r",
     "varRefreshCmd": "cat(var_dic_list()) "
    }
   },
   "position": {
    "height": "671.85px",
    "left": "2042px",
    "right": "20px",
    "top": "110px",
    "width": "499px"
   },
   "types_to_exclude": [
    "module",
    "function",
    "builtin_function_or_method",
    "instance",
    "_Feature"
   ],
   "window_display": true
  }
 },
 "nbformat": 4,
 "nbformat_minor": 1
}
