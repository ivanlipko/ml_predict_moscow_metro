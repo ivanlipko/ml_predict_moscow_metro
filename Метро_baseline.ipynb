{
 "cells": [
  {
   "cell_type": "markdown",
   "metadata": {
    "id": "fnE1_J-4dhSR"
   },
   "source": [
    "## Загрузим нужные библиотеки"
   ]
  },
  {
   "cell_type": "code",
   "execution_count": 1,
   "metadata": {
    "id": "uaKzqUxsdjDa"
   },
   "outputs": [],
   "source": [
    "import pandas as pd\n",
    "import seaborn as sns\n",
    "import matplotlib.pyplot as plt\n",
    "from sklearn.model_selection import train_test_split\n",
    "from sklearn.ensemble import RandomForestClassifier, RandomForestRegressor\n",
    "\n",
    "%matplotlib inline"
   ]
  },
  {
   "cell_type": "code",
   "execution_count": 2,
   "metadata": {
    "id": "2scLoULoXkT0"
   },
   "outputs": [],
   "source": [
    "# df = pd.read_csv(\"./train_dataset_train.csv\", nrows = 100000)\n",
    "df = pd.read_csv(\"./train_dataset_train.csv\")"
   ]
  },
  {
   "cell_type": "code",
   "execution_count": 3,
   "metadata": {},
   "outputs": [],
   "source": [
    "def modifydata(df):\n",
    "#     Сделаем категорию **\"ticket_type_nm\"** ранговой \n",
    "    df[\"ticket_type_nm\"] = pd.Categorical(df[\"ticket_type_nm\"])\n",
    "    df[\"ticket_type_nm\"].astype('category').cat.codes\n",
    "    df[\"ticket_type_nm\"] = df[\"ticket_type_nm\"].cat.codes\n",
    "    \n",
    "#     Видоизменим категорию \"pass_dttm\"\n",
    "    df[\"day\"] = df.pass_dttm.map(lambda x: int(x.split(\"-\")[2].split(\" \")[0]))\n",
    "    df[\"hours\"] = df.pass_dttm.map(lambda x: int(x.split(\"-\")[2].split(\" \")[1].split(\":\")[0]))\n",
    "\n",
    "#     Меняем типы, чтобы уменьшить объём занимаемой памяти:\n",
    "    df['hours'] = df['hours'].astype('int8')\n",
    "    df['day'] = df['day'].astype('int8')\n",
    "    df['line_id'] = df['line_id'].astype('int8')\n",
    "    df['ticket_type_nm'] = df['ticket_type_nm'].astype('int8')\n",
    "    df['entrance_id'] = df['entrance_id'].astype('int16')\n",
    "    df['entrance_id'] = df['entrance_id'].astype('int16')\n",
    "\n",
    "    df['time'] = pd.to_datetime(df['pass_dttm'])\n",
    "    df['time_isweekend'] = (df['time'].dt.dayofweek // 5 == 1).astype('int8')\n",
    "    df['time_dayofweek'] = df['time'].dt.dayofweek.astype('int8')\n",
    "\n",
    "    df = df[df[\"time_to_under\"] < 900]\n",
    "    \n",
    "    return df"
   ]
  },
  {
   "cell_type": "code",
   "execution_count": 4,
   "metadata": {},
   "outputs": [],
   "source": [
    "df = modifydata(df)"
   ]
  },
  {
   "cell_type": "markdown",
   "metadata": {
    "id": "WcxAsO_Md05t"
   },
   "source": [
    "## Рассмотрим датасет по ближе"
   ]
  },
  {
   "cell_type": "code",
   "execution_count": 67,
   "metadata": {
    "colab": {
     "base_uri": "https://localhost:8080/",
     "height": 260
    },
    "id": "I16XfuOpXwIy",
    "outputId": "f39e62c8-ddc7-4337-9c83-023543ef5da8"
   },
   "outputs": [
    {
     "data": {
      "text/html": [
       "<div>\n",
       "<style scoped>\n",
       "    .dataframe tbody tr th:only-of-type {\n",
       "        vertical-align: middle;\n",
       "    }\n",
       "\n",
       "    .dataframe tbody tr th {\n",
       "        vertical-align: top;\n",
       "    }\n",
       "\n",
       "    .dataframe thead th {\n",
       "        text-align: right;\n",
       "    }\n",
       "</style>\n",
       "<table border=\"1\" class=\"dataframe\">\n",
       "  <thead>\n",
       "    <tr style=\"text-align: right;\">\n",
       "      <th></th>\n",
       "      <th>id</th>\n",
       "      <th>ticket_id</th>\n",
       "      <th>ticket_type_nm</th>\n",
       "      <th>entrance_id</th>\n",
       "      <th>entrance_nm</th>\n",
       "      <th>station_id</th>\n",
       "      <th>station_nm</th>\n",
       "      <th>line_id</th>\n",
       "      <th>line_nm</th>\n",
       "      <th>pass_dttm</th>\n",
       "      <th>time_to_under</th>\n",
       "      <th>label</th>\n",
       "      <th>day</th>\n",
       "      <th>hours</th>\n",
       "      <th>time</th>\n",
       "      <th>time_isweekend</th>\n",
       "      <th>time_dayofweek</th>\n",
       "    </tr>\n",
       "  </thead>\n",
       "  <tbody>\n",
       "    <tr>\n",
       "      <td>0</td>\n",
       "      <td>1</td>\n",
       "      <td>40BD89EC85646EFB69E283F39C298E60</td>\n",
       "      <td>40</td>\n",
       "      <td>2402</td>\n",
       "      <td>Лефортово БКЛ</td>\n",
       "      <td>11007</td>\n",
       "      <td>Лефортово</td>\n",
       "      <td>11</td>\n",
       "      <td>Большая кольцевая</td>\n",
       "      <td>2022-09-12 05:00:13</td>\n",
       "      <td>216.316667</td>\n",
       "      <td>8001</td>\n",
       "      <td>12</td>\n",
       "      <td>5</td>\n",
       "      <td>2022-09-12 05:00:13</td>\n",
       "      <td>0</td>\n",
       "      <td>0</td>\n",
       "    </tr>\n",
       "    <tr>\n",
       "      <td>1</td>\n",
       "      <td>2</td>\n",
       "      <td>126727A96489CC976A8C08E5CEB00542</td>\n",
       "      <td>53</td>\n",
       "      <td>110</td>\n",
       "      <td>Войковская ( Южный )</td>\n",
       "      <td>2006</td>\n",
       "      <td>Войковская</td>\n",
       "      <td>2</td>\n",
       "      <td>Замоскворецкая</td>\n",
       "      <td>2022-09-12 05:00:54</td>\n",
       "      <td>648.183333</td>\n",
       "      <td>9011</td>\n",
       "      <td>12</td>\n",
       "      <td>5</td>\n",
       "      <td>2022-09-12 05:00:54</td>\n",
       "      <td>0</td>\n",
       "      <td>0</td>\n",
       "    </tr>\n",
       "    <tr>\n",
       "      <td>2</td>\n",
       "      <td>3</td>\n",
       "      <td>D28CE6A9E0E5B6D213470A97CFF32485</td>\n",
       "      <td>26</td>\n",
       "      <td>110</td>\n",
       "      <td>Войковская ( Южный )</td>\n",
       "      <td>2006</td>\n",
       "      <td>Войковская</td>\n",
       "      <td>2</td>\n",
       "      <td>Замоскворецкая</td>\n",
       "      <td>2022-09-12 05:00:55</td>\n",
       "      <td>865.333333</td>\n",
       "      <td>7022</td>\n",
       "      <td>12</td>\n",
       "      <td>5</td>\n",
       "      <td>2022-09-12 05:00:55</td>\n",
       "      <td>0</td>\n",
       "      <td>0</td>\n",
       "    </tr>\n",
       "  </tbody>\n",
       "</table>\n",
       "</div>"
      ],
      "text/plain": [
       "   id                         ticket_id  ticket_type_nm  entrance_id  \\\n",
       "0   1  40BD89EC85646EFB69E283F39C298E60              40         2402   \n",
       "1   2  126727A96489CC976A8C08E5CEB00542              53          110   \n",
       "2   3  D28CE6A9E0E5B6D213470A97CFF32485              26          110   \n",
       "\n",
       "            entrance_nm  station_id  station_nm  line_id            line_nm  \\\n",
       "0         Лефортово БКЛ       11007   Лефортово       11  Большая кольцевая   \n",
       "1  Войковская ( Южный )        2006  Войковская        2     Замоскворецкая   \n",
       "2  Войковская ( Южный )        2006  Войковская        2     Замоскворецкая   \n",
       "\n",
       "             pass_dttm  time_to_under  label  day  hours                time  \\\n",
       "0  2022-09-12 05:00:13     216.316667   8001   12      5 2022-09-12 05:00:13   \n",
       "1  2022-09-12 05:00:54     648.183333   9011   12      5 2022-09-12 05:00:54   \n",
       "2  2022-09-12 05:00:55     865.333333   7022   12      5 2022-09-12 05:00:55   \n",
       "\n",
       "   time_isweekend  time_dayofweek  \n",
       "0               0               0  \n",
       "1               0               0  \n",
       "2               0               0  "
      ]
     },
     "execution_count": 67,
     "metadata": {},
     "output_type": "execute_result"
    }
   ],
   "source": [
    "df.head(3)"
   ]
  },
  {
   "cell_type": "code",
   "execution_count": 4,
   "metadata": {
    "colab": {
     "base_uri": "https://localhost:8080/"
    },
    "id": "czcOBmDFduKQ",
    "outputId": "49609192-d4dc-485f-e171-b6cc9096baaa",
    "scrolled": true
   },
   "outputs": [
    {
     "name": "stdout",
     "output_type": "stream",
     "text": [
      "<class 'pandas.core.frame.DataFrame'>\n",
      "RangeIndex: 1091021 entries, 0 to 1091020\n",
      "Data columns (total 12 columns):\n",
      "id                1091021 non-null int64\n",
      "ticket_id         1091021 non-null object\n",
      "ticket_type_nm    1091021 non-null object\n",
      "entrance_id       1091021 non-null int64\n",
      "entrance_nm       1091021 non-null object\n",
      "station_id        1091021 non-null int64\n",
      "station_nm        1091021 non-null object\n",
      "line_id           1091021 non-null int64\n",
      "line_nm           1091021 non-null object\n",
      "pass_dttm         1091021 non-null object\n",
      "time_to_under     1091021 non-null float64\n",
      "label             1091021 non-null int64\n",
      "dtypes: float64(1), int64(5), object(6)\n",
      "memory usage: 99.9+ MB\n"
     ]
    }
   ],
   "source": [
    "df.info()"
   ]
  },
  {
   "cell_type": "code",
   "execution_count": 5,
   "metadata": {},
   "outputs": [
    {
     "data": {
      "text/html": [
       "<div>\n",
       "<style scoped>\n",
       "    .dataframe tbody tr th:only-of-type {\n",
       "        vertical-align: middle;\n",
       "    }\n",
       "\n",
       "    .dataframe tbody tr th {\n",
       "        vertical-align: top;\n",
       "    }\n",
       "\n",
       "    .dataframe thead th {\n",
       "        text-align: right;\n",
       "    }\n",
       "</style>\n",
       "<table border=\"1\" class=\"dataframe\">\n",
       "  <thead>\n",
       "    <tr style=\"text-align: right;\">\n",
       "      <th></th>\n",
       "      <th>id</th>\n",
       "      <th>entrance_id</th>\n",
       "      <th>station_id</th>\n",
       "      <th>line_id</th>\n",
       "      <th>time_to_under</th>\n",
       "      <th>label</th>\n",
       "    </tr>\n",
       "  </thead>\n",
       "  <tbody>\n",
       "    <tr>\n",
       "      <td>count</td>\n",
       "      <td>1.091021e+06</td>\n",
       "      <td>1.091021e+06</td>\n",
       "      <td>1.091021e+06</td>\n",
       "      <td>1.091021e+06</td>\n",
       "      <td>1.091021e+06</td>\n",
       "      <td>1.091021e+06</td>\n",
       "    </tr>\n",
       "    <tr>\n",
       "      <td>mean</td>\n",
       "      <td>5.455110e+05</td>\n",
       "      <td>8.581884e+02</td>\n",
       "      <td>8.601452e+03</td>\n",
       "      <td>8.590013e+00</td>\n",
       "      <td>5.104668e+02</td>\n",
       "      <td>7.723527e+03</td>\n",
       "    </tr>\n",
       "    <tr>\n",
       "      <td>std</td>\n",
       "      <td>3.149508e+05</td>\n",
       "      <td>9.003577e+02</td>\n",
       "      <td>1.247133e+04</td>\n",
       "      <td>1.247157e+01</td>\n",
       "      <td>2.328452e+02</td>\n",
       "      <td>1.167015e+04</td>\n",
       "    </tr>\n",
       "    <tr>\n",
       "      <td>min</td>\n",
       "      <td>1.000000e+00</td>\n",
       "      <td>2.000000e+01</td>\n",
       "      <td>1.002000e+03</td>\n",
       "      <td>1.000000e+00</td>\n",
       "      <td>3.001667e+01</td>\n",
       "      <td>1.002000e+03</td>\n",
       "    </tr>\n",
       "    <tr>\n",
       "      <td>25%</td>\n",
       "      <td>2.727560e+05</td>\n",
       "      <td>2.150000e+02</td>\n",
       "      <td>3.018000e+03</td>\n",
       "      <td>3.000000e+00</td>\n",
       "      <td>3.229500e+02</td>\n",
       "      <td>3.006000e+03</td>\n",
       "    </tr>\n",
       "    <tr>\n",
       "      <td>50%</td>\n",
       "      <td>5.455110e+05</td>\n",
       "      <td>3.370000e+02</td>\n",
       "      <td>7.009000e+03</td>\n",
       "      <td>7.000000e+00</td>\n",
       "      <td>5.686833e+02</td>\n",
       "      <td>6.013000e+03</td>\n",
       "    </tr>\n",
       "    <tr>\n",
       "      <td>75%</td>\n",
       "      <td>8.182660e+05</td>\n",
       "      <td>2.087000e+03</td>\n",
       "      <td>9.022000e+03</td>\n",
       "      <td>9.000000e+00</td>\n",
       "      <td>6.838833e+02</td>\n",
       "      <td>9.012000e+03</td>\n",
       "    </tr>\n",
       "    <tr>\n",
       "      <td>max</td>\n",
       "      <td>1.091021e+06</td>\n",
       "      <td>2.466000e+03</td>\n",
       "      <td>8.101600e+04</td>\n",
       "      <td>8.100000e+01</td>\n",
       "      <td>1.437417e+03</td>\n",
       "      <td>8.101600e+04</td>\n",
       "    </tr>\n",
       "  </tbody>\n",
       "</table>\n",
       "</div>"
      ],
      "text/plain": [
       "                 id   entrance_id    station_id       line_id  time_to_under  \\\n",
       "count  1.091021e+06  1.091021e+06  1.091021e+06  1.091021e+06   1.091021e+06   \n",
       "mean   5.455110e+05  8.581884e+02  8.601452e+03  8.590013e+00   5.104668e+02   \n",
       "std    3.149508e+05  9.003577e+02  1.247133e+04  1.247157e+01   2.328452e+02   \n",
       "min    1.000000e+00  2.000000e+01  1.002000e+03  1.000000e+00   3.001667e+01   \n",
       "25%    2.727560e+05  2.150000e+02  3.018000e+03  3.000000e+00   3.229500e+02   \n",
       "50%    5.455110e+05  3.370000e+02  7.009000e+03  7.000000e+00   5.686833e+02   \n",
       "75%    8.182660e+05  2.087000e+03  9.022000e+03  9.000000e+00   6.838833e+02   \n",
       "max    1.091021e+06  2.466000e+03  8.101600e+04  8.100000e+01   1.437417e+03   \n",
       "\n",
       "              label  \n",
       "count  1.091021e+06  \n",
       "mean   7.723527e+03  \n",
       "std    1.167015e+04  \n",
       "min    1.002000e+03  \n",
       "25%    3.006000e+03  \n",
       "50%    6.013000e+03  \n",
       "75%    9.012000e+03  \n",
       "max    8.101600e+04  "
      ]
     },
     "execution_count": 5,
     "metadata": {},
     "output_type": "execute_result"
    }
   ],
   "source": [
    "df.describe()"
   ]
  },
  {
   "cell_type": "markdown",
   "metadata": {
    "id": "IY5yf35yNVuR"
   },
   "source": [
    "Посмотрим на распределение двух основных величин "
   ]
  },
  {
   "cell_type": "code",
   "execution_count": 6,
   "metadata": {
    "colab": {
     "base_uri": "https://localhost:8080/",
     "height": 283
    },
    "id": "ccsstA-IdxOJ",
    "outputId": "ebe811b8-ceda-4cb7-bc70-8cb00301abad",
    "scrolled": false
   },
   "outputs": [
    {
     "data": {
      "text/plain": [
       "<matplotlib.axes._subplots.AxesSubplot at 0x7f46e7c0a710>"
      ]
     },
     "execution_count": 6,
     "metadata": {},
     "output_type": "execute_result"
    },
    {
     "data": {
      "image/png": "[encoded data removed]",
      "text/plain": [
       "<Figure size 432x288 with 1 Axes>"
      ]
     },
     "metadata": {
      "needs_background": "light"
     },
     "output_type": "display_data"
    }
   ],
   "source": [
    "df[\"label\"].hist(bins = 100)"
   ]
  },
  {
   "cell_type": "code",
   "execution_count": 66,
   "metadata": {},
   "outputs": [
    {
     "data": {
      "text/plain": [
       "<matplotlib.axes._subplots.AxesSubplot at 0x7fdf9c038150>"
      ]
     },
     "execution_count": 66,
     "metadata": {},
     "output_type": "execute_result"
    },
    {
     "data": {
      "image/png": "[encoded data removed]",
      "text/plain": [
       "<Figure size 1080x1080 with 1 Axes>"
      ]
     },
     "metadata": {
      "needs_background": "light"
     },
     "output_type": "display_data"
    }
   ],
   "source": [
    "# df1 = df[df[\"time_to_under\"] < 900]\n",
    "# df1[\"time_to_under\"].hist(bins = 100)"
   ]
  },
  {
   "cell_type": "code",
   "execution_count": 7,
   "metadata": {
    "colab": {
     "base_uri": "https://localhost:8080/",
     "height": 283
    },
    "id": "5YyJ2DkxNaZl",
    "outputId": "260535c7-e60d-441a-b29d-b6e71f2ea007"
   },
   "outputs": [
    {
     "data": {
      "text/plain": [
       "<matplotlib.axes._subplots.AxesSubplot at 0x7f371bf22c10>"
      ]
     },
     "execution_count": 7,
     "metadata": {},
     "output_type": "execute_result"
    },
    {
     "data": {
      "image/png": "[encoded data removed]",
      "text/plain": [
       "<Figure size 432x288 with 1 Axes>"
      ]
     },
     "metadata": {
      "needs_background": "light"
     },
     "output_type": "display_data"
    }
   ],
   "source": [
    "df[\"time_to_under\"].hist(bins = 100)"
   ]
  },
  {
   "cell_type": "markdown",
   "metadata": {
    "id": "s9fKKhV8edY_"
   },
   "source": [
    "Найдем наиболее популярную станцию и посмотрим инфо по ней:"
   ]
  },
  {
   "cell_type": "code",
   "execution_count": 8,
   "metadata": {
    "colab": {
     "base_uri": "https://localhost:8080/"
    },
    "id": "Gq6HjkgCeQSy",
    "outputId": "74ee990e-7edc-4d66-ef1b-7474d7f3301b"
   },
   "outputs": [
    {
     "data": {
      "text/plain": [
       "3002     17272\n",
       "6008     15541\n",
       "1022     13758\n",
       "5010     13122\n",
       "7022     13080\n",
       "         ...  \n",
       "13002       24\n",
       "13003       23\n",
       "13006       17\n",
       "13005       14\n",
       "13004        7\n",
       "Name: label, Length: 276, dtype: int64"
      ]
     },
     "execution_count": 8,
     "metadata": {},
     "output_type": "execute_result"
    }
   ],
   "source": [
    "df[\"label\"].value_counts()"
   ]
  },
  {
   "cell_type": "code",
   "execution_count": 10,
   "metadata": {
    "colab": {
     "base_uri": "https://localhost:8080/",
     "height": 357
    },
    "id": "HVyOBpgiNqPA",
    "outputId": "2dcd29b4-919e-4c77-c4a0-823cf068243b"
   },
   "outputs": [
    {
     "data": {
      "text/html": [
       "<div>\n",
       "<style scoped>\n",
       "    .dataframe tbody tr th:only-of-type {\n",
       "        vertical-align: middle;\n",
       "    }\n",
       "\n",
       "    .dataframe tbody tr th {\n",
       "        vertical-align: top;\n",
       "    }\n",
       "\n",
       "    .dataframe thead th {\n",
       "        text-align: right;\n",
       "    }\n",
       "</style>\n",
       "<table border=\"1\" class=\"dataframe\">\n",
       "  <thead>\n",
       "    <tr style=\"text-align: right;\">\n",
       "      <th></th>\n",
       "      <th>id</th>\n",
       "      <th>ticket_id</th>\n",
       "      <th>ticket_type_nm</th>\n",
       "      <th>entrance_id</th>\n",
       "      <th>entrance_nm</th>\n",
       "      <th>station_id</th>\n",
       "      <th>station_nm</th>\n",
       "      <th>line_id</th>\n",
       "      <th>line_nm</th>\n",
       "      <th>pass_dttm</th>\n",
       "      <th>time_to_under</th>\n",
       "      <th>label</th>\n",
       "    </tr>\n",
       "  </thead>\n",
       "  <tbody>\n",
       "    <tr>\n",
       "      <td>34</td>\n",
       "      <td>35</td>\n",
       "      <td>EAF4CE70898C3FCC7DC0453607054840</td>\n",
       "      <td>30 дней СК учащегося</td>\n",
       "      <td>110</td>\n",
       "      <td>Войковская ( Южный )</td>\n",
       "      <td>2006</td>\n",
       "      <td>Войковская</td>\n",
       "      <td>2</td>\n",
       "      <td>Замоскворецкая</td>\n",
       "      <td>2022-09-12 05:16:20</td>\n",
       "      <td>955.400000</td>\n",
       "      <td>6008</td>\n",
       "    </tr>\n",
       "    <tr>\n",
       "      <td>64</td>\n",
       "      <td>65</td>\n",
       "      <td>8BE033F1D958FF1E53F97121D51DE779</td>\n",
       "      <td>30 дней</td>\n",
       "      <td>218</td>\n",
       "      <td>Новогиреево (Восточный)</td>\n",
       "      <td>8003</td>\n",
       "      <td>Новогиреево</td>\n",
       "      <td>8</td>\n",
       "      <td>Калининская</td>\n",
       "      <td>2022-09-12 05:22:54</td>\n",
       "      <td>834.216667</td>\n",
       "      <td>6008</td>\n",
       "    </tr>\n",
       "    <tr>\n",
       "      <td>177</td>\n",
       "      <td>178</td>\n",
       "      <td>87ED9A7A8E1A46E32C08239A7FA930B9</td>\n",
       "      <td>КОШЕЛЕК</td>\n",
       "      <td>276</td>\n",
       "      <td>Новые Черёмушки (Южный)</td>\n",
       "      <td>6013</td>\n",
       "      <td>Новые Черёмушки</td>\n",
       "      <td>6</td>\n",
       "      <td>Калужско-Рижская</td>\n",
       "      <td>2022-09-12 05:26:21</td>\n",
       "      <td>1057.950000</td>\n",
       "      <td>6008</td>\n",
       "    </tr>\n",
       "    <tr>\n",
       "      <td>181</td>\n",
       "      <td>182</td>\n",
       "      <td>B00FE04CA3D4F54DA324610741E5A7A0</td>\n",
       "      <td>Социальная карта москвича</td>\n",
       "      <td>242</td>\n",
       "      <td>Ботанический сад (Северный)</td>\n",
       "      <td>6005</td>\n",
       "      <td>Ботанический сад</td>\n",
       "      <td>6</td>\n",
       "      <td>Калужско-Рижская</td>\n",
       "      <td>2022-09-12 05:26:31</td>\n",
       "      <td>124.616667</td>\n",
       "      <td>6008</td>\n",
       "    </tr>\n",
       "    <tr>\n",
       "      <td>626</td>\n",
       "      <td>627</td>\n",
       "      <td>54A042D2EF6DDFE9D444CCD8BB42AC0F</td>\n",
       "      <td>Социальная карта москвича</td>\n",
       "      <td>2214</td>\n",
       "      <td>Шелепиха (Первый)</td>\n",
       "      <td>11005</td>\n",
       "      <td>Шелепиха</td>\n",
       "      <td>11</td>\n",
       "      <td>Большая кольцевая</td>\n",
       "      <td>2022-09-12 05:31:39</td>\n",
       "      <td>561.316667</td>\n",
       "      <td>6008</td>\n",
       "    </tr>\n",
       "  </tbody>\n",
       "</table>\n",
       "</div>"
      ],
      "text/plain": [
       "      id                         ticket_id             ticket_type_nm  \\\n",
       "34    35  EAF4CE70898C3FCC7DC0453607054840       30 дней СК учащегося   \n",
       "64    65  8BE033F1D958FF1E53F97121D51DE779                    30 дней   \n",
       "177  178  87ED9A7A8E1A46E32C08239A7FA930B9                    КОШЕЛЕК   \n",
       "181  182  B00FE04CA3D4F54DA324610741E5A7A0  Социальная карта москвича   \n",
       "626  627  54A042D2EF6DDFE9D444CCD8BB42AC0F  Социальная карта москвича   \n",
       "\n",
       "     entrance_id                  entrance_nm  station_id        station_nm  \\\n",
       "34           110         Войковская ( Южный )        2006        Войковская   \n",
       "64           218      Новогиреево (Восточный)        8003       Новогиреево   \n",
       "177          276      Новые Черёмушки (Южный)        6013   Новые Черёмушки   \n",
       "181          242  Ботанический сад (Северный)        6005  Ботанический сад   \n",
       "626         2214            Шелепиха (Первый)       11005          Шелепиха   \n",
       "\n",
       "     line_id            line_nm            pass_dttm  time_to_under  label  \n",
       "34         2     Замоскворецкая  2022-09-12 05:16:20     955.400000   6008  \n",
       "64         8        Калининская  2022-09-12 05:22:54     834.216667   6008  \n",
       "177        6   Калужско-Рижская  2022-09-12 05:26:21    1057.950000   6008  \n",
       "181        6   Калужско-Рижская  2022-09-12 05:26:31     124.616667   6008  \n",
       "626       11  Большая кольцевая  2022-09-12 05:31:39     561.316667   6008  "
      ]
     },
     "execution_count": 10,
     "metadata": {},
     "output_type": "execute_result"
    }
   ],
   "source": [
    "# df[\"label\"].value_counts().index[0]   # номер станции\n",
    "\n",
    "df[df[\"label\"] == int(df[\"label\"].value_counts().index[1])].head()"
   ]
  },
  {
   "cell_type": "markdown",
   "metadata": {
    "id": "QTOLeRlMerAm"
   },
   "source": [
    "### **\"ticket_type_nm\"** \n"
   ]
  },
  {
   "cell_type": "code",
   "execution_count": 11,
   "metadata": {
    "colab": {
     "base_uri": "https://localhost:8080/"
    },
    "id": "Ydb_kzQlOfCP",
    "outputId": "5bd0c97e-b38e-40ba-dba7-c0a27a6468e1",
    "scrolled": true
   },
   "outputs": [
    {
     "data": {
      "text/plain": [
       "КОШЕЛЕК                                                   262499\n",
       "30 дней ЕДИНЫЙ ТК                                         177041\n",
       "Социальная карта москвича                                 127022\n",
       "30 дней                                                   117064\n",
       "90 дней ЕДИНЫЙ ТК                                          58071\n",
       "30 дней СК студента                                        48658\n",
       "60 поездок ЕДИНЫЙ ТК                                       46542\n",
       "30 дней Пригород ТК                                        45381\n",
       "СК студента 30 дней                                        39395\n",
       "ББК                                                        29674\n",
       "30 дней СК учащегося                                       24307\n",
       "365 дней ЕДИНЫЙ ТК                                         20859\n",
       "СК учащегося 30 дней                                       16933\n",
       "Социальная карта жителя Моск. области                      15551\n",
       "90 дней                                                    12817\n",
       "Пропуск FacePay                                             9234\n",
       "СК студента 90 дней                                         6744\n",
       "СК учащегося 90 дней                                        3169\n",
       "30 дней  Пригород                                           3098\n",
       "БСК дружинника г.Москвы                                     2829\n",
       "СК для сотрудника ГУВД г.Москвы                             2634\n",
       "ВЕСБ МОСКВА (7мин)                                          2555\n",
       "90 дней СК студента                                         2535\n",
       "Социальная карта москвича с сопровождающим                  2272\n",
       "90 дней Пригород ТК                                         2258\n",
       "90 дней СК учащегося                                        1549\n",
       "30 дней СК ординатора                                       1264\n",
       "365 дней Пригород ТК                                        1173\n",
       "СК ординатора 30 дней                                       1166\n",
       "30 дней СК аспиранта                                        1045\n",
       "СК аспиранта 30 дней                                         869\n",
       "365 дней                                                     768\n",
       "Пропуск сотрудника УВД по охране Метрополитена               541\n",
       "СК аспиранта 90 дней                                         510\n",
       "3 суток Единый ТК                                            504\n",
       "СК ординатора 90 дней                                        361\n",
       "ВЕСБ МО (7 мин)                                              335\n",
       "Социальная карта жителя Моск. области с сопровождающим       244\n",
       "Ультралайт Единый (70)                                       233\n",
       "90 дней  Пригород                                            188\n",
       "Временный билет ММ                                           159\n",
       "90 дней СК ординатора                                        142\n",
       "1 сутки ЕДИНЫЙ ТК                                            123\n",
       "Пропуск сотрудника  метрополитена                            113\n",
       "Билет 3 суток ЕДИНЫЙ                                         113\n",
       "90 дней СК аспиранта                                          92\n",
       "ВЕСБ МО (тип 5)                                               61\n",
       "Безналичная транспортная карта                                60\n",
       "ВЕСБ МОСКВА                                                   56\n",
       "30 дней СК ассистента-стажера                                 49\n",
       "Пропуск  сотрудника МЦК                                       44\n",
       "СК ассистента-стажера 30 дней                                 34\n",
       "365 дней  Пригород                                            30\n",
       "Пропуск руководителя метрополитена                            24\n",
       "СК ассистента-стажера 90 дней                                 10\n",
       "1 сутки Пригород ТК                                            7\n",
       "ВЛБ МОСКВА                                                     6\n",
       "Билет 1 сутки ЕДИНЫЙ                                           2\n",
       "ВЕСБ МО с сопровождающим                                       2\n",
       "ВЕСБ МО (тип 6)                                                2\n",
       "Name: ticket_type_nm, dtype: int64"
      ]
     },
     "execution_count": 11,
     "metadata": {},
     "output_type": "execute_result"
    }
   ],
   "source": [
    "df[\"ticket_type_nm\"].value_counts()"
   ]
  },
  {
   "cell_type": "code",
   "execution_count": 13,
   "metadata": {
    "colab": {
     "base_uri": "https://localhost:8080/",
     "height": 516
    },
    "id": "F03Pcva-fEVi",
    "outputId": "23aef922-9ed4-4f10-d8e3-640c51b830b5"
   },
   "outputs": [
    {
     "data": {
      "text/plain": [
       "<matplotlib.axes._subplots.AxesSubplot at 0x7f3725e05cd0>"
      ]
     },
     "execution_count": 13,
     "metadata": {},
     "output_type": "execute_result"
    },
    {
     "data": {
      "image/png": "[encoded data removed]",
      "text/plain": [
       "<Figure size 1080x576 with 1 Axes>"
      ]
     },
     "metadata": {
      "needs_background": "light"
     },
     "output_type": "display_data"
    }
   ],
   "source": [
    "plt.figure(figsize=(15,8))\n",
    "sns.countplot(x = \"ticket_type_nm\" , data  = df)  "
   ]
  },
  {
   "cell_type": "markdown",
   "metadata": {
    "id": "9treu6dEfnd6"
   },
   "source": [
    "Кажется нет четкой зависимости между категорией билета и временем между заходи на станцию"
   ]
  },
  {
   "cell_type": "code",
   "execution_count": 26,
   "metadata": {
    "colab": {
     "base_uri": "https://localhost:8080/",
     "height": 459
    },
    "id": "OH-8nXJ5fJAX",
    "outputId": "55f5ec51-ba31-445b-8934-2cdb6bfc706e"
   },
   "outputs": [
    {
     "data": {
      "text/plain": [
       "<seaborn.axisgrid.JointGrid at 0x7fdfaf271690>"
      ]
     },
     "execution_count": 26,
     "metadata": {},
     "output_type": "execute_result"
    },
    {
     "data": {
      "image/png": "[encoded data removed]",
      "text/plain": [
       "<Figure size 432x432 with 3 Axes>"
      ]
     },
     "metadata": {
      "needs_background": "light"
     },
     "output_type": "display_data"
    }
   ],
   "source": [
    "sns.jointplot(x = \"ticket_type_nm\", y = 'time_to_under', data = df, kind = 'reg')"
   ]
  },
  {
   "cell_type": "code",
   "execution_count": 51,
   "metadata": {},
   "outputs": [
    {
     "data": {
      "text/plain": [
       "<seaborn.axisgrid.JointGrid at 0x7fdf94271c10>"
      ]
     },
     "execution_count": 51,
     "metadata": {},
     "output_type": "execute_result"
    },
    {
     "data": {
      "image/png": "[encoded data removed]",
      "text/plain": [
       "<Figure size 432x432 with 3 Axes>"
      ]
     },
     "metadata": {
      "needs_background": "light"
     },
     "output_type": "display_data"
    }
   ],
   "source": [
    "sns.jointplot(x = \"ticket_type_nm\", y = 'label', data = df, kind = 'reg')"
   ]
  },
  {
   "cell_type": "code",
   "execution_count": 50,
   "metadata": {
    "colab": {
     "base_uri": "https://localhost:8080/",
     "height": 850
    },
    "id": "LQNuW50pgJYa",
    "outputId": "65403205-e8be-4e9a-d6d2-279c3c8c04f0"
   },
   "outputs": [
    {
     "data": {
      "image/png": "[encoded data removed]",
      "text/plain": [
       "<Figure size 1080x1080 with 2 Axes>"
      ]
     },
     "metadata": {
      "needs_background": "light"
     },
     "output_type": "display_data"
    }
   ],
   "source": [
    "plt.rcParams['figure.figsize']=(15,15)\n",
    "\n",
    "corr = df.corr()\n",
    "g = sns.heatmap(corr, square = True, annot=True)"
   ]
  },
  {
   "cell_type": "code",
   "execution_count": null,
   "metadata": {},
   "outputs": [],
   "source": []
  },
  {
   "cell_type": "code",
   "execution_count": 45,
   "metadata": {},
   "outputs": [
    {
     "data": {
      "text/plain": [
       "array([12, 13, 14, 15, 16, 17, 18, 19])"
      ]
     },
     "execution_count": 45,
     "metadata": {},
     "output_type": "execute_result"
    }
   ],
   "source": [
    "# df['day'].unique()\n",
    "df_dpi['time_dayofweek'] = df_dpi['time'].dt.dayofweek.astype('int8')"
   ]
  },
  {
   "cell_type": "code",
   "execution_count": 46,
   "metadata": {},
   "outputs": [],
   "source": [
    "df['time'] = pd.to_datetime(df['pass_dttm'])\n",
    "df['time_isweekend'] = (df['time'].dt.dayofweek // 5 == 1).astype('int8')\n",
    "df['time_dayofweek'] = df['time'].dt.dayofweek.astype('int8')"
   ]
  },
  {
   "cell_type": "code",
   "execution_count": 48,
   "metadata": {},
   "outputs": [
    {
     "data": {
      "text/plain": [
       "array([ 5,  6,  7,  8,  9, 10, 11, 12, 13, 14, 15, 16, 17, 18, 19, 20, 21,\n",
       "       22, 23,  0,  1,  2,  3,  4])"
      ]
     },
     "execution_count": 48,
     "metadata": {},
     "output_type": "execute_result"
    }
   ],
   "source": [
    " df['hours'].unique()"
   ]
  },
  {
   "cell_type": "markdown",
   "metadata": {
    "id": "WIFh_dnOhj1V"
   },
   "source": [
    "## Выделим выборки"
   ]
  },
  {
   "cell_type": "code",
   "execution_count": 5,
   "metadata": {
    "id": "mkCL9b-8hmZ1"
   },
   "outputs": [],
   "source": [
    "X = df.drop([\"ticket_id\", \"entrance_nm\", \"station_nm\", \"line_nm\", \"pass_dttm\", \"label\",\"time_to_under\", 'time'], axis = 1)\n",
    "y = df[[\"time_to_under\", \"label\"]]"
   ]
  },
  {
   "cell_type": "code",
   "execution_count": 6,
   "metadata": {
    "id": "NfIOX9Lbik_i"
   },
   "outputs": [
    {
     "data": {
      "text/plain": [
       "Index(['id', 'ticket_type_nm', 'entrance_id', 'station_id', 'line_id', 'day',\n",
       "       'hours', 'time_isweekend', 'time_dayofweek'],\n",
       "      dtype='object')"
      ]
     },
     "execution_count": 6,
     "metadata": {},
     "output_type": "execute_result"
    }
   ],
   "source": [
    "X_train, X_test, y_train, y_test = train_test_split(X, y, test_size=0.3, random_state=42)\n",
    "X_train.columns"
   ]
  },
  {
   "cell_type": "code",
   "execution_count": 7,
   "metadata": {},
   "outputs": [
    {
     "data": {
      "text/html": [
       "<div>\n",
       "<style scoped>\n",
       "    .dataframe tbody tr th:only-of-type {\n",
       "        vertical-align: middle;\n",
       "    }\n",
       "\n",
       "    .dataframe tbody tr th {\n",
       "        vertical-align: top;\n",
       "    }\n",
       "\n",
       "    .dataframe thead th {\n",
       "        text-align: right;\n",
       "    }\n",
       "</style>\n",
       "<table border=\"1\" class=\"dataframe\">\n",
       "  <thead>\n",
       "    <tr style=\"text-align: right;\">\n",
       "      <th></th>\n",
       "      <th>id</th>\n",
       "      <th>ticket_type_nm</th>\n",
       "      <th>entrance_id</th>\n",
       "      <th>station_id</th>\n",
       "      <th>line_id</th>\n",
       "      <th>day</th>\n",
       "      <th>hours</th>\n",
       "      <th>time_isweekend</th>\n",
       "      <th>time_dayofweek</th>\n",
       "    </tr>\n",
       "  </thead>\n",
       "  <tbody>\n",
       "    <tr>\n",
       "      <td>0</td>\n",
       "      <td>1</td>\n",
       "      <td>40</td>\n",
       "      <td>2402</td>\n",
       "      <td>11007</td>\n",
       "      <td>11</td>\n",
       "      <td>12</td>\n",
       "      <td>5</td>\n",
       "      <td>0</td>\n",
       "      <td>0</td>\n",
       "    </tr>\n",
       "    <tr>\n",
       "      <td>1</td>\n",
       "      <td>2</td>\n",
       "      <td>53</td>\n",
       "      <td>110</td>\n",
       "      <td>2006</td>\n",
       "      <td>2</td>\n",
       "      <td>12</td>\n",
       "      <td>5</td>\n",
       "      <td>0</td>\n",
       "      <td>0</td>\n",
       "    </tr>\n",
       "    <tr>\n",
       "      <td>2</td>\n",
       "      <td>3</td>\n",
       "      <td>26</td>\n",
       "      <td>110</td>\n",
       "      <td>2006</td>\n",
       "      <td>2</td>\n",
       "      <td>12</td>\n",
       "      <td>5</td>\n",
       "      <td>0</td>\n",
       "      <td>0</td>\n",
       "    </tr>\n",
       "    <tr>\n",
       "      <td>5</td>\n",
       "      <td>6</td>\n",
       "      <td>51</td>\n",
       "      <td>103</td>\n",
       "      <td>2003</td>\n",
       "      <td>2</td>\n",
       "      <td>12</td>\n",
       "      <td>5</td>\n",
       "      <td>0</td>\n",
       "      <td>0</td>\n",
       "    </tr>\n",
       "    <tr>\n",
       "      <td>6</td>\n",
       "      <td>7</td>\n",
       "      <td>40</td>\n",
       "      <td>2258</td>\n",
       "      <td>15001</td>\n",
       "      <td>15</td>\n",
       "      <td>12</td>\n",
       "      <td>5</td>\n",
       "      <td>0</td>\n",
       "      <td>0</td>\n",
       "    </tr>\n",
       "  </tbody>\n",
       "</table>\n",
       "</div>"
      ],
      "text/plain": [
       "   id  ticket_type_nm  entrance_id  station_id  line_id  day  hours  \\\n",
       "0   1              40         2402       11007       11   12      5   \n",
       "1   2              53          110        2006        2   12      5   \n",
       "2   3              26          110        2006        2   12      5   \n",
       "5   6              51          103        2003        2   12      5   \n",
       "6   7              40         2258       15001       15   12      5   \n",
       "\n",
       "   time_isweekend  time_dayofweek  \n",
       "0               0               0  \n",
       "1               0               0  \n",
       "2               0               0  \n",
       "5               0               0  \n",
       "6               0               0  "
      ]
     },
     "execution_count": 7,
     "metadata": {},
     "output_type": "execute_result"
    }
   ],
   "source": [
    "X.head()"
   ]
  },
  {
   "cell_type": "code",
   "execution_count": 8,
   "metadata": {
    "colab": {
     "base_uri": "https://localhost:8080/",
     "height": 424
    },
    "id": "8DMXViK5SLpd",
    "outputId": "b6afedf5-05ec-4f40-fb16-aeb2b2571d2c"
   },
   "outputs": [
    {
     "data": {
      "text/html": [
       "<div>\n",
       "<style scoped>\n",
       "    .dataframe tbody tr th:only-of-type {\n",
       "        vertical-align: middle;\n",
       "    }\n",
       "\n",
       "    .dataframe tbody tr th {\n",
       "        vertical-align: top;\n",
       "    }\n",
       "\n",
       "    .dataframe thead th {\n",
       "        text-align: right;\n",
       "    }\n",
       "</style>\n",
       "<table border=\"1\" class=\"dataframe\">\n",
       "  <thead>\n",
       "    <tr style=\"text-align: right;\">\n",
       "      <th></th>\n",
       "      <th>time_to_under</th>\n",
       "      <th>label</th>\n",
       "    </tr>\n",
       "  </thead>\n",
       "  <tbody>\n",
       "    <tr>\n",
       "      <td>283040</td>\n",
       "      <td>668.000000</td>\n",
       "      <td>3008</td>\n",
       "    </tr>\n",
       "    <tr>\n",
       "      <td>403647</td>\n",
       "      <td>650.050000</td>\n",
       "      <td>5001</td>\n",
       "    </tr>\n",
       "    <tr>\n",
       "      <td>624556</td>\n",
       "      <td>407.766667</td>\n",
       "      <td>1018</td>\n",
       "    </tr>\n",
       "    <tr>\n",
       "      <td>503607</td>\n",
       "      <td>56.566667</td>\n",
       "      <td>5002</td>\n",
       "    </tr>\n",
       "    <tr>\n",
       "      <td>366572</td>\n",
       "      <td>728.366667</td>\n",
       "      <td>6010</td>\n",
       "    </tr>\n",
       "    <tr>\n",
       "      <td>...</td>\n",
       "      <td>...</td>\n",
       "      <td>...</td>\n",
       "    </tr>\n",
       "    <tr>\n",
       "      <td>112163</td>\n",
       "      <td>571.183333</td>\n",
       "      <td>6015</td>\n",
       "    </tr>\n",
       "    <tr>\n",
       "      <td>263218</td>\n",
       "      <td>780.283333</td>\n",
       "      <td>9015</td>\n",
       "    </tr>\n",
       "    <tr>\n",
       "      <td>133827</td>\n",
       "      <td>551.100000</td>\n",
       "      <td>1017</td>\n",
       "    </tr>\n",
       "    <tr>\n",
       "      <td>681626</td>\n",
       "      <td>505.200000</td>\n",
       "      <td>6014</td>\n",
       "    </tr>\n",
       "    <tr>\n",
       "      <td>123853</td>\n",
       "      <td>486.916667</td>\n",
       "      <td>4001</td>\n",
       "    </tr>\n",
       "  </tbody>\n",
       "</table>\n",
       "<p>752381 rows × 2 columns</p>\n",
       "</div>"
      ],
      "text/plain": [
       "        time_to_under  label\n",
       "283040     668.000000   3008\n",
       "403647     650.050000   5001\n",
       "624556     407.766667   1018\n",
       "503607      56.566667   5002\n",
       "366572     728.366667   6010\n",
       "...               ...    ...\n",
       "112163     571.183333   6015\n",
       "263218     780.283333   9015\n",
       "133827     551.100000   1017\n",
       "681626     505.200000   6014\n",
       "123853     486.916667   4001\n",
       "\n",
       "[752381 rows x 2 columns]"
      ]
     },
     "execution_count": 8,
     "metadata": {},
     "output_type": "execute_result"
    }
   ],
   "source": [
    "y_train"
   ]
  },
  {
   "cell_type": "markdown",
   "metadata": {
    "id": "60NotS9ehbO5"
   },
   "source": [
    "## Обучение модели"
   ]
  },
  {
   "cell_type": "markdown",
   "metadata": {
    "id": "uZW02LaeSVpa"
   },
   "source": [
    "Для станции "
   ]
  },
  {
   "cell_type": "code",
   "execution_count": 11,
   "metadata": {},
   "outputs": [],
   "source": [
    "datalen = y_train.shape[0]\n",
    "chunksize = 10000"
   ]
  },
  {
   "cell_type": "code",
   "execution_count": 14,
   "metadata": {
    "id": "jc-KKFlWf6_N"
   },
   "outputs": [],
   "source": [
    "# %%time\n",
    "\n",
    "# clf = RandomForestClassifier(random_state=0, max_depth=15, n_jobs=1, warm_start=True)\n",
    "# clf.fit(X_train[:chunksize], y_train[\"label\"][:chunksize])\n",
    "\n",
    "# i = 0\n",
    "# while i < datalen:\n",
    "#     clf.fit(X_train[i:i+chunksize], y_train[\"label\"][i:i+chunksize])\n",
    "#     i = i + chunksize\n"
   ]
  },
  {
   "cell_type": "code",
   "execution_count": 9,
   "metadata": {},
   "outputs": [
    {
     "name": "stdout",
     "output_type": "stream",
     "text": [
      "CPU times: user 6min 45s, sys: 2min 1s, total: 8min 46s\n",
      "Wall time: 2min 45s\n"
     ]
    },
    {
     "data": {
      "text/plain": [
       "RandomForestClassifier(bootstrap=True, class_weight=None, criterion='gini',\n",
       "                       max_depth=10, max_features='auto', max_leaf_nodes=None,\n",
       "                       min_impurity_decrease=0.0, min_impurity_split=None,\n",
       "                       min_samples_leaf=1, min_samples_split=2,\n",
       "                       min_weight_fraction_leaf=0.0, n_estimators=200, n_jobs=2,\n",
       "                       oob_score=False, random_state=0, verbose=0,\n",
       "                       warm_start=False)"
      ]
     },
     "execution_count": 9,
     "metadata": {},
     "output_type": "execute_result"
    }
   ],
   "source": [
    "%%time\n",
    "\n",
    "clf = RandomForestClassifier(random_state=0, max_depth=10, n_estimators=200, n_jobs=2)\n",
    "clf.fit(X_train, y_train[\"label\"])\n",
    "\n",
    "# festo ~4min  n_jobs=2"
   ]
  },
  {
   "cell_type": "code",
   "execution_count": null,
   "metadata": {},
   "outputs": [],
   "source": []
  },
  {
   "cell_type": "code",
   "execution_count": 20,
   "metadata": {},
   "outputs": [],
   "source": [
    "# import pickle\n",
    "\n",
    "# with open('./clf.data', 'wb') as f:\n",
    "#     pickle.dump(clf, f)"
   ]
  },
  {
   "cell_type": "code",
   "execution_count": 11,
   "metadata": {},
   "outputs": [
    {
     "name": "stderr",
     "output_type": "stream",
     "text": [
      "/home/ivan/anaconda3/lib/python3.7/site-packages/sklearn/linear_model/logistic.py:469: FutureWarning: Default multi_class will be changed to 'auto' in 0.22. Specify the multi_class option to silence this warning.\n",
      "  \"this warning.\", FutureWarning)\n"
     ]
    },
    {
     "name": "stdout",
     "output_type": "stream",
     "text": [
      "CPU times: user 1.64 s, sys: 175 ms, total: 1.81 s\n",
      "Wall time: 12min 3s\n"
     ]
    },
    {
     "data": {
      "text/plain": [
       "LogisticRegression(C=1.0, class_weight=None, dual=False, fit_intercept=True,\n",
       "                   intercept_scaling=1, l1_ratio=None, max_iter=100,\n",
       "                   multi_class='warn', n_jobs=-1, penalty='l2', random_state=0,\n",
       "                   solver='lbfgs', tol=0.0001, verbose=0, warm_start=False)"
      ]
     },
     "execution_count": 11,
     "metadata": {},
     "output_type": "execute_result"
    }
   ],
   "source": [
    "%%time\n",
    "from sklearn.linear_model import LogisticRegression\n",
    "\n",
    "clf = LogisticRegression(random_state=0, solver='lbfgs', n_jobs=-1)\n",
    "clf.fit(X_train, y_train[\"label\"])\n"
   ]
  },
  {
   "cell_type": "markdown",
   "metadata": {
    "id": "bWkUCLOfSYGU"
   },
   "source": [
    "Для времени"
   ]
  },
  {
   "cell_type": "code",
   "execution_count": 10,
   "metadata": {
    "colab": {
     "base_uri": "https://localhost:8080/"
    },
    "id": "bSwqI6szSsm0",
    "outputId": "941b2e16-2eae-4f32-d9a6-e59da6efdb50"
   },
   "outputs": [
    {
     "name": "stdout",
     "output_type": "stream",
     "text": [
      "CPU times: user 20min 7s, sys: 452 ms, total: 20min 7s\n",
      "Wall time: 2min 33s\n"
     ]
    },
    {
     "data": {
      "text/plain": [
       "RandomForestRegressor(bootstrap=True, criterion='mse', max_depth=15,\n",
       "                      max_features='auto', max_leaf_nodes=None,\n",
       "                      min_impurity_decrease=0.0, min_impurity_split=None,\n",
       "                      min_samples_leaf=1, min_samples_split=2,\n",
       "                      min_weight_fraction_leaf=0.0, n_estimators=200, n_jobs=-1,\n",
       "                      oob_score=False, random_state=0, verbose=0,\n",
       "                      warm_start=False)"
      ]
     },
     "execution_count": 10,
     "metadata": {},
     "output_type": "execute_result"
    }
   ],
   "source": [
    "%%time\n",
    "reg = RandomForestRegressor(random_state=0, max_depth=15, n_estimators=200, n_jobs=-1)\n",
    "\n",
    "reg.fit(X_train, y_train[\"time_to_under\"])\n",
    "\n",
    "# фесто 45с n_jobs=-1"
   ]
  },
  {
   "cell_type": "code",
   "execution_count": 21,
   "metadata": {},
   "outputs": [],
   "source": [
    "# import pickle\n",
    "\n",
    "# with open('./reg.data', 'wb') as f:\n",
    "#     pickle.dump(reg, f)"
   ]
  },
  {
   "cell_type": "code",
   "execution_count": 20,
   "metadata": {},
   "outputs": [
    {
     "name": "stdout",
     "output_type": "stream",
     "text": [
      "CPU times: user 353 ms, sys: 23.3 ms, total: 376 ms\n",
      "Wall time: 94.3 ms\n"
     ]
    },
    {
     "data": {
      "text/plain": [
       "LinearRegression(copy_X=True, fit_intercept=True, n_jobs=-1, normalize=False)"
      ]
     },
     "execution_count": 20,
     "metadata": {},
     "output_type": "execute_result"
    }
   ],
   "source": [
    "%%time \n",
    "\n",
    "from sklearn.linear_model import LinearRegression\n",
    "\n",
    "reg = LinearRegression(n_jobs=-1)\n",
    "reg.fit(X_train, y_train[\"time_to_under\"])"
   ]
  },
  {
   "cell_type": "markdown",
   "metadata": {
    "id": "6Y60HHS5jKeN"
   },
   "source": [
    "## Оценка точности"
   ]
  },
  {
   "cell_type": "code",
   "execution_count": 11,
   "metadata": {
    "id": "UV0kmZqGf7D-"
   },
   "outputs": [],
   "source": [
    "pred_class = clf.predict(X_test)\n",
    "pred_reg = reg.predict(X_test)"
   ]
  },
  {
   "cell_type": "code",
   "execution_count": 16,
   "metadata": {
    "colab": {
     "base_uri": "https://localhost:8080/"
    },
    "id": "AgEZTGYujQMW",
    "outputId": "e326b73a-a2db-4722-e07c-97089b971978"
   },
   "outputs": [
    {
     "name": "stdout",
     "output_type": "stream",
     "text": [
      "0.051367635290150336 0.5337106363746371 0.2925391358323937\n"
     ]
    }
   ],
   "source": [
    "from sklearn.metrics import recall_score, r2_score\n",
    "\n",
    "rs = recall_score(y_test[\"label\"], pred_class , average='macro')\n",
    "r2 = r2_score(y_test[\"time_to_under\"], pred_reg)\n",
    "score = 0.5 * rs +  0.5 * r2\n",
    "\n",
    "print(rs, r2, score)"
   ]
  },
  {
   "cell_type": "code",
   "execution_count": null,
   "metadata": {},
   "outputs": [],
   "source": [
    "# 0.4897555334746157   -- baseline\n",
    "# 0.2678758686368177   -- baseline, обучение на всех данных.  На паблике 0.092150\n",
    "# 0.0028946815886393275 0.4765418328846045 0.2397182572366219   -- logit, linreg  public  -0.177917\n",
    "# 0.051367635290150336 0.5337106363746371 0.2925391358323937 -- RandomForestClassifier, RandomForestRegressor"
   ]
  },
  {
   "cell_type": "markdown",
   "metadata": {},
   "source": [
    "### classification_report"
   ]
  },
  {
   "cell_type": "code",
   "execution_count": 13,
   "metadata": {},
   "outputs": [
    {
     "name": "stderr",
     "output_type": "stream",
     "text": [
      "/home/ivan/anaconda3/lib/python3.7/site-packages/sklearn/metrics/classification.py:1437: UndefinedMetricWarning: Precision and F-score are ill-defined and being set to 0.0 in labels with no predicted samples.\n",
      "  'precision', 'predicted', average, warn_for)\n"
     ]
    },
    {
     "name": "stdout",
     "output_type": "stream",
     "text": [
      "              precision    recall  f1-score   support\n",
      "\n",
      "        1002       0.00      0.00      0.00       846\n",
      "        1003       0.12      0.05      0.07       974\n",
      "        1004       0.00      0.00      0.00       811\n",
      "        1005       0.04      0.02      0.03      1400\n",
      "        1006       0.00      0.00      0.00      1690\n",
      "        1007       0.00      0.00      0.00      1877\n",
      "        1008       0.06      0.01      0.02      1683\n",
      "        1009       0.05      0.05      0.05      3765\n",
      "        1011       0.11      0.02      0.03      1941\n",
      "        1012       0.33      0.00      0.00      1208\n",
      "        1013       0.50      0.00      0.00       863\n",
      "        1014       0.12      0.13      0.13      1249\n",
      "        1015       0.08      0.01      0.01      1614\n",
      "        1016       0.13      0.00      0.01      1886\n",
      "        1017       0.00      0.00      0.00       858\n",
      "        1018       0.11      0.18      0.13      2714\n",
      "        1019       0.31      0.02      0.04      2260\n",
      "        1020       0.00      0.00      0.00       538\n",
      "        1021       0.00      0.00      0.00      1613\n",
      "        1022       0.07      0.22      0.10      4029\n",
      "        1023       0.00      0.00      0.00       353\n",
      "        1024       0.09      0.03      0.04       281\n",
      "        1025       0.00      0.00      0.00       311\n",
      "        1026       0.18      0.08      0.11       253\n",
      "        2001       0.04      0.16      0.07      2688\n",
      "        2002       0.00      0.00      0.00       328\n",
      "        2003       0.08      0.02      0.03      2550\n",
      "        2004       0.21      0.30      0.25      2052\n",
      "        2005       0.06      0.12      0.08      2012\n",
      "        2006       0.07      0.28      0.12      2271\n",
      "        2007       0.11      0.05      0.07      2245\n",
      "        2008       0.06      0.14      0.08      1696\n",
      "        2009       1.00      0.00      0.00       974\n",
      "        2010       0.08      0.01      0.02      1611\n",
      "        2011       0.10      0.04      0.05      2141\n",
      "        2012       0.00      0.00      0.00       359\n",
      "        2013       0.22      0.01      0.02      2416\n",
      "        2014       0.16      0.02      0.03      2200\n",
      "        2015       0.00      0.00      0.00       503\n",
      "        2016       0.33      0.00      0.00      1450\n",
      "        2017       0.00      0.00      0.00       810\n",
      "        2018       0.06      0.03      0.04      2225\n",
      "        2021       0.07      0.00      0.01      1640\n",
      "        2022       0.00      0.00      0.00       952\n",
      "        2023       0.05      0.19      0.08      1498\n",
      "        2024       0.00      0.00      0.00       601\n",
      "        3001       0.14      0.03      0.04      2336\n",
      "        3002       0.05      0.33      0.09      5084\n",
      "        3003       0.29      0.00      0.01       560\n",
      "        3004       0.00      0.00      0.00       618\n",
      "        3005       0.00      0.00      0.00      1725\n",
      "        3006       1.00      0.00      0.00      1307\n",
      "        3007       0.00      0.00      0.00       522\n",
      "        3008       0.00      0.00      0.00      1696\n",
      "        3009       0.00      0.00      0.00       606\n",
      "        3010       0.05      0.09      0.07      2512\n",
      "        3011       0.10      0.12      0.11       891\n",
      "        3012       0.17      0.20      0.18      1158\n",
      "        3013       0.50      0.00      0.00       729\n",
      "        3014       0.05      0.00      0.00       825\n",
      "        3015       0.04      0.03      0.04      2263\n",
      "        3016       0.00      0.00      0.00       463\n",
      "        3017       0.11      0.00      0.00      1694\n",
      "        3018       0.05      0.03      0.04      2206\n",
      "        3019       0.00      0.00      0.00      1967\n",
      "        3020       0.10      0.27      0.14      1422\n",
      "        3022       0.09      0.00      0.01      1302\n",
      "        3023       0.08      0.08      0.08      2378\n",
      "        4001       0.00      0.00      0.00      1263\n",
      "        4002       0.00      0.00      0.00       340\n",
      "        4003       0.10      0.04      0.06       849\n",
      "        4004       0.15      0.19      0.16      1560\n",
      "        4006       0.00      0.00      0.00       213\n",
      "        4007       0.06      0.04      0.05       509\n",
      "        4008       0.00      0.00      0.00       480\n",
      "        4009       0.00      0.00      0.00       218\n",
      "        4010       0.24      0.01      0.02       604\n",
      "        4011       0.00      0.00      0.00       243\n",
      "        4012       0.00      0.00      0.00       394\n",
      "        4013       0.08      0.02      0.03       900\n",
      "        5001       0.03      0.00      0.01      2530\n",
      "        5002       0.00      0.00      0.00      1779\n",
      "        5003       0.12      0.01      0.01      2324\n",
      "        5004       0.14      0.00      0.00      1359\n",
      "        5005       0.24      0.07      0.11      1561\n",
      "        5006       1.00      0.00      0.00      1149\n",
      "        5007       0.09      0.04      0.06      2573\n",
      "        5008       0.10      0.22      0.13      2324\n",
      "        5009       0.09      0.01      0.03      3444\n",
      "        5010       0.05      0.06      0.06      3946\n",
      "        5011       0.04      0.00      0.00      1422\n",
      "        5012       0.00      0.00      0.00      1787\n",
      "        6001       0.04      0.01      0.02      1628\n",
      "        6002       0.04      0.03      0.03      2123\n",
      "        6003       0.25      0.00      0.01      1209\n",
      "        6004       0.19      0.01      0.02      1739\n",
      "        6005       0.10      0.00      0.00       886\n",
      "        6006       0.06      0.05      0.05      3373\n",
      "        6007       0.12      0.03      0.05      1994\n",
      "        6008       0.04      0.17      0.06      4667\n",
      "        6009       0.24      0.02      0.04       987\n",
      "        6010       0.04      0.06      0.05      2607\n",
      "        6011       0.33      0.01      0.01       967\n",
      "        6012       0.00      0.00      0.00       127\n",
      "        6013       0.02      0.00      0.00      1740\n",
      "        6014       0.00      0.00      0.00       927\n",
      "        6015       0.00      0.00      0.00      1287\n",
      "        6016       0.04      0.02      0.03      1483\n",
      "        6017       0.00      0.00      0.00       659\n",
      "        6018       0.40      0.02      0.04       807\n",
      "        6019       0.00      0.00      0.00      1577\n",
      "        6020       0.06      0.15      0.08      2930\n",
      "        6022       0.00      0.00      0.00      1443\n",
      "        6023       0.25      0.00      0.00      2372\n",
      "        6024       0.00      0.00      0.00       796\n",
      "        7001       0.10      0.13      0.11      2212\n",
      "        7002       0.05      0.01      0.01      2142\n",
      "        7003       0.17      0.01      0.01      1807\n",
      "        7004       0.09      0.05      0.07      1641\n",
      "        7005       0.10      0.04      0.06       692\n",
      "        7007       0.00      0.00      0.00      1130\n",
      "        7008       0.26      0.00      0.01      1934\n",
      "        7009       0.14      0.05      0.07      1842\n",
      "        7010       0.00      0.00      0.00       517\n",
      "        7011       0.05      0.11      0.07      2091\n",
      "        7012       0.33      0.00      0.00       921\n",
      "        7013       0.20      0.00      0.00      1750\n",
      "        7014       0.00      0.00      0.00      1898\n",
      "        7015       0.06      0.00      0.00      3789\n",
      "        7016       0.00      0.00      0.00      1213\n",
      "        7017       0.15      0.08      0.11       771\n",
      "        7018       0.00      0.00      0.00      1392\n",
      "        7019       0.00      0.00      0.00       947\n",
      "        7020       0.05      0.33      0.08      2668\n",
      "        7021       0.06      0.09      0.07      1574\n",
      "        7022       0.06      0.08      0.07      4029\n",
      "        7023       0.06      0.18      0.09      1911\n",
      "        8001       0.04      0.20      0.07      3008\n",
      "        8002       0.00      0.00      0.00      1366\n",
      "        8003       0.08      0.01      0.02      1225\n",
      "        8004       0.00      0.00      0.00       933\n",
      "        8005       0.28      0.01      0.02       909\n",
      "        8006       0.14      0.00      0.00      1241\n",
      "        8007       0.05      0.05      0.05      2534\n",
      "        8008       0.00      0.00      0.00      1107\n",
      "        9001       0.20      0.00      0.00       955\n",
      "        9002       1.00      0.00      0.00       729\n",
      "        9003       0.00      0.00      0.00       614\n",
      "        9004       0.00      0.00      0.00       551\n",
      "        9005       0.05      0.02      0.03       994\n",
      "        9006       0.14      0.01      0.02       696\n",
      "        9007       0.04      0.14      0.07      2041\n",
      "        9008       0.04      0.11      0.06      2384\n",
      "        9009       0.03      0.06      0.04      2341\n",
      "        9010       0.27      0.07      0.11       949\n",
      "        9011       0.00      0.00      0.00       978\n",
      "        9012       0.06      0.06      0.06      1120\n",
      "        9014       0.67      0.00      0.00      1320\n",
      "        9015       0.06      0.33      0.10      1821\n",
      "        9016       0.06      0.02      0.03      2286\n",
      "        9017       0.00      0.00      0.00       378\n",
      "        9018       0.06      0.17      0.09      2440\n",
      "        9019       0.00      0.00      0.00       845\n",
      "        9020       0.03      0.03      0.03      2426\n",
      "        9021       0.20      0.00      0.00       657\n",
      "        9022       0.04      0.00      0.01      1700\n",
      "        9023       0.00      0.00      0.00      1075\n",
      "        9024       0.07      0.00      0.00      1844\n",
      "        9025       0.00      0.00      0.00       889\n",
      "       10001       0.00      0.00      0.00       217\n",
      "       10002       0.04      0.07      0.06      1127\n",
      "       10003       0.34      0.06      0.10      1017\n",
      "       10004       0.00      0.00      0.00       400\n",
      "       10005       0.00      0.00      0.00       419\n",
      "       10006       0.00      0.00      0.00       924\n",
      "       10007       0.03      0.16      0.05      1501\n",
      "       10008       0.00      0.00      0.00       243\n",
      "       10009       0.03      0.14      0.05      1580\n",
      "       10010       0.00      0.00      0.00       597\n",
      "       10011       0.33      0.00      0.00      1303\n",
      "       10012       0.03      0.07      0.04      1860\n",
      "       10013       1.00      0.00      0.00       892\n",
      "       10014       0.00      0.00      0.00       228\n",
      "       10015       0.00      0.00      0.00       806\n",
      "       10016       0.22      0.01      0.02       667\n",
      "       10017       0.04      0.02      0.02      1228\n",
      "       10018       0.11      0.01      0.02      1453\n",
      "       10019       0.00      0.00      0.00       700\n",
      "       10020       0.03      0.01      0.01      1279\n",
      "       10021       0.00      0.00      0.00       388\n",
      "       10022       0.06      0.00      0.00      2048\n",
      "       10023       0.00      0.00      0.00       267\n",
      "       11001       0.07      0.07      0.07      1408\n",
      "       11002       0.03      0.00      0.00       863\n",
      "       11003       0.37      0.02      0.03       659\n",
      "       11004       0.08      0.13      0.10      2297\n",
      "       11005       0.16      0.02      0.03       675\n",
      "       11006       0.20      0.00      0.00       747\n",
      "       11007       0.43      0.01      0.02       291\n",
      "       11008       0.13      0.61      0.21       911\n",
      "       11009       0.26      0.10      0.14       767\n",
      "       11010       0.33      0.00      0.00       818\n",
      "       11011       0.00      0.00      0.00       129\n",
      "       11012       0.00      0.00      0.00       794\n",
      "       11013       0.50      0.00      0.00       481\n",
      "       11014       0.37      0.07      0.11       567\n",
      "       11015       0.20      0.01      0.02       676\n",
      "       11016       0.00      0.00      0.00       310\n",
      "       11017       0.19      0.23      0.21       676\n",
      "       11018       0.10      0.02      0.03       877\n",
      "       11019       0.40      0.00      0.01       634\n",
      "       11020       0.50      0.10      0.16       639\n",
      "       11021       0.27      0.69      0.39      1268\n",
      "       12001       0.00      0.00      0.00       103\n",
      "       12002       1.00      0.01      0.01       273\n",
      "       12003       0.00      0.00      0.00       393\n",
      "       12004       0.60      0.01      0.01       530\n",
      "       12005       0.00      0.00      0.00       218\n",
      "       12006       0.17      0.01      0.01       375\n",
      "       13001       0.23      0.44      0.30        16\n",
      "       13002       0.00      0.00      0.00         6\n",
      "       13003       0.00      0.00      0.00        10\n",
      "       13004       0.00      0.00      0.00         2\n",
      "       13005       0.00      0.00      0.00         5\n",
      "       13006       0.00      0.00      0.00         5\n",
      "       14001       0.00      0.00      0.00       240\n",
      "       14002       1.00      0.01      0.01       189\n",
      "       14003       0.13      0.25      0.17       556\n",
      "       14004       0.00      0.00      0.00        43\n",
      "       14005       0.09      0.08      0.08       535\n",
      "       14006       0.00      0.00      0.00       356\n",
      "       14007       0.10      0.19      0.13       550\n",
      "       14008       0.00      0.00      0.00       331\n",
      "       14009       0.10      0.41      0.16       880\n",
      "       14010       0.12      0.05      0.07       350\n",
      "       14011       0.16      0.16      0.16       486\n",
      "       14012       0.67      0.01      0.02       202\n",
      "       14013       0.00      0.00      0.00       304\n",
      "       14014       0.10      0.03      0.04       396\n",
      "       14015       0.31      0.05      0.09       243\n",
      "       14016       0.26      0.37      0.30      1187\n",
      "       14017       0.00      0.00      0.00       230\n",
      "       14018       0.16      0.07      0.09       380\n",
      "       14019       0.15      0.17      0.16       648\n",
      "       14020       0.16      0.09      0.12       479\n",
      "       14021       0.18      0.02      0.04       310\n",
      "       14022       0.46      0.04      0.08       364\n",
      "       14023       0.00      0.00      0.00       278\n",
      "       14024       0.15      0.10      0.12       689\n",
      "       14025       0.09      0.15      0.11       553\n",
      "       14026       0.14      0.01      0.01       192\n",
      "       14027       0.10      0.21      0.13       535\n",
      "       14028       0.41      0.11      0.17       288\n",
      "       14029       0.38      0.08      0.13       342\n",
      "       14030       0.27      0.08      0.12       372\n",
      "       14031       0.00      0.00      0.00       294\n",
      "       15001       0.00      0.00      0.00       162\n",
      "       15002       0.10      0.00      0.01       619\n",
      "       15003       1.00      0.01      0.02       240\n",
      "       15004       0.00      0.00      0.00       255\n",
      "       15005       0.14      0.31      0.19       753\n",
      "       15006       0.55      0.04      0.08       287\n",
      "       15007       0.33      0.00      0.01       266\n",
      "       15008       0.16      0.02      0.03       337\n",
      "       81001       0.06      0.15      0.09      1131\n",
      "       81002       0.05      0.02      0.03       958\n",
      "       81003       0.00      0.00      0.00       507\n",
      "       81004       0.00      0.00      0.00       360\n",
      "       81006       0.08      0.07      0.07      1138\n",
      "       81010       0.24      0.23      0.23       310\n",
      "       81011       0.06      0.20      0.09       855\n",
      "       81012       0.00      0.00      0.00       418\n",
      "       81013       0.04      0.01      0.01       570\n",
      "       81014       0.39      0.11      0.18       123\n",
      "       81015       0.08      0.02      0.04       404\n",
      "       81016       0.67      0.00      0.01       558\n",
      "\n",
      "    accuracy                           0.07    322449\n",
      "   macro avg       0.13      0.05      0.04    322449\n",
      "weighted avg       0.11      0.07      0.05    322449\n",
      "\n"
     ]
    }
   ],
   "source": [
    "from sklearn.metrics import classification_report\n",
    "\n",
    "print(classification_report(y_test[\"label\"], pred_class))"
   ]
  },
  {
   "cell_type": "code",
   "execution_count": null,
   "metadata": {
    "scrolled": true
   },
   "outputs": [],
   "source": []
  },
  {
   "cell_type": "code",
   "execution_count": 65,
   "metadata": {},
   "outputs": [
    {
     "name": "stdout",
     "output_type": "stream",
     "text": [
      "110 / 276\n"
     ]
    }
   ],
   "source": [
    "# классы, которые плохо прогнозируются\n",
    "\n",
    "from sklearn.metrics import multilabel_confusion_matrix\n",
    "mcm = multilabel_confusion_matrix(y_test[\"label\"], pred_class)\n",
    "\n",
    "inds_classes = sorted(y_test[\"label\"].unique())   #  список классов\n",
    "\n",
    "inds = []\n",
    "for i in range(len(mcm)):\n",
    "    if mcm[i][1,1] <= 1:\n",
    "        inds.append(inds_classes[i])\n",
    "#     print(mcm[i][1,1])\n",
    "\n",
    "print(len(inds),'/',len(inds_classes))"
   ]
  },
  {
   "cell_type": "code",
   "execution_count": null,
   "metadata": {},
   "outputs": [],
   "source": []
  },
  {
   "cell_type": "code",
   "execution_count": null,
   "metadata": {},
   "outputs": [],
   "source": []
  },
  {
   "cell_type": "code",
   "execution_count": null,
   "metadata": {},
   "outputs": [],
   "source": []
  },
  {
   "cell_type": "markdown",
   "metadata": {},
   "source": [
    "# Submit"
   ]
  },
  {
   "cell_type": "code",
   "execution_count": null,
   "metadata": {},
   "outputs": [],
   "source": [
    "clf.fit([X_train, X_test], [y_train[\"label\"], y_test['label']])\n",
    "reg.fit([X_train, X_test], [y_train[\"label\"], y_test['label']])"
   ]
  },
  {
   "cell_type": "code",
   "execution_count": 24,
   "metadata": {
    "scrolled": true
   },
   "outputs": [],
   "source": [
    "valid = pd.read_csv(\"./test_dataset_test.csv\")\n",
    "\n",
    "valid = modifydata(valid)\n",
    "\n",
    "# valid[\"ticket_type_nm\"] = pd.Categorical(valid[\"ticket_type_nm\"])\n",
    "# valid[\"ticket_type_nm\"].astype('category').cat.codes\n",
    "# valid[\"ticket_type_nm\"] = valid[\"ticket_type_nm\"].cat.codes\n",
    "# valid[\"day\"] = valid.pass_dttm.map(lambda x: int(x.split(\"-\")[2].split(\" \")[0]))\n",
    "# valid[\"hours\"] = valid.pass_dttm.map(lambda x: int(x.split(\"-\")[2].split(\" \")[1].split(\":\")[0]))\n",
    "\n",
    "X = valid.drop([\"ticket_id\", \"entrance_nm\", \"station_nm\", \"line_nm\", \"pass_dttm\"], axis = 1)\n",
    "\n",
    "pred_class = clf.predict(X)\n",
    "pred_reg = reg.predict(X)"
   ]
  },
  {
   "cell_type": "code",
   "execution_count": 25,
   "metadata": {},
   "outputs": [
    {
     "data": {
      "text/html": [
       "<div>\n",
       "<style scoped>\n",
       "    .dataframe tbody tr th:only-of-type {\n",
       "        vertical-align: middle;\n",
       "    }\n",
       "\n",
       "    .dataframe tbody tr th {\n",
       "        vertical-align: top;\n",
       "    }\n",
       "\n",
       "    .dataframe thead th {\n",
       "        text-align: right;\n",
       "    }\n",
       "</style>\n",
       "<table border=\"1\" class=\"dataframe\">\n",
       "  <thead>\n",
       "    <tr style=\"text-align: right;\">\n",
       "      <th></th>\n",
       "      <th>id</th>\n",
       "      <th>time_to_under</th>\n",
       "      <th>label</th>\n",
       "    </tr>\n",
       "  </thead>\n",
       "  <tbody>\n",
       "    <tr>\n",
       "      <td>0</td>\n",
       "      <td>1091022</td>\n",
       "      <td>448.461948</td>\n",
       "      <td>9015</td>\n",
       "    </tr>\n",
       "    <tr>\n",
       "      <td>1</td>\n",
       "      <td>1091023</td>\n",
       "      <td>445.436170</td>\n",
       "      <td>9015</td>\n",
       "    </tr>\n",
       "    <tr>\n",
       "      <td>2</td>\n",
       "      <td>1091024</td>\n",
       "      <td>430.422481</td>\n",
       "      <td>9015</td>\n",
       "    </tr>\n",
       "    <tr>\n",
       "      <td>3</td>\n",
       "      <td>1091025</td>\n",
       "      <td>448.329444</td>\n",
       "      <td>9015</td>\n",
       "    </tr>\n",
       "    <tr>\n",
       "      <td>4</td>\n",
       "      <td>1091026</td>\n",
       "      <td>448.460924</td>\n",
       "      <td>9015</td>\n",
       "    </tr>\n",
       "  </tbody>\n",
       "</table>\n",
       "</div>"
      ],
      "text/plain": [
       "        id  time_to_under  label\n",
       "0  1091022     448.461948   9015\n",
       "1  1091023     445.436170   9015\n",
       "2  1091024     430.422481   9015\n",
       "3  1091025     448.329444   9015\n",
       "4  1091026     448.460924   9015"
      ]
     },
     "execution_count": 25,
     "metadata": {},
     "output_type": "execute_result"
    }
   ],
   "source": [
    "# submit_df = pd.DataFrame([valid.id, pred_reg, pred_class], columns=['id', 'time_to_under', 'label'])\n",
    "submit_df = pd.DataFrame(columns=['id', 'time_to_under', 'label'], index=None)\n",
    "# submit_df.set_index('id', inplace=True)\n",
    "\n",
    "submit_df['id'] = valid['id']\n",
    "submit_df['time_to_under'] = pred_reg\n",
    "submit_df['label'] = pred_class\n",
    "\n",
    "submit_df.to_csv('submit.csv', index=False)\n",
    "\n",
    "submit_df.head()\n",
    "\n"
   ]
  },
  {
   "cell_type": "code",
   "execution_count": null,
   "metadata": {},
   "outputs": [],
   "source": []
  }
 ],
 "metadata": {
  "colab": {
   "provenance": []
  },
  "kernelspec": {
   "display_name": "Python 3",
   "language": "python",
   "name": "python3"
  },
  "language_info": {
   "codemirror_mode": {
    "name": "ipython",
    "version": 3
   },
   "file_extension": ".py",
   "mimetype": "text/x-python",
   "name": "python",
   "nbconvert_exporter": "python",
   "pygments_lexer": "ipython3",
   "version": "3.7.4"
  },
  "toc": {
   "base_numbering": 1,
   "nav_menu": {},
   "number_sections": true,
   "sideBar": true,
   "skip_h1_title": false,
   "title_cell": "Table of Contents",
   "title_sidebar": "Contents",
   "toc_cell": false,
   "toc_position": {},
   "toc_section_display": true,
   "toc_window_display": true
  },
  "varInspector": {
   "cols": {
    "lenName": 16,
    "lenType": 16,
    "lenVar": 40
   },
   "kernels_config": {
    "python": {
     "delete_cmd_postfix": "",
     "delete_cmd_prefix": "del ",
     "library": "var_list.py",
     "varRefreshCmd": "print(var_dic_list())"
    },
    "r": {
     "delete_cmd_postfix": ") ",
     "delete_cmd_prefix": "rm(",
     "library": "var_list.r",
     "varRefreshCmd": "cat(var_dic_list()) "
    }
   },
   "position": {
    "height": "671.85px",
    "left": "2042px",
    "right": "20px",
    "top": "110px",
    "width": "499px"
   },
   "types_to_exclude": [
    "module",
    "function",
    "builtin_function_or_method",
    "instance",
    "_Feature"
   ],
   "window_display": true
  }
 },
 "nbformat": 4,
 "nbformat_minor": 1
}
