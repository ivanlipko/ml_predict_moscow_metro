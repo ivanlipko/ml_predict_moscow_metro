{
 "cells": [
  {
   "cell_type": "markdown",
   "metadata": {
    "id": "fnE1_J-4dhSR"
   },
   "source": [
    "## Загрузим нужные библиотеки"
   ]
  },
  {
   "cell_type": "code",
   "execution_count": 52,
   "metadata": {
    "id": "uaKzqUxsdjDa"
   },
   "outputs": [],
   "source": [
    "import pandas as pd\n",
    "import seaborn as sns\n",
    "import matplotlib.pyplot as plt\n",
    "from sklearn.model_selection import train_test_split\n",
    "from sklearn.ensemble import RandomForestClassifier, RandomForestRegressor\n",
    "\n",
    "%matplotlib inline\n",
    "\n",
    "\n",
    "from sklearn.model_selection import learning_curve\n",
    "\n",
    "def plot_learning_curve(estimator, title, X, y, scoring=None, ylim=None, cv=None,\n",
    "                        n_jobs=None, train_sizes=np.linspace(.1, 1.0, 5)):\n",
    "    \"\"\"\n",
    "    Generate a simple plot of the test and training learning curve.\n",
    "\n",
    "    Parameters\n",
    "    ----------\n",
    "    estimator : object type that implements the \"fit\" and \"predict\" methods\n",
    "        An object of that type which is cloned for each validation.\n",
    "\n",
    "    title : string\n",
    "        Title for the chart.\n",
    "\n",
    "    X : array-like, shape (n_samples, n_features)\n",
    "        Training vector, where n_samples is the number of samples and\n",
    "        n_features is the number of features.\n",
    "\n",
    "    y : array-like, shape (n_samples) or (n_samples, n_features), optional\n",
    "        Target relative to X for classification or regression;\n",
    "        None for unsupervised learning.\n",
    "\n",
    "    ylim : tuple, shape (ymin, ymax), optional\n",
    "        Defines minimum and maximum yvalues plotted.\n",
    "\n",
    "    cv : int, cross-validation generator or an iterable, optional\n",
    "        Determines the cross-validation splitting strategy.\n",
    "        Possible inputs for cv are:\n",
    "          - None, to use the default 3-fold cross-validation,\n",
    "          - integer, to specify the number of folds.\n",
    "          - :term:`CV splitter`,\n",
    "          - An iterable yielding (train, test) splits as arrays of indices.\n",
    "\n",
    "        For integer/None inputs, if ``y`` is binary or multiclass,\n",
    "        :class:`StratifiedKFold` used. If the estimator is not a classifier\n",
    "        or if ``y`` is neither binary nor multiclass, :class:`KFold` is used.\n",
    "\n",
    "        Refer :ref:`User Guide <cross_validation>` for the various\n",
    "        cross-validators that can be used here.\n",
    "\n",
    "    n_jobs : int or None, optional (default=None)\n",
    "        Number of jobs to run in parallel.\n",
    "        ``None`` means 1 unless in a :obj:`joblib.parallel_backend` context.\n",
    "        ``-1`` means using all processors. See :term:`Glossary <n_jobs>`\n",
    "        for more details.\n",
    "\n",
    "    train_sizes : array-like, shape (n_ticks,), dtype float or int\n",
    "        Relative or absolute numbers of training examples that will be used to\n",
    "        generate the learning curve. If the dtype is float, it is regarded as a\n",
    "        fraction of the maximum size of the training set (that is determined\n",
    "        by the selected validation method), i.e. it has to be within (0, 1].\n",
    "        Otherwise it is interpreted as absolute sizes of the training sets.\n",
    "        Note that for classification the number of samples usually have to\n",
    "        be big enough to contain at least one sample from each class.\n",
    "        (default: np.linspace(0.1, 1.0, 5))\n",
    "    \"\"\"\n",
    "    plt.figure()\n",
    "    plt.title(title)\n",
    "    if ylim is not None:\n",
    "        plt.ylim(*ylim)\n",
    "    plt.xlabel(\"Training examples\")\n",
    "    plt.ylabel(\"Score\")\n",
    "    train_sizes, train_scores, test_scores = learning_curve(\n",
    "        estimator, X, y, cv=cv, n_jobs=n_jobs, train_sizes=train_sizes, scoring=scoring)\n",
    "    train_scores_mean = np.mean(train_scores, axis=1)\n",
    "    train_scores_std = np.std(train_scores, axis=1)\n",
    "    test_scores_mean = np.mean(test_scores, axis=1)\n",
    "    test_scores_std = np.std(test_scores, axis=1)\n",
    "    plt.grid()\n",
    "\n",
    "    plt.fill_between(train_sizes, train_scores_mean - train_scores_std,\n",
    "                     train_scores_mean + train_scores_std, alpha=0.1,\n",
    "                     color=\"r\")\n",
    "    plt.fill_between(train_sizes, test_scores_mean - test_scores_std,\n",
    "                     test_scores_mean + test_scores_std, alpha=0.1, color=\"g\")\n",
    "    plt.plot(train_sizes, train_scores_mean, 'o-', color=\"r\",\n",
    "             label=\"Training score\")\n",
    "    plt.plot(train_sizes, test_scores_mean, 'o-', color=\"g\",\n",
    "             label=\"Cross-validation score\")\n",
    "\n",
    "    plt.legend(loc=\"best\")\n",
    "    return plt\n",
    "\n",
    "\n",
    "# plot_learning_curve(clf, '--', X.values, y['label'].values, cv=3, n_jobs=-1, scoring='recall_macro')\n",
    "\n"
   ]
  },
  {
   "cell_type": "markdown",
   "metadata": {},
   "source": [
    "##  подгрузка данных"
   ]
  },
  {
   "cell_type": "code",
   "execution_count": 125,
   "metadata": {
    "id": "2scLoULoXkT0"
   },
   "outputs": [],
   "source": [
    "# df = pd.read_csv(\"./train_dataset_train.csv\", nrows = 100000)\n",
    "df = pd.read_csv(\"./train_dataset_train.csv\")"
   ]
  },
  {
   "cell_type": "code",
   "execution_count": 126,
   "metadata": {},
   "outputs": [],
   "source": [
    "def modifydata(df, val = None):\n",
    "#     id not a feature. Test and train имеют разные Идшники, поэтому там ерунду будет прогнозить\n",
    "    id_col = df['id'].copy()\n",
    "    df = df.drop(\"id\", axis=1)\n",
    "\n",
    "    \n",
    "#     Сделаем категорию **\"ticket_type_nm\"** ранговой \n",
    "    df[\"ticket_type_nm\"] = pd.Categorical(df[\"ticket_type_nm\"])\n",
    "    df[\"ticket_type_nm\"].astype('category').cat.codes\n",
    "    df[\"ticket_type_nm\"] = df[\"ticket_type_nm\"].cat.codes\n",
    "    \n",
    "#     Видоизменим категорию \"pass_dttm\"\n",
    "    df[\"day\"] = df.pass_dttm.map(lambda x: int(x.split(\"-\")[2].split(\" \")[0]))\n",
    "    df[\"hours\"] = df.pass_dttm.map(lambda x: int(x.split(\"-\")[2].split(\" \")[1].split(\":\")[0]))\n",
    "\n",
    "#     Меняем типы, чтобы уменьшить объём занимаемой памяти:\n",
    "    df['hours'] = df['hours'].astype('int8')\n",
    "    df['day'] = df['day'].astype('int8')\n",
    "    df['line_id'] = df['line_id'].astype('int8')\n",
    "    df['ticket_type_nm'] = df['ticket_type_nm'].astype('int8')\n",
    "    df['entrance_id'] = df['entrance_id'].astype('int16')\n",
    "    df['entrance_id'] = df['entrance_id'].astype('int16')\n",
    "\n",
    "    df['time'] = pd.to_datetime(df['pass_dttm'])\n",
    "    df['time_isweekend'] = (df['time'].dt.dayofweek // 5 == 1).astype('int8')\n",
    "    df['time_dayofweek'] = df['time'].dt.dayofweek.astype('int8')\n",
    "\n",
    "#     df = df[df[\"time_to_under\"] < 900]   # для классификации надо чтобы были все данные. Для регрессии не важно\n",
    "\n",
    "    if 'label' in df.columns:\n",
    "# классы, которые полохо класифицируются\n",
    "#     bad_classes = [1002, 1004, 1006, 1007, 1012, 1013, 1017, 1020, 1021, 1023, 1025, 2002, 2009, 2012, 2015, 2016, 2017, 2022, 2024, 3004, 3005, 3006, 3007, 3008, 3009, 3013, 3014, 3016, 3019, 4001, 4002, 4006, 4008, 4009, 4011, 4012, 5002, 5006, 5012, 6005, 6012, 6013, 6014, 6015, 6017, 6019, 6022, 6024, 7007, 7010, 7013, 7014, 7016, 7018, 7019, 8002, 8004, 8006, 8008, 9001, 9002, 9003, 9004, 9011, 9017, 9019, 9021, 9023, 9025, 10001, 10004, 10005, 10006, 10008, 10010, 10013, 10014, 10015, 10019, 10021, 10023, 11006, 11011, 11012, 11013, 11016, 12001, 12003, 12005, 13002, 13003, 13004, 13005, 13006, 14001, 14002, 14004, 14006, 14008, 14013, 14017, 14023, 14026, 14031, 15001, 15004, 15007, 81003, 81004, 81012]\n",
    "        temp = df[\"label\"].value_counts() < val # 1000\n",
    "        bad_classes = temp.index[temp.values]\n",
    "\n",
    "        is_bad_classes = df['label'].isin(bad_classes)\n",
    "        df_bad_classes = df.drop( df[ ~is_bad_classes].index)\n",
    "        df_good_classes = df.drop( df[is_bad_classes].index)\n",
    "\n",
    "\n",
    "        df_bad_classes = df.drop( df[ ~ is_bad_classes].index)\n",
    "\n",
    "        return df, df_bad_classes, df_good_classes, id_col\n",
    "    \n",
    "    else:\n",
    "        return df, id_col\n",
    "    \n",
    "    "
   ]
  },
  {
   "cell_type": "code",
   "execution_count": 127,
   "metadata": {
    "scrolled": true
   },
   "outputs": [
    {
     "name": "stdout",
     "output_type": "stream",
     "text": [
      "(0, 16) (1091021, 16) (1091021, 16)\n"
     ]
    }
   ],
   "source": [
    "df, df_bad_classes, df_good_classes, id_col = modifydata(df, None)\n",
    "\n",
    "print(df_bad_classes.shape, df_good_classes.shape, df.shape)"
   ]
  },
  {
   "cell_type": "markdown",
   "metadata": {
    "id": "WcxAsO_Md05t"
   },
   "source": [
    "## Рассмотрим датасет по ближе"
   ]
  },
  {
   "cell_type": "code",
   "execution_count": 89,
   "metadata": {
    "colab": {
     "base_uri": "https://localhost:8080/",
     "height": 260
    },
    "id": "I16XfuOpXwIy",
    "outputId": "f39e62c8-ddc7-4337-9c83-023543ef5da8"
   },
   "outputs": [
    {
     "data": {
      "text/html": [
       "<div>\n",
       "<style scoped>\n",
       "    .dataframe tbody tr th:only-of-type {\n",
       "        vertical-align: middle;\n",
       "    }\n",
       "\n",
       "    .dataframe tbody tr th {\n",
       "        vertical-align: top;\n",
       "    }\n",
       "\n",
       "    .dataframe thead th {\n",
       "        text-align: right;\n",
       "    }\n",
       "</style>\n",
       "<table border=\"1\" class=\"dataframe\">\n",
       "  <thead>\n",
       "    <tr style=\"text-align: right;\">\n",
       "      <th></th>\n",
       "      <th>ticket_id</th>\n",
       "      <th>ticket_type_nm</th>\n",
       "      <th>entrance_id</th>\n",
       "      <th>entrance_nm</th>\n",
       "      <th>station_id</th>\n",
       "      <th>station_nm</th>\n",
       "      <th>line_id</th>\n",
       "      <th>line_nm</th>\n",
       "      <th>pass_dttm</th>\n",
       "      <th>time_to_under</th>\n",
       "      <th>label</th>\n",
       "      <th>day</th>\n",
       "      <th>hours</th>\n",
       "      <th>time</th>\n",
       "      <th>time_isweekend</th>\n",
       "      <th>time_dayofweek</th>\n",
       "    </tr>\n",
       "  </thead>\n",
       "  <tbody>\n",
       "    <tr>\n",
       "      <th>0</th>\n",
       "      <td>40BD89EC85646EFB69E283F39C298E60</td>\n",
       "      <td>40</td>\n",
       "      <td>2402</td>\n",
       "      <td>Лефортово БКЛ</td>\n",
       "      <td>11007</td>\n",
       "      <td>Лефортово</td>\n",
       "      <td>11</td>\n",
       "      <td>Большая кольцевая</td>\n",
       "      <td>2022-09-12 05:00:13</td>\n",
       "      <td>216.316667</td>\n",
       "      <td>8001</td>\n",
       "      <td>12</td>\n",
       "      <td>5</td>\n",
       "      <td>2022-09-12 05:00:13</td>\n",
       "      <td>0</td>\n",
       "      <td>0</td>\n",
       "    </tr>\n",
       "    <tr>\n",
       "      <th>1</th>\n",
       "      <td>126727A96489CC976A8C08E5CEB00542</td>\n",
       "      <td>53</td>\n",
       "      <td>110</td>\n",
       "      <td>Войковская ( Южный )</td>\n",
       "      <td>2006</td>\n",
       "      <td>Войковская</td>\n",
       "      <td>2</td>\n",
       "      <td>Замоскворецкая</td>\n",
       "      <td>2022-09-12 05:00:54</td>\n",
       "      <td>648.183333</td>\n",
       "      <td>9011</td>\n",
       "      <td>12</td>\n",
       "      <td>5</td>\n",
       "      <td>2022-09-12 05:00:54</td>\n",
       "      <td>0</td>\n",
       "      <td>0</td>\n",
       "    </tr>\n",
       "    <tr>\n",
       "      <th>2</th>\n",
       "      <td>D28CE6A9E0E5B6D213470A97CFF32485</td>\n",
       "      <td>26</td>\n",
       "      <td>110</td>\n",
       "      <td>Войковская ( Южный )</td>\n",
       "      <td>2006</td>\n",
       "      <td>Войковская</td>\n",
       "      <td>2</td>\n",
       "      <td>Замоскворецкая</td>\n",
       "      <td>2022-09-12 05:00:55</td>\n",
       "      <td>865.333333</td>\n",
       "      <td>7022</td>\n",
       "      <td>12</td>\n",
       "      <td>5</td>\n",
       "      <td>2022-09-12 05:00:55</td>\n",
       "      <td>0</td>\n",
       "      <td>0</td>\n",
       "    </tr>\n",
       "  </tbody>\n",
       "</table>\n",
       "</div>"
      ],
      "text/plain": [
       "                          ticket_id  ticket_type_nm  entrance_id  \\\n",
       "0  40BD89EC85646EFB69E283F39C298E60              40         2402   \n",
       "1  126727A96489CC976A8C08E5CEB00542              53          110   \n",
       "2  D28CE6A9E0E5B6D213470A97CFF32485              26          110   \n",
       "\n",
       "            entrance_nm  station_id  station_nm  line_id            line_nm  \\\n",
       "0         Лефортово БКЛ       11007   Лефортово       11  Большая кольцевая   \n",
       "1  Войковская ( Южный )        2006  Войковская        2     Замоскворецкая   \n",
       "2  Войковская ( Южный )        2006  Войковская        2     Замоскворецкая   \n",
       "\n",
       "             pass_dttm  time_to_under  label  day  hours                time  \\\n",
       "0  2022-09-12 05:00:13     216.316667   8001   12      5 2022-09-12 05:00:13   \n",
       "1  2022-09-12 05:00:54     648.183333   9011   12      5 2022-09-12 05:00:54   \n",
       "2  2022-09-12 05:00:55     865.333333   7022   12      5 2022-09-12 05:00:55   \n",
       "\n",
       "   time_isweekend  time_dayofweek  \n",
       "0               0               0  \n",
       "1               0               0  \n",
       "2               0               0  "
      ]
     },
     "execution_count": 89,
     "metadata": {},
     "output_type": "execute_result"
    }
   ],
   "source": [
    "df.head(3)"
   ]
  },
  {
   "cell_type": "code",
   "execution_count": 6,
   "metadata": {
    "colab": {
     "base_uri": "https://localhost:8080/"
    },
    "id": "czcOBmDFduKQ",
    "outputId": "49609192-d4dc-485f-e171-b6cc9096baaa",
    "scrolled": false
   },
   "outputs": [
    {
     "name": "stdout",
     "output_type": "stream",
     "text": [
      "<class 'pandas.core.frame.DataFrame'>\n",
      "Int64Index: 1074830 entries, 0 to 1091020\n",
      "Data columns (total 17 columns):\n",
      " #   Column          Non-Null Count    Dtype         \n",
      "---  ------          --------------    -----         \n",
      " 0   id              1074830 non-null  int64         \n",
      " 1   ticket_id       1074830 non-null  object        \n",
      " 2   ticket_type_nm  1074830 non-null  int8          \n",
      " 3   entrance_id     1074830 non-null  int16         \n",
      " 4   entrance_nm     1074830 non-null  object        \n",
      " 5   station_id      1074830 non-null  int64         \n",
      " 6   station_nm      1074830 non-null  object        \n",
      " 7   line_id         1074830 non-null  int8          \n",
      " 8   line_nm         1074830 non-null  object        \n",
      " 9   pass_dttm       1074830 non-null  object        \n",
      " 10  time_to_under   1074830 non-null  float64       \n",
      " 11  label           1074830 non-null  int64         \n",
      " 12  day             1074830 non-null  int8          \n",
      " 13  hours           1074830 non-null  int8          \n",
      " 14  time            1074830 non-null  datetime64[ns]\n",
      " 15  time_isweekend  1074830 non-null  int8          \n",
      " 16  time_dayofweek  1074830 non-null  int8          \n",
      "dtypes: datetime64[ns](1), float64(1), int16(1), int64(3), int8(6), object(5)\n",
      "memory usage: 98.4+ MB\n"
     ]
    }
   ],
   "source": [
    "df.info()"
   ]
  },
  {
   "cell_type": "code",
   "execution_count": 7,
   "metadata": {},
   "outputs": [
    {
     "data": {
      "text/html": [
       "<div>\n",
       "<style scoped>\n",
       "    .dataframe tbody tr th:only-of-type {\n",
       "        vertical-align: middle;\n",
       "    }\n",
       "\n",
       "    .dataframe tbody tr th {\n",
       "        vertical-align: top;\n",
       "    }\n",
       "\n",
       "    .dataframe thead th {\n",
       "        text-align: right;\n",
       "    }\n",
       "</style>\n",
       "<table border=\"1\" class=\"dataframe\">\n",
       "  <thead>\n",
       "    <tr style=\"text-align: right;\">\n",
       "      <th></th>\n",
       "      <th>id</th>\n",
       "      <th>ticket_type_nm</th>\n",
       "      <th>entrance_id</th>\n",
       "      <th>station_id</th>\n",
       "      <th>line_id</th>\n",
       "      <th>time_to_under</th>\n",
       "      <th>label</th>\n",
       "      <th>day</th>\n",
       "      <th>hours</th>\n",
       "      <th>time_isweekend</th>\n",
       "      <th>time_dayofweek</th>\n",
       "    </tr>\n",
       "  </thead>\n",
       "  <tbody>\n",
       "    <tr>\n",
       "      <th>count</th>\n",
       "      <td>1.074830e+06</td>\n",
       "      <td>1.074830e+06</td>\n",
       "      <td>1.074830e+06</td>\n",
       "      <td>1.074830e+06</td>\n",
       "      <td>1.074830e+06</td>\n",
       "      <td>1.074830e+06</td>\n",
       "      <td>1.074830e+06</td>\n",
       "      <td>1.074830e+06</td>\n",
       "      <td>1.074830e+06</td>\n",
       "      <td>1.074830e+06</td>\n",
       "      <td>1.074830e+06</td>\n",
       "    </tr>\n",
       "    <tr>\n",
       "      <th>mean</th>\n",
       "      <td>5.459673e+05</td>\n",
       "      <td>2.580051e+01</td>\n",
       "      <td>8.596997e+02</td>\n",
       "      <td>8.602768e+03</td>\n",
       "      <td>8.591321e+00</td>\n",
       "      <td>5.033546e+02</td>\n",
       "      <td>7.722615e+03</td>\n",
       "      <td>1.479729e+01</td>\n",
       "      <td>9.361641e+00</td>\n",
       "      <td>2.350604e-01</td>\n",
       "      <td>2.795979e+00</td>\n",
       "    </tr>\n",
       "    <tr>\n",
       "      <th>std</th>\n",
       "      <td>3.150992e+05</td>\n",
       "      <td>1.951754e+01</td>\n",
       "      <td>9.009391e+02</td>\n",
       "      <td>1.247817e+04</td>\n",
       "      <td>1.247842e+01</td>\n",
       "      <td>2.268707e+02</td>\n",
       "      <td>1.167184e+04</td>\n",
       "      <td>1.942422e+00</td>\n",
       "      <td>3.360137e+00</td>\n",
       "      <td>4.240368e-01</td>\n",
       "      <td>1.941946e+00</td>\n",
       "    </tr>\n",
       "    <tr>\n",
       "      <th>min</th>\n",
       "      <td>1.000000e+00</td>\n",
       "      <td>0.000000e+00</td>\n",
       "      <td>2.000000e+01</td>\n",
       "      <td>1.002000e+03</td>\n",
       "      <td>1.000000e+00</td>\n",
       "      <td>3.001667e+01</td>\n",
       "      <td>1.002000e+03</td>\n",
       "      <td>1.200000e+01</td>\n",
       "      <td>0.000000e+00</td>\n",
       "      <td>0.000000e+00</td>\n",
       "      <td>0.000000e+00</td>\n",
       "    </tr>\n",
       "    <tr>\n",
       "      <th>25%</th>\n",
       "      <td>2.727602e+05</td>\n",
       "      <td>5.000000e+00</td>\n",
       "      <td>2.150000e+02</td>\n",
       "      <td>3.017000e+03</td>\n",
       "      <td>3.000000e+00</td>\n",
       "      <td>3.179500e+02</td>\n",
       "      <td>3.006000e+03</td>\n",
       "      <td>1.300000e+01</td>\n",
       "      <td>7.000000e+00</td>\n",
       "      <td>0.000000e+00</td>\n",
       "      <td>1.000000e+00</td>\n",
       "    </tr>\n",
       "    <tr>\n",
       "      <th>50%</th>\n",
       "      <td>5.464905e+05</td>\n",
       "      <td>1.900000e+01</td>\n",
       "      <td>3.390000e+02</td>\n",
       "      <td>7.009000e+03</td>\n",
       "      <td>7.000000e+00</td>\n",
       "      <td>5.645500e+02</td>\n",
       "      <td>6.013000e+03</td>\n",
       "      <td>1.500000e+01</td>\n",
       "      <td>8.000000e+00</td>\n",
       "      <td>0.000000e+00</td>\n",
       "      <td>3.000000e+00</td>\n",
       "    </tr>\n",
       "    <tr>\n",
       "      <th>75%</th>\n",
       "      <td>8.181888e+05</td>\n",
       "      <td>3.800000e+01</td>\n",
       "      <td>2.087000e+03</td>\n",
       "      <td>9.022000e+03</td>\n",
       "      <td>9.000000e+00</td>\n",
       "      <td>6.771667e+02</td>\n",
       "      <td>9.012000e+03</td>\n",
       "      <td>1.600000e+01</td>\n",
       "      <td>1.100000e+01</td>\n",
       "      <td>0.000000e+00</td>\n",
       "      <td>4.000000e+00</td>\n",
       "    </tr>\n",
       "    <tr>\n",
       "      <th>max</th>\n",
       "      <td>1.091021e+06</td>\n",
       "      <td>5.900000e+01</td>\n",
       "      <td>2.466000e+03</td>\n",
       "      <td>8.101600e+04</td>\n",
       "      <td>8.100000e+01</td>\n",
       "      <td>8.999833e+02</td>\n",
       "      <td>8.101600e+04</td>\n",
       "      <td>1.900000e+01</td>\n",
       "      <td>2.300000e+01</td>\n",
       "      <td>1.000000e+00</td>\n",
       "      <td>6.000000e+00</td>\n",
       "    </tr>\n",
       "  </tbody>\n",
       "</table>\n",
       "</div>"
      ],
      "text/plain": [
       "                 id  ticket_type_nm   entrance_id    station_id       line_id  \\\n",
       "count  1.074830e+06    1.074830e+06  1.074830e+06  1.074830e+06  1.074830e+06   \n",
       "mean   5.459673e+05    2.580051e+01  8.596997e+02  8.602768e+03  8.591321e+00   \n",
       "std    3.150992e+05    1.951754e+01  9.009391e+02  1.247817e+04  1.247842e+01   \n",
       "min    1.000000e+00    0.000000e+00  2.000000e+01  1.002000e+03  1.000000e+00   \n",
       "25%    2.727602e+05    5.000000e+00  2.150000e+02  3.017000e+03  3.000000e+00   \n",
       "50%    5.464905e+05    1.900000e+01  3.390000e+02  7.009000e+03  7.000000e+00   \n",
       "75%    8.181888e+05    3.800000e+01  2.087000e+03  9.022000e+03  9.000000e+00   \n",
       "max    1.091021e+06    5.900000e+01  2.466000e+03  8.101600e+04  8.100000e+01   \n",
       "\n",
       "       time_to_under         label           day         hours  \\\n",
       "count   1.074830e+06  1.074830e+06  1.074830e+06  1.074830e+06   \n",
       "mean    5.033546e+02  7.722615e+03  1.479729e+01  9.361641e+00   \n",
       "std     2.268707e+02  1.167184e+04  1.942422e+00  3.360137e+00   \n",
       "min     3.001667e+01  1.002000e+03  1.200000e+01  0.000000e+00   \n",
       "25%     3.179500e+02  3.006000e+03  1.300000e+01  7.000000e+00   \n",
       "50%     5.645500e+02  6.013000e+03  1.500000e+01  8.000000e+00   \n",
       "75%     6.771667e+02  9.012000e+03  1.600000e+01  1.100000e+01   \n",
       "max     8.999833e+02  8.101600e+04  1.900000e+01  2.300000e+01   \n",
       "\n",
       "       time_isweekend  time_dayofweek  \n",
       "count    1.074830e+06    1.074830e+06  \n",
       "mean     2.350604e-01    2.795979e+00  \n",
       "std      4.240368e-01    1.941946e+00  \n",
       "min      0.000000e+00    0.000000e+00  \n",
       "25%      0.000000e+00    1.000000e+00  \n",
       "50%      0.000000e+00    3.000000e+00  \n",
       "75%      0.000000e+00    4.000000e+00  \n",
       "max      1.000000e+00    6.000000e+00  "
      ]
     },
     "execution_count": 7,
     "metadata": {},
     "output_type": "execute_result"
    }
   ],
   "source": [
    "df.describe()"
   ]
  },
  {
   "cell_type": "code",
   "execution_count": 69,
   "metadata": {
    "colab": {
     "base_uri": "https://localhost:8080/",
     "height": 283
    },
    "id": "5YyJ2DkxNaZl",
    "outputId": "260535c7-e60d-441a-b29d-b6e71f2ea007"
   },
   "outputs": [
    {
     "data": {
      "text/plain": [
       "<AxesSubplot:>"
      ]
     },
     "execution_count": 69,
     "metadata": {},
     "output_type": "execute_result"
    },
    {
     "data": {
      "image/png": "[encoded data removed]",
      "text/plain": [
       "<Figure size 432x288 with 1 Axes>"
      ]
     },
     "metadata": {
      "needs_background": "light"
     },
     "output_type": "display_data"
    }
   ],
   "source": [
    "df[\"time_to_under\"].hist(bins = 100)"
   ]
  },
  {
   "cell_type": "markdown",
   "metadata": {
    "id": "QTOLeRlMerAm"
   },
   "source": [
    "### **\"ticket_type_nm\"** \n"
   ]
  },
  {
   "cell_type": "code",
   "execution_count": 13,
   "metadata": {
    "colab": {
     "base_uri": "https://localhost:8080/"
    },
    "id": "Ydb_kzQlOfCP",
    "outputId": "5bd0c97e-b38e-40ba-dba7-c0a27a6468e1",
    "scrolled": true
   },
   "outputs": [
    {
     "data": {
      "text/plain": [
       "38    258626\n",
       "5     173197\n",
       "57    125905\n",
       "3     114987\n",
       "19     57185\n",
       "10     48340\n",
       "16     46096\n",
       "6      44197\n",
       "51     39033\n",
       "25     29256\n",
       "11     24166\n",
       "14     20548\n",
       "53     16793\n",
       "55     15439\n",
       "17     12663\n",
       "40      8851\n",
       "52      6691\n",
       "54      3148\n",
       "4       3062\n",
       "26      2793\n",
       "48      2572\n",
       "35      2532\n",
       "23      2522\n",
       "58      2261\n",
       "20      2215\n",
       "24      1543\n",
       "9       1249\n",
       "15      1159\n",
       "49      1143\n",
       "7       1033\n",
       "44       865\n",
       "12       765\n",
       "43       533\n",
       "45       506\n",
       "2        497\n",
       "50       353\n",
       "30       335\n",
       "56       243\n",
       "59       229\n",
       "18       182\n",
       "37       159\n",
       "22       141\n",
       "0        122\n",
       "29       110\n",
       "42       108\n",
       "21        92\n",
       "31        61\n",
       "27        60\n",
       "34        56\n",
       "8         49\n",
       "39        44\n",
       "46        33\n",
       "13        29\n",
       "41        24\n",
       "47        10\n",
       "1          7\n",
       "36         6\n",
       "32         2\n",
       "33         2\n",
       "28         2\n",
       "Name: ticket_type_nm, dtype: int64"
      ]
     },
     "execution_count": 13,
     "metadata": {},
     "output_type": "execute_result"
    }
   ],
   "source": [
    "df[\"ticket_type_nm\"].value_counts()"
   ]
  },
  {
   "cell_type": "code",
   "execution_count": 14,
   "metadata": {
    "colab": {
     "base_uri": "https://localhost:8080/",
     "height": 516
    },
    "id": "F03Pcva-fEVi",
    "outputId": "23aef922-9ed4-4f10-d8e3-640c51b830b5"
   },
   "outputs": [
    {
     "data": {
      "text/plain": [
       "<AxesSubplot:xlabel='ticket_type_nm', ylabel='count'>"
      ]
     },
     "execution_count": 14,
     "metadata": {},
     "output_type": "execute_result"
    },
    {
     "data": {
      "image/png": "[encoded data removed]",
      "text/plain": [
       "<Figure size 1080x576 with 1 Axes>"
      ]
     },
     "metadata": {
      "needs_background": "light"
     },
     "output_type": "display_data"
    }
   ],
   "source": [
    "plt.figure(figsize=(15,8))\n",
    "sns.countplot(x = \"ticket_type_nm\" , data  = df)  "
   ]
  },
  {
   "cell_type": "markdown",
   "metadata": {
    "id": "9treu6dEfnd6"
   },
   "source": [
    "Кажется нет четкой зависимости между категорией билета и временем между заходи на станцию"
   ]
  },
  {
   "cell_type": "code",
   "execution_count": 15,
   "metadata": {
    "colab": {
     "base_uri": "https://localhost:8080/",
     "height": 459
    },
    "id": "OH-8nXJ5fJAX",
    "outputId": "55f5ec51-ba31-445b-8934-2cdb6bfc706e"
   },
   "outputs": [
    {
     "data": {
      "text/plain": [
       "<seaborn.axisgrid.JointGrid at 0x26b5c77a3c8>"
      ]
     },
     "execution_count": 15,
     "metadata": {},
     "output_type": "execute_result"
    },
    {
     "data": {
      "image/png": "[encoded data removed]",
      "text/plain": [
       "<Figure size 432x432 with 3 Axes>"
      ]
     },
     "metadata": {
      "needs_background": "light"
     },
     "output_type": "display_data"
    }
   ],
   "source": [
    "sns.jointplot(x = \"ticket_type_nm\", y = 'time_to_under', data = df, kind = 'reg')"
   ]
  },
  {
   "cell_type": "code",
   "execution_count": 16,
   "metadata": {},
   "outputs": [
    {
     "data": {
      "text/plain": [
       "<seaborn.axisgrid.JointGrid at 0x26b0001be48>"
      ]
     },
     "execution_count": 16,
     "metadata": {},
     "output_type": "execute_result"
    },
    {
     "data": {
      "image/png": "[encoded data removed]",
      "text/plain": [
       "<Figure size 432x432 with 3 Axes>"
      ]
     },
     "metadata": {
      "needs_background": "light"
     },
     "output_type": "display_data"
    }
   ],
   "source": [
    "sns.jointplot(x = \"ticket_type_nm\", y = 'label', data = df, kind = 'reg')"
   ]
  },
  {
   "cell_type": "code",
   "execution_count": 235,
   "metadata": {
    "colab": {
     "base_uri": "https://localhost:8080/",
     "height": 850
    },
    "id": "LQNuW50pgJYa",
    "outputId": "65403205-e8be-4e9a-d6d2-279c3c8c04f0"
   },
   "outputs": [
    {
     "data": {
      "image/png": "[encoded data removed]",
      "text/plain": [
       "<Figure size 576x576 with 2 Axes>"
      ]
     },
     "metadata": {
      "needs_background": "light"
     },
     "output_type": "display_data"
    }
   ],
   "source": [
    "plt.figure(figsize=(8,8))\n",
    "corr = df.corr()\n",
    "g = sns.heatmap(corr, square = True, annot=True)"
   ]
  },
  {
   "cell_type": "code",
   "execution_count": 236,
   "metadata": {},
   "outputs": [
    {
     "data": {
      "image/png": "[encoded data removed]",
      "text/plain": [
       "<Figure size 576x576 with 2 Axes>"
      ]
     },
     "metadata": {
      "needs_background": "light"
     },
     "output_type": "display_data"
    }
   ],
   "source": [
    "plt.figure(figsize=(8,8))\n",
    "corr = df_bad_classes.corr()\n",
    "g = sns.heatmap(corr, square = True, annot=True)"
   ]
  },
  {
   "cell_type": "markdown",
   "metadata": {},
   "source": [
    "# Classification"
   ]
  },
  {
   "cell_type": "markdown",
   "metadata": {
    "id": "IY5yf35yNVuR"
   },
   "source": [
    "Посмотрим на распределение двух основных величин "
   ]
  },
  {
   "cell_type": "code",
   "execution_count": 8,
   "metadata": {
    "colab": {
     "base_uri": "https://localhost:8080/",
     "height": 283
    },
    "id": "ccsstA-IdxOJ",
    "outputId": "ebe811b8-ceda-4cb7-bc70-8cb00301abad",
    "scrolled": false
   },
   "outputs": [
    {
     "data": {
      "text/plain": [
       "<AxesSubplot:>"
      ]
     },
     "execution_count": 8,
     "metadata": {},
     "output_type": "execute_result"
    },
    {
     "data": {
      "image/png": "[encoded data removed]",
      "text/plain": [
       "<Figure size 432x288 with 1 Axes>"
      ]
     },
     "metadata": {
      "needs_background": "light"
     },
     "output_type": "display_data"
    }
   ],
   "source": [
    "df[\"label\"].hist(bins = 100)"
   ]
  },
  {
   "cell_type": "markdown",
   "metadata": {
    "id": "s9fKKhV8edY_"
   },
   "source": [
    "Найдем наиболее популярную станцию и посмотрим инфо по ней:"
   ]
  },
  {
   "cell_type": "code",
   "execution_count": 11,
   "metadata": {
    "colab": {
     "base_uri": "https://localhost:8080/"
    },
    "id": "Gq6HjkgCeQSy",
    "outputId": "74ee990e-7edc-4d66-ef1b-7474d7f3301b"
   },
   "outputs": [
    {
     "data": {
      "text/plain": [
       "3002     17107\n",
       "6008     15405\n",
       "1022     13648\n",
       "5010     12992\n",
       "7022     12890\n",
       "         ...  \n",
       "13002       24\n",
       "13003       23\n",
       "13006       17\n",
       "13005       14\n",
       "13004        7\n",
       "Name: label, Length: 276, dtype: int64"
      ]
     },
     "execution_count": 11,
     "metadata": {},
     "output_type": "execute_result"
    }
   ],
   "source": [
    "df[\"label\"].value_counts()"
   ]
  },
  {
   "cell_type": "code",
   "execution_count": 12,
   "metadata": {
    "colab": {
     "base_uri": "https://localhost:8080/",
     "height": 357
    },
    "id": "HVyOBpgiNqPA",
    "outputId": "2dcd29b4-919e-4c77-c4a0-823cf068243b",
    "scrolled": true
   },
   "outputs": [
    {
     "data": {
      "text/html": [
       "<div>\n",
       "<style scoped>\n",
       "    .dataframe tbody tr th:only-of-type {\n",
       "        vertical-align: middle;\n",
       "    }\n",
       "\n",
       "    .dataframe tbody tr th {\n",
       "        vertical-align: top;\n",
       "    }\n",
       "\n",
       "    .dataframe thead th {\n",
       "        text-align: right;\n",
       "    }\n",
       "</style>\n",
       "<table border=\"1\" class=\"dataframe\">\n",
       "  <thead>\n",
       "    <tr style=\"text-align: right;\">\n",
       "      <th></th>\n",
       "      <th>id</th>\n",
       "      <th>ticket_id</th>\n",
       "      <th>ticket_type_nm</th>\n",
       "      <th>entrance_id</th>\n",
       "      <th>entrance_nm</th>\n",
       "      <th>station_id</th>\n",
       "      <th>station_nm</th>\n",
       "      <th>line_id</th>\n",
       "      <th>line_nm</th>\n",
       "      <th>pass_dttm</th>\n",
       "      <th>time_to_under</th>\n",
       "      <th>label</th>\n",
       "      <th>day</th>\n",
       "      <th>hours</th>\n",
       "      <th>time</th>\n",
       "      <th>time_isweekend</th>\n",
       "      <th>time_dayofweek</th>\n",
       "    </tr>\n",
       "  </thead>\n",
       "  <tbody>\n",
       "    <tr>\n",
       "      <th>64</th>\n",
       "      <td>65</td>\n",
       "      <td>8BE033F1D958FF1E53F97121D51DE779</td>\n",
       "      <td>3</td>\n",
       "      <td>218</td>\n",
       "      <td>Новогиреево (Восточный)</td>\n",
       "      <td>8003</td>\n",
       "      <td>Новогиреево</td>\n",
       "      <td>8</td>\n",
       "      <td>Калининская</td>\n",
       "      <td>2022-09-12 05:22:54</td>\n",
       "      <td>834.216667</td>\n",
       "      <td>6008</td>\n",
       "      <td>12</td>\n",
       "      <td>5</td>\n",
       "      <td>2022-09-12 05:22:54</td>\n",
       "      <td>0</td>\n",
       "      <td>0</td>\n",
       "    </tr>\n",
       "    <tr>\n",
       "      <th>181</th>\n",
       "      <td>182</td>\n",
       "      <td>B00FE04CA3D4F54DA324610741E5A7A0</td>\n",
       "      <td>57</td>\n",
       "      <td>242</td>\n",
       "      <td>Ботанический сад (Северный)</td>\n",
       "      <td>6005</td>\n",
       "      <td>Ботанический сад</td>\n",
       "      <td>6</td>\n",
       "      <td>Калужско-Рижская</td>\n",
       "      <td>2022-09-12 05:26:31</td>\n",
       "      <td>124.616667</td>\n",
       "      <td>6008</td>\n",
       "      <td>12</td>\n",
       "      <td>5</td>\n",
       "      <td>2022-09-12 05:26:31</td>\n",
       "      <td>0</td>\n",
       "      <td>0</td>\n",
       "    </tr>\n",
       "    <tr>\n",
       "      <th>626</th>\n",
       "      <td>627</td>\n",
       "      <td>54A042D2EF6DDFE9D444CCD8BB42AC0F</td>\n",
       "      <td>57</td>\n",
       "      <td>2214</td>\n",
       "      <td>Шелепиха (Первый)</td>\n",
       "      <td>11005</td>\n",
       "      <td>Шелепиха</td>\n",
       "      <td>11</td>\n",
       "      <td>Большая кольцевая</td>\n",
       "      <td>2022-09-12 05:31:39</td>\n",
       "      <td>561.316667</td>\n",
       "      <td>6008</td>\n",
       "      <td>12</td>\n",
       "      <td>5</td>\n",
       "      <td>2022-09-12 05:31:39</td>\n",
       "      <td>0</td>\n",
       "      <td>0</td>\n",
       "    </tr>\n",
       "    <tr>\n",
       "      <th>862</th>\n",
       "      <td>863</td>\n",
       "      <td>14D1E6C4EBE0D40CBA98C82C0D90B961</td>\n",
       "      <td>38</td>\n",
       "      <td>191</td>\n",
       "      <td>Белорусская К (Новый)</td>\n",
       "      <td>5001</td>\n",
       "      <td>Белорусская</td>\n",
       "      <td>5</td>\n",
       "      <td>Кольцевая</td>\n",
       "      <td>2022-09-12 05:34:32</td>\n",
       "      <td>828.916667</td>\n",
       "      <td>6008</td>\n",
       "      <td>12</td>\n",
       "      <td>5</td>\n",
       "      <td>2022-09-12 05:34:32</td>\n",
       "      <td>0</td>\n",
       "      <td>0</td>\n",
       "    </tr>\n",
       "    <tr>\n",
       "      <th>889</th>\n",
       "      <td>890</td>\n",
       "      <td>0023323A900115BD79BE15E76A676A61</td>\n",
       "      <td>57</td>\n",
       "      <td>303</td>\n",
       "      <td>Кузьминки (Восточный)</td>\n",
       "      <td>7009</td>\n",
       "      <td>Кузьминки</td>\n",
       "      <td>7</td>\n",
       "      <td>Таганско-Краснопресненская</td>\n",
       "      <td>2022-09-12 05:34:49</td>\n",
       "      <td>363.883333</td>\n",
       "      <td>6008</td>\n",
       "      <td>12</td>\n",
       "      <td>5</td>\n",
       "      <td>2022-09-12 05:34:49</td>\n",
       "      <td>0</td>\n",
       "      <td>0</td>\n",
       "    </tr>\n",
       "  </tbody>\n",
       "</table>\n",
       "</div>"
      ],
      "text/plain": [
       "      id                         ticket_id  ticket_type_nm  entrance_id  \\\n",
       "64    65  8BE033F1D958FF1E53F97121D51DE779               3          218   \n",
       "181  182  B00FE04CA3D4F54DA324610741E5A7A0              57          242   \n",
       "626  627  54A042D2EF6DDFE9D444CCD8BB42AC0F              57         2214   \n",
       "862  863  14D1E6C4EBE0D40CBA98C82C0D90B961              38          191   \n",
       "889  890  0023323A900115BD79BE15E76A676A61              57          303   \n",
       "\n",
       "                     entrance_nm  station_id        station_nm  line_id  \\\n",
       "64       Новогиреево (Восточный)        8003       Новогиреево        8   \n",
       "181  Ботанический сад (Северный)        6005  Ботанический сад        6   \n",
       "626            Шелепиха (Первый)       11005          Шелепиха       11   \n",
       "862        Белорусская К (Новый)        5001       Белорусская        5   \n",
       "889        Кузьминки (Восточный)        7009         Кузьминки        7   \n",
       "\n",
       "                        line_nm            pass_dttm  time_to_under  label  \\\n",
       "64                  Калининская  2022-09-12 05:22:54     834.216667   6008   \n",
       "181            Калужско-Рижская  2022-09-12 05:26:31     124.616667   6008   \n",
       "626           Большая кольцевая  2022-09-12 05:31:39     561.316667   6008   \n",
       "862                   Кольцевая  2022-09-12 05:34:32     828.916667   6008   \n",
       "889  Таганско-Краснопресненская  2022-09-12 05:34:49     363.883333   6008   \n",
       "\n",
       "     day  hours                time  time_isweekend  time_dayofweek  \n",
       "64    12      5 2022-09-12 05:22:54               0               0  \n",
       "181   12      5 2022-09-12 05:26:31               0               0  \n",
       "626   12      5 2022-09-12 05:31:39               0               0  \n",
       "862   12      5 2022-09-12 05:34:32               0               0  \n",
       "889   12      5 2022-09-12 05:34:49               0               0  "
      ]
     },
     "execution_count": 12,
     "metadata": {},
     "output_type": "execute_result"
    }
   ],
   "source": [
    "# df[\"label\"].value_counts().index[0]   # номер станции\n",
    "\n",
    "df[df[\"label\"] == int(df[\"label\"].value_counts().index[ 1 ])].head()"
   ]
  },
  {
   "cell_type": "markdown",
   "metadata": {},
   "source": [
    "Количество классов"
   ]
  },
  {
   "cell_type": "code",
   "execution_count": 53,
   "metadata": {},
   "outputs": [
    {
     "name": "stdout",
     "output_type": "stream",
     "text": [
      "266 / 10\n"
     ]
    },
    {
     "data": {
      "text/plain": [
       "Text(0.5, 0, 'Index')"
      ]
     },
     "execution_count": 53,
     "metadata": {},
     "output_type": "execute_result"
    },
    {
     "data": {
      "image/png": "[encoded data removed]",
      "text/plain": [
       "<Figure size 432x288 with 1 Axes>"
      ]
     },
     "metadata": {
      "needs_background": "light"
     },
     "output_type": "display_data"
    }
   ],
   "source": [
    "thrval = 10000\n",
    "print(np.sum(df[\"label\"].value_counts() < thrval), '/', np.sum(df[\"label\"].value_counts() > thrval))\n",
    "\n",
    "\n",
    "plt.plot(df[\"label\"].value_counts().values)\n",
    "plt.plot([0, len(df[\"label\"].value_counts())], [thrval, thrval])   # уровень, который отрезаем\n",
    "plt.ylabel('Count')\n",
    "plt.xlabel('Index')"
   ]
  },
  {
   "cell_type": "code",
   "execution_count": null,
   "metadata": {},
   "outputs": [],
   "source": []
  },
  {
   "cell_type": "code",
   "execution_count": null,
   "metadata": {},
   "outputs": [],
   "source": []
  },
  {
   "cell_type": "code",
   "execution_count": 81,
   "metadata": {},
   "outputs": [
    {
     "data": {
      "text/plain": [
       "Index(['id', 'ticket_id', 'ticket_type_nm', 'entrance_id', 'entrance_nm',\n",
       "       'station_id', 'station_nm', 'line_id', 'line_nm', 'pass_dttm',\n",
       "       'time_to_under', 'label', 'day', 'hours', 'time', 'time_isweekend',\n",
       "       'time_dayofweek'],\n",
       "      dtype='object')"
      ]
     },
     "execution_count": 81,
     "metadata": {},
     "output_type": "execute_result"
    }
   ],
   "source": [
    "df_bad_classes.columns"
   ]
  },
  {
   "cell_type": "code",
   "execution_count": 105,
   "metadata": {},
   "outputs": [
    {
     "data": {
      "text/plain": [
       "<AxesSubplot:xlabel='station_id', ylabel='Count'>"
      ]
     },
     "execution_count": 105,
     "metadata": {},
     "output_type": "execute_result"
    },
    {
     "data": {
      "image/png": "[encoded data removed]",
      "text/plain": [
       "<Figure size 1080x216 with 1 Axes>"
      ]
     },
     "metadata": {
      "needs_background": "light"
     },
     "output_type": "display_data"
    },
    {
     "data": {
      "image/png": "[encoded data removed]",
      "text/plain": [
       "<Figure size 1080x216 with 1 Axes>"
      ]
     },
     "metadata": {
      "needs_background": "light"
     },
     "output_type": "display_data"
    }
   ],
   "source": [
    "plt.figure(figsize=(15,3))\n",
    "sns.histplot(df_bad_classes['station_id'])\n",
    "\n",
    "plt.figure(figsize=(15,3))\n",
    "sns.histplot(df['station_id'])"
   ]
  },
  {
   "cell_type": "code",
   "execution_count": 70,
   "metadata": {},
   "outputs": [
    {
     "data": {
      "text/plain": [
       "Index(['id', 'ticket_id', 'ticket_type_nm', 'entrance_id', 'entrance_nm',\n",
       "       'station_id', 'station_nm', 'line_id', 'line_nm', 'pass_dttm', 'day',\n",
       "       'hours', 'time', 'time_isweekend', 'time_dayofweek'],\n",
       "      dtype='object')"
      ]
     },
     "execution_count": 70,
     "metadata": {},
     "output_type": "execute_result"
    }
   ],
   "source": [
    "valid.columns"
   ]
  },
  {
   "cell_type": "markdown",
   "metadata": {},
   "source": [
    "## Сравнение выборок"
   ]
  },
  {
   "cell_type": "code",
   "execution_count": null,
   "metadata": {},
   "outputs": [],
   "source": [
    "df[\"id\"].hist(bins = 100)\n",
    "valid[\"id\"].hist(bins = 100)"
   ]
  },
  {
   "cell_type": "code",
   "execution_count": 72,
   "metadata": {},
   "outputs": [
    {
     "data": {
      "text/plain": [
       "<AxesSubplot:>"
      ]
     },
     "execution_count": 72,
     "metadata": {},
     "output_type": "execute_result"
    },
    {
     "data": {
      "image/png": "[encoded data removed]",
      "text/plain": [
       "<Figure size 432x288 with 1 Axes>"
      ]
     },
     "metadata": {
      "needs_background": "light"
     },
     "output_type": "display_data"
    }
   ],
   "source": [
    "df[\"line_id\"].hist(bins = 100)\n",
    "valid[\"line_id\"].hist(bins = 100)"
   ]
  },
  {
   "cell_type": "code",
   "execution_count": 73,
   "metadata": {},
   "outputs": [
    {
     "data": {
      "text/plain": [
       "<AxesSubplot:>"
      ]
     },
     "execution_count": 73,
     "metadata": {},
     "output_type": "execute_result"
    },
    {
     "data": {
      "image/png": "[encoded data removed]",
      "text/plain": [
       "<Figure size 432x288 with 1 Axes>"
      ]
     },
     "metadata": {
      "needs_background": "light"
     },
     "output_type": "display_data"
    }
   ],
   "source": [
    "df[\"day\"].hist(bins = 100)\n",
    "valid[\"day\"].hist(bins = 100)"
   ]
  },
  {
   "cell_type": "code",
   "execution_count": 74,
   "metadata": {},
   "outputs": [
    {
     "data": {
      "text/plain": [
       "<AxesSubplot:>"
      ]
     },
     "execution_count": 74,
     "metadata": {},
     "output_type": "execute_result"
    },
    {
     "data": {
      "image/png": "[encoded data removed]",
      "text/plain": [
       "<Figure size 432x288 with 1 Axes>"
      ]
     },
     "metadata": {
      "needs_background": "light"
     },
     "output_type": "display_data"
    }
   ],
   "source": [
    "df[\"hours\"].hist(bins = 100)\n",
    "valid[\"hours\"].hist(bins = 100)"
   ]
  },
  {
   "cell_type": "code",
   "execution_count": null,
   "metadata": {},
   "outputs": [],
   "source": []
  },
  {
   "cell_type": "markdown",
   "metadata": {},
   "source": [
    "# Обучение и тесты"
   ]
  },
  {
   "cell_type": "markdown",
   "metadata": {
    "id": "WIFh_dnOhj1V"
   },
   "source": [
    "## Выделим выборки"
   ]
  },
  {
   "cell_type": "code",
   "execution_count": 90,
   "metadata": {},
   "outputs": [
    {
     "name": "stdout",
     "output_type": "stream",
     "text": [
      "(960373, 16) (130648, 16) (1091021, 16)\n"
     ]
    }
   ],
   "source": [
    "df = pd.read_csv(\"./train_dataset_train.csv\")\n",
    "df, df_bad_classes, df_good_classes = modifydata(df, 10000)\n",
    "print(df_bad_classes.shape, df_good_classes.shape, df.shape)"
   ]
  },
  {
   "cell_type": "code",
   "execution_count": 91,
   "metadata": {},
   "outputs": [],
   "source": [
    "def getFeaturesAndOutput(df):\n",
    "    if 'time_to_under' in df.columns:\n",
    "        X = df.drop([\"ticket_id\", \"entrance_nm\", \"station_nm\", \"line_nm\", \"pass_dttm\", \"label\",\"time_to_under\", 'time'], axis = 1)\n",
    "        y = df[[\"time_to_under\", \"label\"]]\n",
    "        return X,y\n",
    "    else:\n",
    "        X = valid.drop([\"ticket_id\", \"entrance_nm\", \"station_nm\", \"line_nm\", \"pass_dttm\", 'time'], axis = 1)\n",
    "        return X"
   ]
  },
  {
   "cell_type": "code",
   "execution_count": 92,
   "metadata": {
    "id": "mkCL9b-8hmZ1"
   },
   "outputs": [],
   "source": [
    "Xa, ya = getFeaturesAndOutput(df)\n",
    "X, y = getFeaturesAndOutput(df_good_classes)\n",
    "\n",
    "Xb, yb = getFeaturesAndOutput(df_bad_classes)"
   ]
  },
  {
   "cell_type": "code",
   "execution_count": 57,
   "metadata": {},
   "outputs": [],
   "source": [
    "from sklearn import preprocessing\n",
    "le = preprocessing.LabelEncoder()\n",
    "\n",
    "le.fit(y['label'])\n",
    "ylabel = le.transform(y['label'])\n",
    "\n",
    "# print(le.fit(y['label']),\n",
    "# le.classes_,\n",
    "# le.transform(y['label']),\n",
    "# le.inverse_transform([0, 0, 1, 2]))\n"
   ]
  },
  {
   "cell_type": "code",
   "execution_count": 93,
   "metadata": {
    "id": "NfIOX9Lbik_i"
   },
   "outputs": [
    {
     "data": {
      "text/plain": [
       "Index(['ticket_type_nm', 'entrance_id', 'station_id', 'line_id', 'day',\n",
       "       'hours', 'time_isweekend', 'time_dayofweek'],\n",
       "      dtype='object')"
      ]
     },
     "execution_count": 93,
     "metadata": {},
     "output_type": "execute_result"
    }
   ],
   "source": [
    "# X_train, X_test, y_train, y_test = train_test_split(X, y, test_size=0.3, random_state=42)\n",
    "# X_train.columns\n",
    "\n",
    "X_train, X_test, y_train, y_test = train_test_split(X, y, test_size=0.3, random_state=42)\n",
    "X_train.columns"
   ]
  },
  {
   "cell_type": "code",
   "execution_count": 95,
   "metadata": {},
   "outputs": [
    {
     "data": {
      "text/html": [
       "<div>\n",
       "<style scoped>\n",
       "    .dataframe tbody tr th:only-of-type {\n",
       "        vertical-align: middle;\n",
       "    }\n",
       "\n",
       "    .dataframe tbody tr th {\n",
       "        vertical-align: top;\n",
       "    }\n",
       "\n",
       "    .dataframe thead th {\n",
       "        text-align: right;\n",
       "    }\n",
       "</style>\n",
       "<table border=\"1\" class=\"dataframe\">\n",
       "  <thead>\n",
       "    <tr style=\"text-align: right;\">\n",
       "      <th></th>\n",
       "      <th>ticket_type_nm</th>\n",
       "      <th>entrance_id</th>\n",
       "      <th>station_id</th>\n",
       "      <th>line_id</th>\n",
       "      <th>day</th>\n",
       "      <th>hours</th>\n",
       "      <th>time_isweekend</th>\n",
       "      <th>time_dayofweek</th>\n",
       "    </tr>\n",
       "  </thead>\n",
       "  <tbody>\n",
       "    <tr>\n",
       "      <th>0</th>\n",
       "      <td>40</td>\n",
       "      <td>2402</td>\n",
       "      <td>11007</td>\n",
       "      <td>11</td>\n",
       "      <td>12</td>\n",
       "      <td>5</td>\n",
       "      <td>0</td>\n",
       "      <td>0</td>\n",
       "    </tr>\n",
       "    <tr>\n",
       "      <th>2</th>\n",
       "      <td>26</td>\n",
       "      <td>110</td>\n",
       "      <td>2006</td>\n",
       "      <td>2</td>\n",
       "      <td>12</td>\n",
       "      <td>5</td>\n",
       "      <td>0</td>\n",
       "      <td>0</td>\n",
       "    </tr>\n",
       "    <tr>\n",
       "      <th>10</th>\n",
       "      <td>19</td>\n",
       "      <td>110</td>\n",
       "      <td>2006</td>\n",
       "      <td>2</td>\n",
       "      <td>12</td>\n",
       "      <td>5</td>\n",
       "      <td>0</td>\n",
       "      <td>0</td>\n",
       "    </tr>\n",
       "    <tr>\n",
       "      <th>28</th>\n",
       "      <td>40</td>\n",
       "      <td>205</td>\n",
       "      <td>5009</td>\n",
       "      <td>5</td>\n",
       "      <td>12</td>\n",
       "      <td>5</td>\n",
       "      <td>0</td>\n",
       "      <td>0</td>\n",
       "    </tr>\n",
       "    <tr>\n",
       "      <th>34</th>\n",
       "      <td>11</td>\n",
       "      <td>110</td>\n",
       "      <td>2006</td>\n",
       "      <td>2</td>\n",
       "      <td>12</td>\n",
       "      <td>5</td>\n",
       "      <td>0</td>\n",
       "      <td>0</td>\n",
       "    </tr>\n",
       "  </tbody>\n",
       "</table>\n",
       "</div>"
      ],
      "text/plain": [
       "    ticket_type_nm  entrance_id  station_id  line_id  day  hours  \\\n",
       "0               40         2402       11007       11   12      5   \n",
       "2               26          110        2006        2   12      5   \n",
       "10              19          110        2006        2   12      5   \n",
       "28              40          205        5009        5   12      5   \n",
       "34              11          110        2006        2   12      5   \n",
       "\n",
       "    time_isweekend  time_dayofweek  \n",
       "0                0               0  \n",
       "2                0               0  \n",
       "10               0               0  \n",
       "28               0               0  \n",
       "34               0               0  "
      ]
     },
     "execution_count": 95,
     "metadata": {},
     "output_type": "execute_result"
    }
   ],
   "source": [
    "X.head()"
   ]
  },
  {
   "cell_type": "code",
   "execution_count": 96,
   "metadata": {
    "colab": {
     "base_uri": "https://localhost:8080/",
     "height": 424
    },
    "id": "8DMXViK5SLpd",
    "outputId": "b6afedf5-05ec-4f40-fb16-aeb2b2571d2c",
    "scrolled": true
   },
   "outputs": [
    {
     "data": {
      "text/html": [
       "<div>\n",
       "<style scoped>\n",
       "    .dataframe tbody tr th:only-of-type {\n",
       "        vertical-align: middle;\n",
       "    }\n",
       "\n",
       "    .dataframe tbody tr th {\n",
       "        vertical-align: top;\n",
       "    }\n",
       "\n",
       "    .dataframe thead th {\n",
       "        text-align: right;\n",
       "    }\n",
       "</style>\n",
       "<table border=\"1\" class=\"dataframe\">\n",
       "  <thead>\n",
       "    <tr style=\"text-align: right;\">\n",
       "      <th></th>\n",
       "      <th>time_to_under</th>\n",
       "      <th>label</th>\n",
       "    </tr>\n",
       "  </thead>\n",
       "  <tbody>\n",
       "    <tr>\n",
       "      <th>486557</th>\n",
       "      <td>292.983333</td>\n",
       "      <td>3002</td>\n",
       "    </tr>\n",
       "    <tr>\n",
       "      <th>804044</th>\n",
       "      <td>394.233333</td>\n",
       "      <td>3002</td>\n",
       "    </tr>\n",
       "    <tr>\n",
       "      <th>474165</th>\n",
       "      <td>343.300000</td>\n",
       "      <td>5009</td>\n",
       "    </tr>\n",
       "    <tr>\n",
       "      <th>707646</th>\n",
       "      <td>759.516667</td>\n",
       "      <td>7015</td>\n",
       "    </tr>\n",
       "    <tr>\n",
       "      <th>1065922</th>\n",
       "      <td>472.266667</td>\n",
       "      <td>8001</td>\n",
       "    </tr>\n",
       "    <tr>\n",
       "      <th>...</th>\n",
       "      <td>...</td>\n",
       "      <td>...</td>\n",
       "    </tr>\n",
       "    <tr>\n",
       "      <th>1070209</th>\n",
       "      <td>373.866667</td>\n",
       "      <td>3002</td>\n",
       "    </tr>\n",
       "    <tr>\n",
       "      <th>858762</th>\n",
       "      <td>573.133333</td>\n",
       "      <td>1009</td>\n",
       "    </tr>\n",
       "    <tr>\n",
       "      <th>9632</th>\n",
       "      <td>623.066667</td>\n",
       "      <td>7015</td>\n",
       "    </tr>\n",
       "    <tr>\n",
       "      <th>135408</th>\n",
       "      <td>367.250000</td>\n",
       "      <td>6008</td>\n",
       "    </tr>\n",
       "    <tr>\n",
       "      <th>1016653</th>\n",
       "      <td>770.800000</td>\n",
       "      <td>6006</td>\n",
       "    </tr>\n",
       "  </tbody>\n",
       "</table>\n",
       "<p>91453 rows × 2 columns</p>\n",
       "</div>"
      ],
      "text/plain": [
       "         time_to_under  label\n",
       "486557      292.983333   3002\n",
       "804044      394.233333   3002\n",
       "474165      343.300000   5009\n",
       "707646      759.516667   7015\n",
       "1065922     472.266667   8001\n",
       "...                ...    ...\n",
       "1070209     373.866667   3002\n",
       "858762      573.133333   1009\n",
       "9632        623.066667   7015\n",
       "135408      367.250000   6008\n",
       "1016653     770.800000   6006\n",
       "\n",
       "[91453 rows x 2 columns]"
      ]
     },
     "execution_count": 96,
     "metadata": {},
     "output_type": "execute_result"
    }
   ],
   "source": [
    "y_train"
   ]
  },
  {
   "cell_type": "markdown",
   "metadata": {
    "id": "60NotS9ehbO5"
   },
   "source": [
    "## Обучение модели"
   ]
  },
  {
   "cell_type": "markdown",
   "metadata": {
    "id": "uZW02LaeSVpa"
   },
   "source": [
    "### Для станции "
   ]
  },
  {
   "cell_type": "code",
   "execution_count": 14,
   "metadata": {
    "id": "jc-KKFlWf6_N"
   },
   "outputs": [],
   "source": [
    "# %%time\n",
    "\n",
    "# datalen = y_train.shape[0]\n",
    "# chunksize = 10000\n",
    "\n",
    "# clf = RandomForestClassifier(random_state=0, max_depth=15, n_jobs=1, warm_start=True)\n",
    "# clf.fit(X_train[:chunksize], y_train[\"label\"][:chunksize])\n",
    "\n",
    "# i = 0\n",
    "# while i < datalen:\n",
    "#     clf.fit(X_train[i:i+chunksize], y_train[\"label\"][i:i+chunksize])\n",
    "#     i = i + chunksize\n"
   ]
  },
  {
   "cell_type": "code",
   "execution_count": 97,
   "metadata": {},
   "outputs": [
    {
     "name": "stdout",
     "output_type": "stream",
     "text": [
      "Wall time: 2.47 s\n"
     ]
    },
    {
     "data": {
      "text/plain": [
       "RandomForestClassifier(max_depth=10, n_estimators=200, n_jobs=4, random_state=0)"
      ]
     },
     "execution_count": 97,
     "metadata": {},
     "output_type": "execute_result"
    }
   ],
   "source": [
    "%%time\n",
    "\n",
    "clf = RandomForestClassifier(random_state=0, max_depth=10, n_estimators=200, n_jobs=4)\n",
    "clf.fit(X_train, y_train[\"label\"])\n",
    "\n",
    "# festo ~4min  n_jobs=2"
   ]
  },
  {
   "cell_type": "code",
   "execution_count": 248,
   "metadata": {},
   "outputs": [
    {
     "data": {
      "text/plain": [
       "RandomForestClassifier(max_depth=10, n_estimators=200, n_jobs=-1,\n",
       "                       random_state=0)"
      ]
     },
     "execution_count": 248,
     "metadata": {},
     "output_type": "execute_result"
    }
   ],
   "source": [
    "# классификатор специально для плохих классов\n",
    "clf_bad = RandomForestClassifier(random_state=0, max_depth=10, n_estimators=200, n_jobs=-1)\n",
    "clf_bad.fit(Xb, yb[\"label\"])\n"
   ]
  },
  {
   "cell_type": "code",
   "execution_count": 20,
   "metadata": {},
   "outputs": [],
   "source": [
    "# import pickle\n",
    "\n",
    "# with open('./clf.data', 'wb') as f:\n",
    "#     pickle.dump(clf, f)"
   ]
  },
  {
   "cell_type": "code",
   "execution_count": 239,
   "metadata": {},
   "outputs": [],
   "source": [
    "# %%time\n",
    "# from sklearn.linear_model import LogisticRegression\n",
    "\n",
    "# clf = LogisticRegression(random_state=0, solver='lbfgs', n_jobs=-1)\n",
    "# clf.fit(X_train, y_train[\"label\"])\n"
   ]
  },
  {
   "cell_type": "code",
   "execution_count": null,
   "metadata": {},
   "outputs": [],
   "source": []
  },
  {
   "cell_type": "code",
   "execution_count": 237,
   "metadata": {},
   "outputs": [],
   "source": [
    "temp = clf.predict_proba(X)"
   ]
  },
  {
   "cell_type": "code",
   "execution_count": 250,
   "metadata": {},
   "outputs": [],
   "source": [
    "temp1 = clf_bad.predict_proba(X)"
   ]
  },
  {
   "cell_type": "code",
   "execution_count": 313,
   "metadata": {
    "scrolled": false
   },
   "outputs": [
    {
     "name": "stdout",
     "output_type": "stream",
     "text": [
      "5009\n",
      "11004\n",
      "1024\n"
     ]
    },
    {
     "data": {
      "image/png": "[encoded data removed]",
      "text/plain": [
       "<Figure size 432x288 with 1 Axes>"
      ]
     },
     "metadata": {
      "needs_background": "light"
     },
     "output_type": "display_data"
    }
   ],
   "source": [
    "i = 10\n",
    "\n",
    "print(y[y.index == i]['label'].values[0])\n",
    "print(clf.classes_[np.argmax(temp[i])])\n",
    "print(clf_bad.classes_[np.argmax(temp1[i])])\n",
    "\n",
    "plt.plot(temp[i]);\n",
    "plt.plot(temp1[i]);\n"
   ]
  },
  {
   "cell_type": "code",
   "execution_count": 282,
   "metadata": {
    "scrolled": true
   },
   "outputs": [
    {
     "data": {
      "text/plain": [
       "238"
      ]
     },
     "execution_count": 282,
     "metadata": {},
     "output_type": "execute_result"
    }
   ],
   "source": [
    "len(y['label'].unique())"
   ]
  },
  {
   "cell_type": "code",
   "execution_count": 309,
   "metadata": {},
   "outputs": [
    {
     "data": {
      "text/html": [
       "<div>\n",
       "<style scoped>\n",
       "    .dataframe tbody tr th:only-of-type {\n",
       "        vertical-align: middle;\n",
       "    }\n",
       "\n",
       "    .dataframe tbody tr th {\n",
       "        vertical-align: top;\n",
       "    }\n",
       "\n",
       "    .dataframe thead th {\n",
       "        text-align: right;\n",
       "    }\n",
       "</style>\n",
       "<table border=\"1\" class=\"dataframe\">\n",
       "  <thead>\n",
       "    <tr style=\"text-align: right;\">\n",
       "      <th></th>\n",
       "      <th>time_to_under</th>\n",
       "      <th>label</th>\n",
       "    </tr>\n",
       "  </thead>\n",
       "  <tbody>\n",
       "    <tr>\n",
       "      <th>0</th>\n",
       "      <td>216.316667</td>\n",
       "      <td>8001</td>\n",
       "    </tr>\n",
       "    <tr>\n",
       "      <th>1</th>\n",
       "      <td>648.183333</td>\n",
       "      <td>9011</td>\n",
       "    </tr>\n",
       "    <tr>\n",
       "      <th>2</th>\n",
       "      <td>865.333333</td>\n",
       "      <td>7022</td>\n",
       "    </tr>\n",
       "    <tr>\n",
       "      <th>3</th>\n",
       "      <td>1048.233333</td>\n",
       "      <td>2022</td>\n",
       "    </tr>\n",
       "    <tr>\n",
       "      <th>4</th>\n",
       "      <td>965.600000</td>\n",
       "      <td>2017</td>\n",
       "    </tr>\n",
       "    <tr>\n",
       "      <th>5</th>\n",
       "      <td>148.683333</td>\n",
       "      <td>11012</td>\n",
       "    </tr>\n",
       "    <tr>\n",
       "      <th>7</th>\n",
       "      <td>229.400000</td>\n",
       "      <td>7014</td>\n",
       "    </tr>\n",
       "    <tr>\n",
       "      <th>8</th>\n",
       "      <td>720.616667</td>\n",
       "      <td>5007</td>\n",
       "    </tr>\n",
       "    <tr>\n",
       "      <th>9</th>\n",
       "      <td>329.433333</td>\n",
       "      <td>6018</td>\n",
       "    </tr>\n",
       "    <tr>\n",
       "      <th>10</th>\n",
       "      <td>945.333333</td>\n",
       "      <td>5009</td>\n",
       "    </tr>\n",
       "  </tbody>\n",
       "</table>\n",
       "</div>"
      ],
      "text/plain": [
       "    time_to_under  label\n",
       "0      216.316667   8001\n",
       "1      648.183333   9011\n",
       "2      865.333333   7022\n",
       "3     1048.233333   2022\n",
       "4      965.600000   2017\n",
       "5      148.683333  11012\n",
       "7      229.400000   7014\n",
       "8      720.616667   5007\n",
       "9      329.433333   6018\n",
       "10     945.333333   5009"
      ]
     },
     "execution_count": 309,
     "metadata": {},
     "output_type": "execute_result"
    }
   ],
   "source": [
    "y.head(10)"
   ]
  },
  {
   "cell_type": "code",
   "execution_count": 58,
   "metadata": {
    "scrolled": false
   },
   "outputs": [
    {
     "name": "stdout",
     "output_type": "stream",
     "text": [
      "Wall time: 29 s\n"
     ]
    },
    {
     "data": {
      "text/plain": [
       "<AxesSubplot:title={'center':'Feature importance'}, xlabel='Feature importance', ylabel='Features'>"
      ]
     },
     "execution_count": 58,
     "metadata": {},
     "output_type": "execute_result"
    },
    {
     "data": {
      "image/png": "[encoded data removed]",
      "text/plain": [
       "<Figure size 504x720 with 1 Axes>"
      ]
     },
     "metadata": {
      "needs_background": "light"
     },
     "output_type": "display_data"
    }
   ],
   "source": [
    "%%time\n",
    "\n",
    "import lightgbm as lgb\n",
    "\n",
    "clf = lgb.LGBMClassifier(n_estimators=1500, num_leaves=10, learning_rate=0.05, colsample_bytree=0.75, verbose=100,\n",
    "                         subsample=0.75, random_state=13, metric='multi_logloss', objective='multiclass', n_jobs=-1)\n",
    "clf.fit(X, ylabel, eval_metric='multi_logloss')\n",
    "\n",
    "\n",
    "lgb.plot_importance(clf, figsize=(7,10))"
   ]
  },
  {
   "cell_type": "code",
   "execution_count": 59,
   "metadata": {},
   "outputs": [
    {
     "data": {
      "text/plain": [
       "defaultdict(dict, {})"
      ]
     },
     "execution_count": 59,
     "metadata": {},
     "output_type": "execute_result"
    }
   ],
   "source": [
    "clf.best_score_"
   ]
  },
  {
   "cell_type": "code",
   "execution_count": 33,
   "metadata": {
    "scrolled": true
   },
   "outputs": [],
   "source": [
    "# #Converting the dataset in proper LGB format\n",
    "# d_train = lgb.Dataset(X, label=ylabel)#setting up the parameters\n",
    "\n",
    "# params = {}\n",
    "# params['learning_rate'] = 0.05\n",
    "# params['num_leaves'] = 10\n",
    "# params['boosting_type']='gbdt' #GradientBoostingDecisionTree\n",
    "# params['objective']='multiclass' #Multi-class target feature\n",
    "# params['metric']='multi_logloss' #metric for multi-class\n",
    "# params['max_depth']=10\n",
    "# params['num_class']=276 #no.of unique values in the target class not inclusive of the end value#training the model\n",
    "# params['n_estimators']=1500\n",
    "# params['verbose'] = 100\n",
    "# params['n_jobs'] = -1\n",
    "# params['random_state'] = 13\n",
    "\n",
    "# clf = lgb.train(params, d_train, 100)\n"
   ]
  },
  {
   "cell_type": "code",
   "execution_count": null,
   "metadata": {},
   "outputs": [],
   "source": []
  },
  {
   "cell_type": "code",
   "execution_count": null,
   "metadata": {},
   "outputs": [],
   "source": []
  },
  {
   "cell_type": "markdown",
   "metadata": {
    "id": "bWkUCLOfSYGU"
   },
   "source": [
    "### Для времени"
   ]
  },
  {
   "cell_type": "code",
   "execution_count": 98,
   "metadata": {
    "colab": {
     "base_uri": "https://localhost:8080/"
    },
    "id": "bSwqI6szSsm0",
    "outputId": "941b2e16-2eae-4f32-d9a6-e59da6efdb50"
   },
   "outputs": [
    {
     "name": "stdout",
     "output_type": "stream",
     "text": [
      "Wall time: 2.55 s\n"
     ]
    },
    {
     "data": {
      "text/plain": [
       "RandomForestRegressor(max_depth=15, n_estimators=200, n_jobs=-1, random_state=0)"
      ]
     },
     "execution_count": 98,
     "metadata": {},
     "output_type": "execute_result"
    }
   ],
   "source": [
    "%%time\n",
    "reg = RandomForestRegressor(random_state=0, max_depth=15, n_estimators=200, n_jobs=-1)\n",
    "\n",
    "reg.fit(X_train, y_train[\"time_to_under\"])\n",
    "\n",
    "# фесто 45с n_jobs=-1"
   ]
  },
  {
   "cell_type": "code",
   "execution_count": 21,
   "metadata": {},
   "outputs": [],
   "source": [
    "# import pickle\n",
    "\n",
    "# with open('./reg.data', 'wb') as f:\n",
    "#     pickle.dump(reg, f)"
   ]
  },
  {
   "cell_type": "code",
   "execution_count": 20,
   "metadata": {},
   "outputs": [
    {
     "name": "stdout",
     "output_type": "stream",
     "text": [
      "CPU times: user 353 ms, sys: 23.3 ms, total: 376 ms\n",
      "Wall time: 94.3 ms\n"
     ]
    },
    {
     "data": {
      "text/plain": [
       "LinearRegression(copy_X=True, fit_intercept=True, n_jobs=-1, normalize=False)"
      ]
     },
     "execution_count": 20,
     "metadata": {},
     "output_type": "execute_result"
    }
   ],
   "source": [
    "# %%time \n",
    "\n",
    "# from sklearn.linear_model import LinearRegression\n",
    "\n",
    "# reg = LinearRegression(n_jobs=-1)\n",
    "# reg.fit(X_train, y_train[\"time_to_under\"])"
   ]
  },
  {
   "cell_type": "code",
   "execution_count": 60,
   "metadata": {},
   "outputs": [
    {
     "name": "stdout",
     "output_type": "stream",
     "text": [
      "Wall time: 2.57 s\n"
     ]
    },
    {
     "data": {
      "text/plain": [
       "LGBMRegressor(colsample_bytree=0.75, learning_rate=0.05, metric='r2',\n",
       "              n_estimators=1500, num_leaves=10, objective='regression',\n",
       "              random_state=13, subsample=0.75, verbose=100)"
      ]
     },
     "execution_count": 60,
     "metadata": {},
     "output_type": "execute_result"
    }
   ],
   "source": [
    "%%time\n",
    "\n",
    "import lightgbm as lgb\n",
    "\n",
    "reg = lgb.LGBMRegressor(n_estimators=1500, num_leaves=10, learning_rate=0.05, colsample_bytree=0.75, verbose=100,\n",
    "                         subsample=0.75, random_state=13, metric='r2', objective='regression', n_jobs=-1)\n",
    "reg.fit(X, y['time_to_under'], eval_metric='r2')\n",
    "\n"
   ]
  },
  {
   "cell_type": "code",
   "execution_count": 61,
   "metadata": {},
   "outputs": [
    {
     "data": {
      "text/plain": [
       "defaultdict(dict, {})"
      ]
     },
     "execution_count": 61,
     "metadata": {},
     "output_type": "execute_result"
    }
   ],
   "source": [
    "reg.best_score_"
   ]
  },
  {
   "cell_type": "markdown",
   "metadata": {
    "id": "6Y60HHS5jKeN"
   },
   "source": [
    "## Оценка точности"
   ]
  },
  {
   "cell_type": "code",
   "execution_count": 99,
   "metadata": {
    "id": "UV0kmZqGf7D-"
   },
   "outputs": [],
   "source": [
    "pred_class = clf.predict(X_test)\n",
    "pred_reg = reg.predict(X_test)"
   ]
  },
  {
   "cell_type": "code",
   "execution_count": 63,
   "metadata": {},
   "outputs": [],
   "source": [
    "#  for LGBM inverse transform of classes\n",
    "if type(clf) == lgb.sklearn.LGBMClassifier:\n",
    "    pred_class = le.inverse_transform(pred_class)"
   ]
  },
  {
   "cell_type": "code",
   "execution_count": 100,
   "metadata": {
    "colab": {
     "base_uri": "https://localhost:8080/"
    },
    "id": "AgEZTGYujQMW",
    "outputId": "e326b73a-a2db-4722-e07c-97089b971978"
   },
   "outputs": [
    {
     "name": "stdout",
     "output_type": "stream",
     "text": [
      "0.240904745579802 0.5105320359587164 0.3757183907692592\n"
     ]
    }
   ],
   "source": [
    "from sklearn.metrics import recall_score, r2_score\n",
    "\n",
    "rs = recall_score(y_test[\"label\"], pred_class , average='macro')\n",
    "r2 = r2_score(y_test[\"time_to_under\"], pred_reg)\n",
    "score = 0.5 * rs +  0.5 * r2\n",
    "\n",
    "print(rs, r2, score)"
   ]
  },
  {
   "cell_type": "code",
   "execution_count": null,
   "metadata": {},
   "outputs": [],
   "source": [
    "# 0.4897555334746157   -- baseline\n",
    "# 0.2678758686368177   -- baseline, обучение на всех данных.  На паблике 0.092150\n",
    "\n",
    "# Recall, R2, score\n",
    "# 2*0.0028946815886393275 0.4765418328846045 0.2397182572366219   -- logit, linreg  public  -0.177917\n",
    "# 0.051367635290150336 0.5337106363746371 0.2925391358323937 -- RandomForestClassifier, RandomForestRegressor, полный набор\n",
    "# 0.0038071101519124456 0.5337099924062669 0.2687585512790897 -- RandomForestClassifier, RandomForestRegressor, df[\"time_to_under\"] < 900\n",
    "\n",
    "\n",
    "# 0.1003784996172645 0.5477282066729828 0.3240533531451237 -- RandomForestClassifier, bad_classes\n",
    "# 0.7298980069136254 0.5175243103995155 0.6237111586565705   # stationsize < 15000\n",
    "# 0.12490370842962603 0.5237048533791078 0.3243042809043669  # stationsize < 7000\n",
    "# 0.240904745579802 0.5105320359587164 0.3757183907692592    # stationsize < 10000\n",
    "\n",
    "\n",
    "# LGBM, # stationsize < 7000\n",
    "# 0.1710043969339049 0.5347006858367624 0.3528525413853337\n",
    "# Public Score = 0.042972\n",
    "\n",
    "# LGBM, stationsize < 10000\n",
    "# 0.06935987873302325 0.5263155078550112 0.29783769329401727\n",
    "# Public Score = 0.001329\n",
    "\n"
   ]
  },
  {
   "cell_type": "code",
   "execution_count": 101,
   "metadata": {},
   "outputs": [
    {
     "name": "stdout",
     "output_type": "stream",
     "text": [
      "Classification:\n",
      "Train\t 0.2787722778628954 0.004338544045341835\n",
      "Test\t 0.15528023132256066 0.041954169158995115\n",
      "Regression:\n",
      "Train\t 0.6416177727962342 0.014415805234755505\n",
      "Test\t 0.4782292343470019 0.03415935935014842\n",
      "0.3167547328347813\n",
      "Wall time: 23.2 s\n"
     ]
    }
   ],
   "source": [
    "%%time\n",
    "\n",
    "from sklearn.model_selection import cross_validate\n",
    "\n",
    "scores = cross_validate(clf, X.values, y['label'].values, scoring='recall_macro', cv=5, n_jobs=-1, return_train_score=True)\n",
    "print('Classification:')\n",
    "print('Train\\t', scores['train_score'].mean(), scores['train_score'].std())\n",
    "print('Test\\t', scores['test_score'].mean(), scores['test_score'].std())\n",
    "\n",
    "\n",
    "scores1 = cross_validate(reg, X.values, y['time_to_under'].values, scoring='r2', cv=5, n_jobs=-1, return_train_score=True)\n",
    "print('Regression:')\n",
    "print('Train\\t', scores1['train_score'].mean(), scores1['train_score'].std())\n",
    "print('Test\\t', scores1['test_score'].mean(), scores1['test_score'].std())\n",
    "\n",
    "print(0.5*scores1['test_score'].mean() + 0.5*scores['test_score'].mean())"
   ]
  },
  {
   "cell_type": "code",
   "execution_count": null,
   "metadata": {},
   "outputs": [],
   "source": [
    "## CV metrics\n",
    "# < 900\n",
    "# Class           Train 0.13561506174050203 0.003919650939196688,  Test 0.05748999133734326 0.02317111428466088\n",
    "# Regress         Train 0.6235695720322265 0.01699774672075998,    Test 0.45812485786452795 0.028581941528906817\n",
    "\n",
    "# stationsize < 1000\n",
    "# Classification: Train 0.06411120481666817 0.0024074551124603186, Test 0.027039440606936464 0.011243727223666317\n",
    "# Regression:     Train 0.579278188403807 0.01587261373976514,     Test 0.46565763045506064 0.035428402233769515\n",
    "# Public Score = 0.141005\n",
    "\n",
    "# stationsize < 15000\n",
    "# Classification: Train\t 0.7766608130174626 0.0071032513880352225  Test\t 0.5059780312150269 0.06739058625640744\n",
    "# Regression:     Train\t 0.7705591530210607 0.008838076905600432   Test\t 0.4577849308723593 0.03791206577049757\n",
    "# 0.4818814810436931  Wall time: 6.27 s\n",
    "# Public Score = 0.173457\n",
    "\n",
    "# stationsize < 7000\n",
    "# Classification: Train\t 0.13900015725605608 0.0037958818071982866 Test\t 0.05605391160258757 0.0306836823057727\n",
    "# Regression:     Train\t 0.60357617541174 0.015187794866878612     Test\t 0.45970415872525844 0.03722895441220533\n",
    "# 0.257879035163923 Wall time: 2min 14s\n",
    "# Public Score = 0.133424\n",
    "\n",
    "# stationsize < 10000,  no ID\n",
    "# Classification: Train\t 0.2787722778628954 0.004338544045341835 Test\t 0.15528023132256066 0.041954169158995115\n",
    "# Regression:     Train\t 0.6416177727962342 0.014415805234755505 Test\t 0.4782292343470019 0.03415935935014842\n",
    "# 0.3167547328347813 Wall time: 23.2 s\n",
    "# Public Score = 0.244189\n",
    "\n",
    "# LGBM\n",
    "# stationsize < 10000\n",
    "# Classification: Train\t 0.33192901427429555 0.005872930829746373 Test\t 0.11362338163112295 0.05386222823723618\n",
    "# Regression:     Train\t 0.5397642642266066 0.012073370061145386  Test\t 0.4547109149300333 0.045197869452318525\n",
    "# 0.2841671482805781 Wall time: 6min 8s\n",
    "# Public Score = 0.001329\n"
   ]
  },
  {
   "cell_type": "code",
   "execution_count": null,
   "metadata": {},
   "outputs": [],
   "source": [
    "#  тупо на всех данных \n",
    "%%time\n",
    "\n",
    "from sklearn.model_selection import cross_validate\n",
    "\n",
    "scores = cross_validate(clf, Xa.values, ya['label'].values, scoring='recall_macro', cv=5, n_jobs=-1, return_train_score=True)\n",
    "print('Classification:')\n",
    "print('Train\\t', scores['train_score'].mean(), scores['train_score'].std())\n",
    "print('Test\\t', scores['test_score'].mean(), scores['test_score'].std())\n",
    "\n",
    "\n",
    "scores = cross_validate(reg, Xa.values, ya['time_to_under'].values, scoring='r2', cv=5, n_jobs=-1, return_train_score=True)\n",
    "print('Regression:')\n",
    "print('Train\\t', scores['train_score'].mean(), scores['train_score'].std())\n",
    "print('Test\\t', scores['test_score'].mean(), scores['test_score'].std())\n"
   ]
  },
  {
   "cell_type": "markdown",
   "metadata": {},
   "source": [
    "### classification_report"
   ]
  },
  {
   "cell_type": "code",
   "execution_count": 48,
   "metadata": {
    "scrolled": true
   },
   "outputs": [
    {
     "name": "stdout",
     "output_type": "stream",
     "text": [
      "              precision    recall  f1-score   support\n",
      "\n",
      "        1009       0.17      0.14      0.15      3792\n",
      "        1018       0.27      0.25      0.26      2699\n",
      "        1019       0.30      0.08      0.12      2232\n",
      "        1022       0.21      0.33      0.26      4230\n",
      "        2001       0.14      0.21      0.17      2676\n",
      "        2003       0.20      0.08      0.12      2520\n",
      "        2004       0.60      0.33      0.43      2106\n",
      "        2006       0.17      0.30      0.22      2345\n",
      "        2007       0.26      0.10      0.14      2253\n",
      "        2011       0.14      0.21      0.17      2086\n",
      "        2013       0.21      0.08      0.11      2418\n",
      "        2014       0.24      0.07      0.11      2219\n",
      "        2018       0.16      0.11      0.13      2220\n",
      "        3001       0.28      0.08      0.13      2316\n",
      "        3002       0.16      0.33      0.21      5133\n",
      "        3010       0.22      0.27      0.25      2625\n",
      "        3015       0.15      0.13      0.14      2374\n",
      "        3018       0.17      0.15      0.16      2273\n",
      "        3023       0.21      0.13      0.16      2386\n",
      "        5001       0.18      0.06      0.09      2579\n",
      "        5003       0.25      0.05      0.09      2441\n",
      "        5007       0.19      0.14      0.16      2528\n",
      "        5008       0.34      0.23      0.27      2335\n",
      "        5009       0.18      0.10      0.13      3547\n",
      "        5010       0.23      0.10      0.14      3936\n",
      "        6002       0.14      0.14      0.14      2101\n",
      "        6006       0.16      0.12      0.14      3345\n",
      "        6008       0.13      0.20      0.16      4588\n",
      "        6010       0.17      0.16      0.16      2690\n",
      "        6020       0.16      0.33      0.22      2895\n",
      "        6023       0.21      0.06      0.09      2509\n",
      "        7001       0.32      0.15      0.21      2274\n",
      "        7002       0.18      0.11      0.14      2125\n",
      "        7011       0.14      0.20      0.16      2128\n",
      "        7015       0.18      0.06      0.09      3761\n",
      "        7020       0.14      0.38      0.21      2737\n",
      "        7022       0.17      0.19      0.18      4008\n",
      "        8001       0.12      0.26      0.17      3076\n",
      "        8007       0.16      0.12      0.14      2538\n",
      "        9007       0.13      0.22      0.17      2195\n",
      "        9008       0.16      0.17      0.16      2444\n",
      "        9009       0.14      0.19      0.16      2352\n",
      "        9016       0.18      0.13      0.15      2295\n",
      "        9018       0.19      0.23      0.21      2472\n",
      "        9020       0.13      0.12      0.13      2449\n",
      "       11004       0.25      0.24      0.25      2324\n",
      "\n",
      "    accuracy                           0.18    125575\n",
      "   macro avg       0.20      0.17      0.17    125575\n",
      "weighted avg       0.20      0.18      0.17    125575\n",
      "\n"
     ]
    }
   ],
   "source": [
    "from sklearn.metrics import classification_report\n",
    "\n",
    "print(classification_report(y_test[\"label\"], pred_class))"
   ]
  },
  {
   "cell_type": "code",
   "execution_count": 102,
   "metadata": {},
   "outputs": [
    {
     "name": "stdout",
     "output_type": "stream",
     "text": [
      "0 / 10\n"
     ]
    }
   ],
   "source": [
    "# классы, которые плохо прогнозируются\n",
    "\n",
    "from sklearn.metrics import multilabel_confusion_matrix\n",
    "mcm = multilabel_confusion_matrix(y_test[\"label\"], pred_class)\n",
    "\n",
    "bad_classes_classes = sorted(y_test[\"label\"].unique())   #  список классов\n",
    "\n",
    "bad_classes = []\n",
    "for i in range(len(mcm)):\n",
    "    if mcm[i][1,1] <= 1:\n",
    "        bad_classes.append(bad_classes_classes[i])\n",
    "#     print(mcm[i][1,1])\n",
    "\n",
    "print(len(bad_classes),'/',len(bad_classes_classes))"
   ]
  },
  {
   "cell_type": "markdown",
   "metadata": {},
   "source": [
    "## ищем коилчество посещений ,которое не подходит"
   ]
  },
  {
   "cell_type": "code",
   "execution_count": 331,
   "metadata": {
    "scrolled": true
   },
   "outputs": [
    {
     "name": "stdout",
     "output_type": "stream",
     "text": [
      "15000\n",
      "(1058208, 17) (32813, 17) (1091021, 17)\n",
      "Classification:\n",
      "Train\t 0.6630141494841523 0.005015396747037869\n",
      "Test\t 0.6284705632749639 0.06470628077807934\n",
      "Regression:\n",
      "Train\t 0.5050368702295558 0.010017920606690248\n",
      "Test\t 0.45508652839366565 0.04191400851943784\n",
      "0.5417785458343147\n",
      "10000\n",
      "(960373, 17) (130648, 17) (1091021, 17)\n",
      "Classification:\n",
      "Train\t 0.16350063117005967 0.00873790225084011\n",
      "Test\t 0.15287697952221507 0.012895761612797646\n",
      "Regression:\n",
      "Train\t 0.49051613971859326 0.01152793082141878\n",
      "Test\t 0.44214214910984617 0.0339202204417001\n",
      "0.2975095643160306\n",
      "4000\n",
      "(310287, 17) (780734, 17) (1091021, 17)\n",
      "Classification:\n",
      "Train\t 0.016543048942274534 0.0008070977513912614\n",
      "Test\t 0.0155692845252488 0.0017321273921953304\n",
      "Regression:\n",
      "Train\t 0.5041447398778537 0.015033215318697743\n",
      "Test\t 0.46208966065398344 0.03749244325951907\n",
      "0.23882947258961612\n",
      "3000\n",
      "(211983, 17) (879038, 17) (1091021, 17)\n",
      "Classification:\n",
      "Train\t 0.013003748601015594 0.00041964568072929657\n",
      "Test\t 0.012212832403053436 0.001284301657597231\n",
      "Regression:\n",
      "Train\t 0.5051190421655127 0.015117351987881977\n",
      "Test\t 0.46240187468554217 0.036515393198589194\n",
      "0.2373073535442978\n",
      "2500\n",
      "(148150, 17) (942871, 17) (1091021, 17)\n",
      "Classification:\n",
      "Train\t 0.014340606526052336 0.0005575487381591637\n",
      "Test\t 0.012661205056841124 0.0023962034225589956\n",
      "Regression:\n",
      "Train\t 0.5066962168557723 0.015257533653746441\n",
      "Test\t 0.4640421932173437 0.03670719783895243\n",
      "0.23835169913709242\n",
      "2000\n",
      "(100456, 17) (990565, 17) (1091021, 17)\n",
      "Classification:\n",
      "Train\t 0.016005714269079478 0.0007617559321862121\n",
      "Test\t 0.015318456021413285 0.002668709208224399\n",
      "Regression:\n",
      "Train\t 0.5068023807651202 0.014190961973010398\n",
      "Test\t 0.4640020232059955 0.0356420105391075\n",
      "0.2396602396137044\n",
      "1000\n",
      "(23906, 17) (1067115, 17) (1091021, 17)\n",
      "Classification:\n",
      "Train\t 0.012703545948319666 0.0005490095579516091\n",
      "Test\t 0.011083844797861201 0.001307461956030289\n",
      "Regression:\n",
      "Train\t 0.5076831617682902 0.014940686562873997\n",
      "Test\t 0.4644092289732017 0.03448728003784514\n",
      "0.23774653688553143\n",
      "Wall time: 1min 26s\n"
     ]
    }
   ],
   "source": [
    "%%time\n",
    "\n",
    "thrs = [15000, 10000, 4000, 3000, 2500, 2000, 1000];\n",
    "\n",
    "for t in thrs:\n",
    "    print(t)\n",
    "    df = pd.read_csv(\"./train_dataset_train.csv\")\n",
    "    df, df_bad_classes, df_good_classes = modifydata(df, t)\n",
    "    print(df_bad_classes.shape, df_good_classes.shape, df.shape)\n",
    "\n",
    "    X, y = getFeaturesAndOutput(df_good_classes)\n",
    "\n",
    "    scores = cross_validate(RandomForestClassifier(random_state=0, max_depth=2, n_estimators=3, n_jobs=2),\n",
    "                            X.values, y['label'].values, scoring='recall_macro', cv=5, n_jobs=-1, return_train_score=True)\n",
    "    print('Classification:')\n",
    "    print('Train\\t', scores['train_score'].mean(), scores['train_score'].std())\n",
    "    print('Test\\t', scores['test_score'].mean(), scores['test_score'].std())\n",
    "\n",
    "\n",
    "    scores1 = cross_validate(RandomForestRegressor(random_state=0, max_depth=5, n_estimators=3, n_jobs=-1), \n",
    "                            X.values, y['time_to_under'].values, scoring='r2', cv=5, n_jobs=-1, return_train_score=True)\n",
    "    print('Regression:')\n",
    "    print('Train\\t', scores1['train_score'].mean(), scores1['train_score'].std())\n",
    "    print('Test\\t', scores1['test_score'].mean(), scores1['test_score'].std())\n",
    "    \n",
    "    print(0.5*scores1['test_score'].mean() + 0.5*scores['test_score'].mean())\n"
   ]
  },
  {
   "cell_type": "code",
   "execution_count": null,
   "metadata": {},
   "outputs": [],
   "source": [
    "# RandomForestClassifier(random_state=0, max_depth=2, n_estimators=3, n_jobs=2)\n",
    "# RandomForestRegressor(random_state=0, max_depth=5, n_estimators=3, n_jobs=-1)\n",
    "\n",
    "# 15000\n",
    "# (1058208, 17) (32813, 17) (1091021, 17)\n",
    "# Classification:\n",
    "# Train\t 0.6630141494841523 0.005015396747037869\n",
    "# Test\t 0.6284705632749639 0.06470628077807934\n",
    "# Regression:\n",
    "# Train\t 0.5050368702295558 0.010017920606690248\n",
    "# Test\t 0.45508652839366565 0.04191400851943784\n",
    "# 0.5417785458343147\n",
    "# 10000\n",
    "# (960373, 17) (130648, 17) (1091021, 17)\n",
    "# Classification:\n",
    "# Train\t 0.16350063117005967 0.00873790225084011\n",
    "# Test\t 0.15287697952221507 0.012895761612797646\n",
    "# Regression:\n",
    "# Train\t 0.49051613971859326 0.01152793082141878\n",
    "# Test\t 0.44214214910984617 0.0339202204417001\n",
    "# 0.2975095643160306\n",
    "# 4000\n",
    "# (310287, 17) (780734, 17) (1091021, 17)\n",
    "# Classification:\n",
    "# Train\t 0.016543048942274534 0.0008070977513912614\n",
    "# Test\t 0.0155692845252488 0.0017321273921953304\n",
    "# Regression:\n",
    "# Train\t 0.5041447398778537 0.015033215318697743\n",
    "# Test\t 0.46208966065398344 0.03749244325951907\n",
    "# 0.23882947258961612\n",
    "# 3000\n",
    "# (211983, 17) (879038, 17) (1091021, 17)\n",
    "# Classification:\n",
    "# Train\t 0.013003748601015594 0.00041964568072929657\n",
    "# Test\t 0.012212832403053436 0.001284301657597231\n",
    "# Regression:\n",
    "# Train\t 0.5051190421655127 0.015117351987881977\n",
    "# Test\t 0.46240187468554217 0.036515393198589194\n",
    "# 0.2373073535442978\n",
    "# 2500\n",
    "# (148150, 17) (942871, 17) (1091021, 17)\n",
    "# Classification:\n",
    "# Train\t 0.014340606526052336 0.0005575487381591637\n",
    "# Test\t 0.012661205056841124 0.0023962034225589956\n",
    "# Regression:\n",
    "# Train\t 0.5066962168557723 0.015257533653746441\n",
    "# Test\t 0.4640421932173437 0.03670719783895243\n",
    "# 0.23835169913709242\n",
    "# 2000\n",
    "# (100456, 17) (990565, 17) (1091021, 17)\n",
    "# Classification:\n",
    "# Train\t 0.016005714269079478 0.0007617559321862121\n",
    "# Test\t 0.015318456021413285 0.002668709208224399\n",
    "# Regression:\n",
    "# Train\t 0.5068023807651202 0.014190961973010398\n",
    "# Test\t 0.4640020232059955 0.0356420105391075\n",
    "# 0.2396602396137044\n",
    "# 1000\n",
    "# (23906, 17) (1067115, 17) (1091021, 17)\n",
    "# Classification:\n",
    "# Train\t 0.012703545948319666 0.0005490095579516091\n",
    "# Test\t 0.011083844797861201 0.001307461956030289\n",
    "# Regression:\n",
    "# Train\t 0.5076831617682902 0.014940686562873997\n",
    "# Test\t 0.4644092289732017 0.03448728003784514\n",
    "# 0.23774653688553143\n",
    "# Wall time: 1min 26s"
   ]
  },
  {
   "cell_type": "code",
   "execution_count": null,
   "metadata": {},
   "outputs": [],
   "source": []
  },
  {
   "cell_type": "markdown",
   "metadata": {},
   "source": [
    "# Submit"
   ]
  },
  {
   "cell_type": "code",
   "execution_count": 363,
   "metadata": {
    "scrolled": true
   },
   "outputs": [
    {
     "data": {
      "text/plain": [
       "RandomForestRegressor(max_depth=15, n_estimators=200, n_jobs=-1, random_state=0)"
      ]
     },
     "execution_count": 363,
     "metadata": {},
     "output_type": "execute_result"
    }
   ],
   "source": [
    "# clf.fit([X_train, X_test], [y_train[\"label\"], y_test['label']])\n",
    "# reg.fit([X_train, X_test], [y_train[\"time_to_under\"], y_test['time_to_under']])\n",
    "\n",
    "clf.fit(X, y['label'])\n",
    "reg.fit(X, y['time_to_under'])"
   ]
  },
  {
   "cell_type": "code",
   "execution_count": 114,
   "metadata": {
    "scrolled": true
   },
   "outputs": [],
   "source": [
    "valid = pd.read_csv(\"./test_dataset_test.csv\")\n",
    "valid, valid_idcol = modifydata(valid, 0)   # for test 0 is no matter\n",
    "\n",
    "X = getFeaturesAndOutput(valid)\n",
    "\n",
    "pred_class = clf.predict(X)\n",
    "pred_reg = reg.predict(X)\n",
    "\n",
    "#  for LGBM inverse transform of classes\n",
    "if type(clf) == lgb.sklearn.LGBMClassifier:\n",
    "    pred_class = le.inverse_transform(pred_class)"
   ]
  },
  {
   "cell_type": "code",
   "execution_count": 130,
   "metadata": {},
   "outputs": [
    {
     "data": {
      "text/html": [
       "<div>\n",
       "<style scoped>\n",
       "    .dataframe tbody tr th:only-of-type {\n",
       "        vertical-align: middle;\n",
       "    }\n",
       "\n",
       "    .dataframe tbody tr th {\n",
       "        vertical-align: top;\n",
       "    }\n",
       "\n",
       "    .dataframe thead th {\n",
       "        text-align: right;\n",
       "    }\n",
       "</style>\n",
       "<table border=\"1\" class=\"dataframe\">\n",
       "  <thead>\n",
       "    <tr style=\"text-align: right;\">\n",
       "      <th></th>\n",
       "      <th>id</th>\n",
       "      <th>time_to_under</th>\n",
       "      <th>label</th>\n",
       "    </tr>\n",
       "  </thead>\n",
       "  <tbody>\n",
       "    <tr>\n",
       "      <th>0</th>\n",
       "      <td>1091022</td>\n",
       "      <td>734.723198</td>\n",
       "      <td>5009</td>\n",
       "    </tr>\n",
       "    <tr>\n",
       "      <th>1</th>\n",
       "      <td>1091023</td>\n",
       "      <td>694.322033</td>\n",
       "      <td>3002</td>\n",
       "    </tr>\n",
       "    <tr>\n",
       "      <th>2</th>\n",
       "      <td>1091024</td>\n",
       "      <td>658.802570</td>\n",
       "      <td>5009</td>\n",
       "    </tr>\n",
       "    <tr>\n",
       "      <th>3</th>\n",
       "      <td>1091025</td>\n",
       "      <td>760.393197</td>\n",
       "      <td>5009</td>\n",
       "    </tr>\n",
       "    <tr>\n",
       "      <th>4</th>\n",
       "      <td>1091026</td>\n",
       "      <td>734.723198</td>\n",
       "      <td>5009</td>\n",
       "    </tr>\n",
       "  </tbody>\n",
       "</table>\n",
       "</div>"
      ],
      "text/plain": [
       "        id  time_to_under  label\n",
       "0  1091022     734.723198   5009\n",
       "1  1091023     694.322033   3002\n",
       "2  1091024     658.802570   5009\n",
       "3  1091025     760.393197   5009\n",
       "4  1091026     734.723198   5009"
      ]
     },
     "execution_count": 130,
     "metadata": {},
     "output_type": "execute_result"
    }
   ],
   "source": [
    "# submit_df = pd.DataFrame([valid.id, pred_reg, pred_class], columns=['id', 'time_to_under', 'label'])\n",
    "submit_df = pd.DataFrame(columns=['id', 'time_to_under', 'label'], index=None)\n",
    "# submit_df.set_index('id', inplace=True)\n",
    "\n",
    "submit_df['id'] = valid_idcol\n",
    "submit_df['time_to_under'] = pred_reg\n",
    "submit_df['label'] = pred_class\n",
    "\n",
    "submit_df.to_csv('submit.csv', index=False)\n",
    "\n",
    "submit_df.head()\n",
    "\n"
   ]
  }
 ],
 "metadata": {
  "colab": {
   "provenance": []
  },
  "kernelspec": {
   "display_name": "Python 3",
   "language": "python",
   "name": "python3"
  },
  "language_info": {
   "codemirror_mode": {
    "name": "ipython",
    "version": 3
   },
   "file_extension": ".py",
   "mimetype": "text/x-python",
   "name": "python",
   "nbconvert_exporter": "python",
   "pygments_lexer": "ipython3",
   "version": "3.7.3"
  },
  "toc": {
   "base_numbering": 1,
   "nav_menu": {},
   "number_sections": true,
   "sideBar": true,
   "skip_h1_title": false,
   "title_cell": "Table of Contents",
   "title_sidebar": "Contents",
   "toc_cell": false,
   "toc_position": {
    "height": "calc(100% - 180px)",
    "left": "10px",
    "top": "150px",
    "width": "512px"
   },
   "toc_section_display": true,
   "toc_window_display": true
  },
  "varInspector": {
   "cols": {
    "lenName": 16,
    "lenType": 16,
    "lenVar": 40
   },
   "kernels_config": {
    "python": {
     "delete_cmd_postfix": "",
     "delete_cmd_prefix": "del ",
     "library": "var_list.py",
     "varRefreshCmd": "print(var_dic_list())"
    },
    "r": {
     "delete_cmd_postfix": ") ",
     "delete_cmd_prefix": "rm(",
     "library": "var_list.r",
     "varRefreshCmd": "cat(var_dic_list()) "
    }
   },
   "position": {
    "height": "671.85px",
    "left": "2042px",
    "right": "20px",
    "top": "110px",
    "width": "499px"
   },
   "types_to_exclude": [
    "module",
    "function",
    "builtin_function_or_method",
    "instance",
    "_Feature"
   ],
   "window_display": true
  }
 },
 "nbformat": 4,
 "nbformat_minor": 1
}
